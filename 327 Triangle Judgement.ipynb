{
  "nbformat": 4,
  "nbformat_minor": 0,
  "metadata": {
    "colab": {
      "provenance": [],
      "authorship_tag": "ABX9TyOmDwkR6cDSvG+I6jxKEx5n",
      "include_colab_link": true
    },
    "kernelspec": {
      "name": "python3",
      "display_name": "Python 3"
    },
    "language_info": {
      "name": "python"
    }
  },
  "cells": [
    {
      "cell_type": "markdown",
      "metadata": {
        "id": "view-in-github",
        "colab_type": "text"
      },
      "source": [
        "<a href=\"https://colab.research.google.com/github/dkraynev/Tasks/blob/main/327_Triangle_Judgement.ipynb\" target=\"_parent\"><img src=\"https://colab.research.google.com/assets/colab-badge.svg\" alt=\"Open In Colab\"/></a>"
      ]
    },
    {
      "cell_type": "markdown",
      "source": [
        "Table: Triangle\n",
        "\n",
        "+-------------+------+\n",
        "| Column Name | Type |\n",
        "+-------------+------+\n",
        "| x           | int  |\n",
        "| y           | int  |\n",
        "| z           | int  |\n",
        "+-------------+------+\n",
        "In SQL, (x, y, z) is the primary key column for this table.\n",
        "Each row of this table contains the lengths of three line segments.\n",
        "\n",
        "\n",
        "Report for every three line segments whether they can form a triangle.\n",
        "\n",
        "Return the result table in any order.\n",
        "\n",
        "The result format is in the following example.\n",
        "\n",
        "\n",
        "\n",
        "Example 1:\n",
        "\n",
        "Input:\n",
        "Triangle table:\n",
        "+----+----+----+\n",
        "| x  | y  | z  |\n",
        "+----+----+----+\n",
        "| 13 | 15 | 30 |\n",
        "| 10 | 20 | 15 |\n",
        "+----+----+----+\n",
        "Output:\n",
        "+----+----+----+----------+\n",
        "| x  | y  | z  | triangle |\n",
        "+----+----+----+----------+\n",
        "| 13 | 15 | 30 | No       |\n",
        "| 10 | 20 | 15 | Yes      |\n",
        "+----+----+----+----------+"
      ],
      "metadata": {
        "id": "3kADJYcPbq69"
      }
    },
    {
      "cell_type": "code",
      "source": [
        "import pandas as pd"
      ],
      "metadata": {
        "id": "iN1KONfYUzey"
      },
      "execution_count": 1,
      "outputs": []
    },
    {
      "cell_type": "code",
      "source": [
        "def triangle_judgement(triangle: pd.DataFrame) -> pd.DataFrame:\n",
        "    def is_triangle(row):\n",
        "        x, y, z = row\n",
        "        if x + y > z and x + z > y and y + z > x:\n",
        "            result = 'Yes'\n",
        "        else:\n",
        "            result = 'No'\n",
        "        return result\n",
        "\n",
        "    triangle['triangle'] = triangle.apply(is_triangle, axis=1)\n",
        "\n",
        "    return triangle"
      ],
      "metadata": {
        "id": "QjI1eMwjj-xK"
      },
      "execution_count": 5,
      "outputs": []
    },
    {
      "cell_type": "code",
      "source": [
        "# Пример данных\n",
        "data = {\n",
        "    'x': [13, 10],\n",
        "    'y': [15, 20],\n",
        "    'z': [30, 15]\n",
        "}\n",
        "\n",
        "# Создание DataFrame\n",
        "df = pd.DataFrame(data)\n",
        "\n",
        "# Вызов функции\n",
        "result_df = triangle_judgement(df)\n",
        "\n",
        "# Вывод результата\n",
        "print(result_df)\n"
      ],
      "metadata": {
        "colab": {
          "base_uri": "https://localhost:8080/"
        },
        "id": "jttdjxA2kDkr",
        "outputId": "555518f8-3ac6-41c5-a23f-937edb20b1aa"
      },
      "execution_count": 6,
      "outputs": [
        {
          "output_type": "stream",
          "name": "stdout",
          "text": [
            "    x   y   z triangle\n",
            "0  13  15  30       No\n",
            "1  10  20  15      Yes\n"
          ]
        }
      ]
    },
    {
      "cell_type": "code",
      "source": [
        "data = {\n",
        "    'x': [13, 10],\n",
        "    'y': [15, 20],\n",
        "    'z': [30, 15]\n",
        "}\n",
        "\n",
        "df = pd.DataFrame(data)\n",
        "\n",
        "result_df = triangle_judgement(df)\n",
        "\n",
        "print(result_df)"
      ],
      "metadata": {
        "colab": {
          "base_uri": "https://localhost:8080/"
        },
        "id": "nT59SuF1ZOjw",
        "outputId": "05d1b4c3-3925-4840-bb19-c6ff8a60deb3"
      },
      "execution_count": 7,
      "outputs": [
        {
          "output_type": "stream",
          "name": "stdout",
          "text": [
            "    x   y   z triangle\n",
            "0  13  15  30       No\n",
            "1  10  20  15      Yes\n"
          ]
        }
      ]
    },
    {
      "cell_type": "code",
      "source": [
        "\n",
        "\n",
        "\n",
        "\n",
        "\n"
      ],
      "metadata": {
        "id": "a22CQWdKaPWs"
      },
      "execution_count": null,
      "outputs": []
    },
    {
      "cell_type": "code",
      "source": [
        "import pandas as pd"
      ],
      "metadata": {
        "id": "hnWVcbQAaSEh"
      },
      "execution_count": 12,
      "outputs": []
    },
    {
      "cell_type": "code",
      "source": [
        "def triangle_judgement(triangle: pd.DataFrame) -> pd.DataFrame:\n",
        "    def is_triangle(row):\n",
        "        x, y, z = row\n",
        "        if x + y > z and x + z > y and y + z > x:\n",
        "            result = 'Yes'\n",
        "        else:\n",
        "            result = 'No'\n",
        "        return result\n",
        "\n",
        "    triangle['triangle'] = triangle.apply(is_triangle, axis=1)\n",
        "    return triangle"
      ],
      "metadata": {
        "id": "FIiG3JDIaa9T"
      },
      "execution_count": 15,
      "outputs": []
    },
    {
      "cell_type": "code",
      "source": [
        "data = {\n",
        "    'x': [13, 10],\n",
        "    'y': [15, 20],\n",
        "    'z': [30, 15]\n",
        "}\n",
        "\n",
        "df = pd.DataFrame(data)\n",
        "df_result = triangle_judgement(df)\n",
        "\n",
        "print(df_result)"
      ],
      "metadata": {
        "colab": {
          "base_uri": "https://localhost:8080/"
        },
        "id": "VAIjo0avbcG9",
        "outputId": "959309b5-ede1-42e4-88af-3c4acb40ab88"
      },
      "execution_count": 16,
      "outputs": [
        {
          "output_type": "stream",
          "name": "stdout",
          "text": [
            "    x   y   z triangle\n",
            "0  13  15  30       No\n",
            "1  10  20  15      Yes\n"
          ]
        }
      ]
    },
    {
      "cell_type": "code",
      "source": [
        "\n",
        "\n",
        "\n",
        "\n",
        "\n"
      ],
      "metadata": {
        "id": "u8EOBVdWdIEm"
      },
      "execution_count": null,
      "outputs": []
    }
  ]
}
