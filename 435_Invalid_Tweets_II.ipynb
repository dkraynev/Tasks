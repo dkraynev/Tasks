{
  "nbformat": 4,
  "nbformat_minor": 0,
  "metadata": {
    "colab": {
      "provenance": [],
      "authorship_tag": "ABX9TyOz++RMuRzpNw79rQyMfMPf",
      "include_colab_link": true
    },
    "kernelspec": {
      "name": "python3",
      "display_name": "Python 3"
    },
    "language_info": {
      "name": "python"
    }
  },
  "cells": [
    {
      "cell_type": "markdown",
      "metadata": {
        "id": "view-in-github",
        "colab_type": "text"
      },
      "source": [
        "<a href=\"https://colab.research.google.com/github/dkraynev/Tasks/blob/main/435_Invalid_Tweets_II.ipynb\" target=\"_parent\"><img src=\"https://colab.research.google.com/assets/colab-badge.svg\" alt=\"Open In Colab\"/></a>"
      ]
    },
    {
      "cell_type": "code",
      "execution_count": null,
      "metadata": {
        "colab": {
          "base_uri": "https://localhost:8080/"
        },
        "id": "lxs3__BIBuhu",
        "outputId": "5955b932-481d-4809-8c73-b8113b5d1af8"
      },
      "outputs": [
        {
          "output_type": "stream",
          "name": "stdout",
          "text": [
            "   tweet_id\n",
            "0         1\n",
            "1         4\n"
          ]
        }
      ],
      "source": [
        "import pandas as pd\n",
        "\n",
        "# Sample data\n",
        "data = {\n",
        "    'tweet_id': [1, 2, 3, 4],\n",
        "    'content': [\n",
        "        \"Traveling, exploring, and living my best life @JaneSmith @SaraJohnson @LisaTaylor @MikeBrown #Foodie #Fitness #Learning\",\n",
        "        \"Just had the best dinner with friends! #Foodie #Friends #Fun\",\n",
        "        \"This is a valid tweet\",\n",
        "        \"Working hard on my new project #Work #Goals #Productivity #Fun\"\n",
        "    ]\n",
        "}\n",
        "tweets = pd.DataFrame(data)\n",
        "\n",
        "# Define function to find invalid tweets\n",
        "def find_invalid_tweets(tweets: pd.DataFrame) -> pd.DataFrame:\n",
        "    # Condition for tweet length exceeding 140 characters\n",
        "    length_condition = tweets['content'].str.len() > 140\n",
        "\n",
        "    # Condition for more than 3 mentions '@'\n",
        "    mentions_condition = tweets['content'].str.count('@') > 3\n",
        "\n",
        "    # Condition for more than 3 hashtags '#'\n",
        "    hashtags_condition = tweets['content'].str.count('#') > 3\n",
        "\n",
        "    # Filter tweets that satisfy any of the invalid conditions\n",
        "    invalid_tweets = tweets[length_condition | mentions_condition | hashtags_condition]\n",
        "\n",
        "    # Return only the tweet_id column, ordered by tweet_id\n",
        "    return invalid_tweets[['tweet_id']].sort_values(by='tweet_id').reset_index(drop=True)\n",
        "\n",
        "# Find invalid tweets\n",
        "invalid_tweets = find_invalid_tweets(tweets)\n",
        "print(invalid_tweets)\n"
      ]
    },
    {
      "cell_type": "code",
      "source": [
        "import pandas as pd\n",
        "\n",
        "# Sample data\n",
        "data = {\n",
        "    'tweet_id': [1, 2, 3, 4],\n",
        "    'content': [\n",
        "        \"Traveling, exploring, and living my best life @JaneSmith @SaraJohnson @LisaTaylor @MikeBrown #Foodie #Fitness #Learning\",\n",
        "        \"Just had the best dinner with friends! #Foodie #Friends #Fun\",\n",
        "        \"This is a valid tweet\",\n",
        "        \"Working hard on my new project #Work #Goals #Productivity #Fun\"\n",
        "    ]\n",
        "}\n",
        "\n",
        "tweets = pd.DataFrame(data)\n",
        "print(tweets)\n",
        "print()\n",
        "\n",
        "def find_invalid_tweets(tweets):\n",
        "    length_condition = tweets['content'].str.len() > 140\n",
        "    mention_condition = tweets['content'].str.count('@') > 3\n",
        "    hashtag_condition = tweets['content'].str.count('#') > 3\n",
        "    invalid_tweets = tweets[length_condition | mention_condition | hashtag_condition]\n",
        "    invalid_tweets = invalid_tweets.sort_values(by='tweet_id', ascending=True)\n",
        "    return invalid_tweets[['tweet_id']]\n",
        "\n",
        "invalid_tweets = find_invalid_tweets(tweets)\n",
        "print(invalid_tweets)"
      ],
      "metadata": {
        "colab": {
          "base_uri": "https://localhost:8080/"
        },
        "id": "dK7sEMwIDXYv",
        "outputId": "2d625da3-6b70-4365-e94f-6e05877dbac1"
      },
      "execution_count": null,
      "outputs": [
        {
          "output_type": "stream",
          "name": "stdout",
          "text": [
            "   tweet_id                                            content\n",
            "0         1  Traveling, exploring, and living my best life ...\n",
            "1         2  Just had the best dinner with friends! #Foodie...\n",
            "2         3                              This is a valid tweet\n",
            "3         4  Working hard on my new project #Work #Goals #P...\n",
            "\n",
            "   tweet_id\n",
            "0         1\n",
            "3         4\n"
          ]
        }
      ]
    },
    {
      "cell_type": "code",
      "source": [
        "import pandas as pd\n",
        "\n",
        "def find_invalid_tweets(tweets: pd.DataFrame) -> pd.DataFrame:\n",
        "    invalid_tweets = tweets[\n",
        "        (tweets['content'].str.len() > 140) |\n",
        "       (tweets['content'].str.count('@') > 3) |\n",
        "        (tweets['content'].str.count('#') > 3)\n",
        "    ].sort_values(by='tweet_id', ascending=True)[['tweet_id']]\n",
        "    return invalid_tweets"
      ],
      "metadata": {
        "id": "Y_MygFEzPILT"
      },
      "execution_count": null,
      "outputs": []
    },
    {
      "cell_type": "code",
      "source": [
        "# Sample data\n",
        "data = {\n",
        "    'tweet_id': [1, 2, 3, 4],\n",
        "    'content': [\n",
        "        \"Traveling, exploring, and living my best life @JaneSmith @SaraJohnson @LisaTaylor @MikeBrown #Foodie #Fitness #Learning\",\n",
        "        \"Just had the best dinner with friends! #Foodie #Friends #Fun\",\n",
        "        \"This is a valid tweet\",\n",
        "        \"Working hard on my new project #Work #Goals #Productivity #Fun\"\n",
        "    ]\n",
        "}\n",
        "\n",
        "tweets = pd.DataFrame(data)\n",
        "print(tweets)\n",
        "print()"
      ],
      "metadata": {
        "colab": {
          "base_uri": "https://localhost:8080/"
        },
        "id": "ZNR9WTYiPQff",
        "outputId": "1e899159-c267-471c-994b-ed3b810b7d5c"
      },
      "execution_count": null,
      "outputs": [
        {
          "output_type": "stream",
          "name": "stdout",
          "text": [
            "   tweet_id                                            content\n",
            "0         1  Traveling, exploring, and living my best life ...\n",
            "1         2  Just had the best dinner with friends! #Foodie...\n",
            "2         3                              This is a valid tweet\n",
            "3         4  Working hard on my new project #Work #Goals #P...\n",
            "\n"
          ]
        }
      ]
    },
    {
      "cell_type": "code",
      "source": [
        "invalid_tweets = find_invalid_tweets(tweets)\n",
        "print(invalid_tweets)"
      ],
      "metadata": {
        "colab": {
          "base_uri": "https://localhost:8080/"
        },
        "id": "pSkvrDXDPSXw",
        "outputId": "b2ac364e-685e-455c-8d1a-fc1502097355"
      },
      "execution_count": null,
      "outputs": [
        {
          "output_type": "stream",
          "name": "stdout",
          "text": [
            "Empty DataFrame\n",
            "Columns: [tweet_id]\n",
            "Index: []\n"
          ]
        }
      ]
    },
    {
      "cell_type": "code",
      "source": [
        "import pandas as pd\n",
        "\n",
        "def find_invalid_tweets(tweets):\n",
        "    return tweets[\n",
        "        (tweets['content'].str.len() > 140) |\n",
        "        (tweets['content'].str.count('@') > 3) |\n",
        "        (tweets['content'].str.count('#') > 3)\n",
        "    ].sort_values(by='tweet_id', ascending=True)[['tweet_id']]"
      ],
      "metadata": {
        "id": "VBk5iZm2P-Cg"
      },
      "execution_count": 25,
      "outputs": []
    },
    {
      "cell_type": "code",
      "source": [
        "import pandas as pd\n",
        "\n",
        "def find_invalid_tweets(tweets):\n",
        "    return tweets[\n",
        "        (tweets['content'].str.len() > 140) |\n",
        "        (tweets['content'].str.count('@') > 3) |\n",
        "        (tweets['content'].str.count('#') > 3)\n",
        "    ].sort_values(by='tweet_id', ascending=True)[['tweet_id']]"
      ],
      "metadata": {
        "id": "IStzEVyI6fOI"
      },
      "execution_count": 29,
      "outputs": []
    },
    {
      "cell_type": "code",
      "source": [
        "# Пример данных\n",
        "data = {\n",
        "    'tweet_id': [1, 2, 3, 4],\n",
        "    'content': [\n",
        "        \"This is a valid tweet with a mention @user1\",\n",
        "        \"Too many mentions here: @user1 @user2 @user3 @user4\",\n",
        "        None,\n",
        "        \"This one has too many hashtags #tag1 #tag2 #tag3 #tag4\"\n",
        "    ]\n",
        "}\n",
        "tweets = pd.DataFrame(data)\n",
        "\n",
        "# Вызов функции\n",
        "invalid_tweets = find_invalid_tweets(tweets)\n",
        "print(invalid_tweets)\n"
      ],
      "metadata": {
        "colab": {
          "base_uri": "https://localhost:8080/"
        },
        "id": "1HHY1L59M9WK",
        "outputId": "fe4e4da6-85f3-4a15-859e-eb51fb47da9a"
      },
      "execution_count": 30,
      "outputs": [
        {
          "output_type": "stream",
          "name": "stdout",
          "text": [
            "   tweet_id\n",
            "1         2\n",
            "3         4\n"
          ]
        }
      ]
    }
  ]
}