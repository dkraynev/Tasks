{
  "nbformat": 4,
  "nbformat_minor": 0,
  "metadata": {
    "colab": {
      "provenance": [],
      "authorship_tag": "ABX9TyNFhq4nl4dwBj3JzH6OAAmJ",
      "include_colab_link": true
    },
    "kernelspec": {
      "name": "python3",
      "display_name": "Python 3"
    },
    "language_info": {
      "name": "python"
    }
  },
  "cells": [
    {
      "cell_type": "markdown",
      "metadata": {
        "id": "view-in-github",
        "colab_type": "text"
      },
      "source": [
        "<a href=\"https://colab.research.google.com/github/dkraynev/Tasks/blob/main/600_Pandas_15.ipynb\" target=\"_parent\"><img src=\"https://colab.research.google.com/assets/colab-badge.svg\" alt=\"Open In Colab\"/></a>"
      ]
    },
    {
      "cell_type": "code",
      "execution_count": null,
      "metadata": {
        "id": "i-1e0vkHCp7u"
      },
      "outputs": [],
      "source": [
        "import pandas as pd\n",
        "\n",
        "def createDataframe(student_data: List[List[int]]) -> pd.DataFrame:\n",
        "    df = pd.DataFrame(student_data, columns=['student_id', 'age'])\n",
        "    return df"
      ]
    },
    {
      "cell_type": "code",
      "source": [
        "import pandas as pd\n",
        "\n",
        "def getDataframeSize(players: pd.DataFrame) -> List[int]:\n",
        "    x  = [0,0]\n",
        "    x[0], x[1] = players.shape\n",
        "    return x"
      ],
      "metadata": {
        "id": "Z-EU1I0mDTiu"
      },
      "execution_count": null,
      "outputs": []
    },
    {
      "cell_type": "code",
      "source": [
        "import pandas as pd\n",
        "\n",
        "def selectFirstRows(employees: pd.DataFrame) -> pd.DataFrame:\n",
        "    return employees[0:3]"
      ],
      "metadata": {
        "id": "D2LuIqkxXTUa"
      },
      "execution_count": null,
      "outputs": []
    },
    {
      "cell_type": "code",
      "source": [
        "import pandas as pd\n",
        "\n",
        "def selectData(students: pd.DataFrame) -> pd.DataFrame:\n",
        "    return students.query('student_id == 101')[['name','age']]"
      ],
      "metadata": {
        "id": "ZMMTG4BlYcIK"
      },
      "execution_count": null,
      "outputs": []
    },
    {
      "cell_type": "code",
      "source": [
        "import pandas as pd\n",
        "\n",
        "def createBonusColumn(employees: pd.DataFrame) -> pd.DataFrame:\n",
        "    employees[['bonus']] = employees[['salary']] * 2\n",
        "    return employees"
      ],
      "metadata": {
        "id": "eJ6O7ethkuXz"
      },
      "execution_count": null,
      "outputs": []
    },
    {
      "cell_type": "code",
      "source": [
        "import pandas as pd\n",
        "\n",
        "def dropDuplicateEmails(customers: pd.DataFrame) -> pd.DataFrame:\n",
        "    customers = customers.drop_duplicates(subset='email', keep = 'first')\n",
        "    return customers"
      ],
      "metadata": {
        "id": "5ueGy8aAlFIv"
      },
      "execution_count": null,
      "outputs": []
    },
    {
      "cell_type": "code",
      "source": [
        "import pandas as pd\n",
        "\n",
        "def dropMissingData(students: pd.DataFrame) -> pd.DataFrame:\n",
        "    return students.dropna(subset='name')"
      ],
      "metadata": {
        "id": "nvHqKXCulcoL"
      },
      "execution_count": null,
      "outputs": []
    },
    {
      "cell_type": "code",
      "source": [
        "import pandas as pd\n",
        "\n",
        "def modifySalaryColumn(employees: pd.DataFrame) -> pd.DataFrame:\n",
        "    employees[['salary']] = employees[['salary']] * 2\n",
        "    return employees"
      ],
      "metadata": {
        "id": "_GeuULh13_ib"
      },
      "execution_count": null,
      "outputs": []
    }
  ]
}