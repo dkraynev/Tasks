{
  "nbformat": 4,
  "nbformat_minor": 0,
  "metadata": {
    "colab": {
      "provenance": [],
      "authorship_tag": "ABX9TyNSRgJngD256bpaEpDp+2j/",
      "include_colab_link": true
    },
    "kernelspec": {
      "name": "python3",
      "display_name": "Python 3"
    },
    "language_info": {
      "name": "python"
    }
  },
  "cells": [
    {
      "cell_type": "markdown",
      "metadata": {
        "id": "view-in-github",
        "colab_type": "text"
      },
      "source": [
        "<a href=\"https://colab.research.google.com/github/dkraynev/Tasks/blob/main/600_Pandas_15.ipynb\" target=\"_parent\"><img src=\"https://colab.research.google.com/assets/colab-badge.svg\" alt=\"Open In Colab\"/></a>"
      ]
    },
    {
      "cell_type": "code",
      "execution_count": null,
      "metadata": {
        "id": "i-1e0vkHCp7u"
      },
      "outputs": [],
      "source": [
        "import pandas as pd\n",
        "\n",
        "def createDataframe(student_data: List[List[int]]) -> pd.DataFrame:\n",
        "    df = pd.DataFrame(student_data, columns=['student_id', 'age'])\n",
        "    return df"
      ]
    },
    {
      "cell_type": "code",
      "source": [
        "import pandas as pd\n",
        "\n",
        "def getDataframeSize(players: pd.DataFrame) -> List[int]:\n",
        "    x  = [0,0]\n",
        "    x[0], x[1] = players.shape\n",
        "    return x"
      ],
      "metadata": {
        "id": "Z-EU1I0mDTiu"
      },
      "execution_count": null,
      "outputs": []
    },
    {
      "cell_type": "code",
      "source": [
        "import pandas as pd\n",
        "\n",
        "def selectFirstRows(employees: pd.DataFrame) -> pd.DataFrame:\n",
        "    return employees[0:3]"
      ],
      "metadata": {
        "id": "D2LuIqkxXTUa"
      },
      "execution_count": null,
      "outputs": []
    },
    {
      "cell_type": "code",
      "source": [
        "import pandas as pd\n",
        "\n",
        "def selectData(students: pd.DataFrame) -> pd.DataFrame:\n",
        "    return students.query('student_id == 101')[['name','age']]"
      ],
      "metadata": {
        "id": "ZMMTG4BlYcIK"
      },
      "execution_count": null,
      "outputs": []
    },
    {
      "cell_type": "code",
      "source": [
        "import pandas as pd\n",
        "\n",
        "def createBonusColumn(employees: pd.DataFrame) -> pd.DataFrame:\n",
        "    employees[['bonus']] = employees[['salary']] * 2\n",
        "    return employees"
      ],
      "metadata": {
        "id": "eJ6O7ethkuXz"
      },
      "execution_count": null,
      "outputs": []
    },
    {
      "cell_type": "code",
      "source": [
        "import pandas as pd\n",
        "\n",
        "def dropDuplicateEmails(customers: pd.DataFrame) -> pd.DataFrame:\n",
        "    customers = customers.drop_duplicates(subset='email', keep = 'first')\n",
        "    return customers"
      ],
      "metadata": {
        "id": "5ueGy8aAlFIv"
      },
      "execution_count": null,
      "outputs": []
    },
    {
      "cell_type": "code",
      "source": [
        "import pandas as pd\n",
        "\n",
        "def dropMissingData(students: pd.DataFrame) -> pd.DataFrame:\n",
        "    return students.dropna(subset='name')"
      ],
      "metadata": {
        "id": "nvHqKXCulcoL"
      },
      "execution_count": null,
      "outputs": []
    },
    {
      "cell_type": "code",
      "source": [
        "import pandas as pd\n",
        "\n",
        "def modifySalaryColumn(employees: pd.DataFrame) -> pd.DataFrame:\n",
        "    employees[['salary']] = employees[['salary']] * 2\n",
        "    return employees"
      ],
      "metadata": {
        "id": "_GeuULh13_ib"
      },
      "execution_count": null,
      "outputs": []
    },
    {
      "cell_type": "code",
      "source": [
        "import pandas as pd\n",
        "\n",
        "def renameColumns(students: pd.DataFrame) -> pd.DataFrame:\n",
        "    df = students.rename(columns={\n",
        "        'id': 'student_id',\n",
        "        'first': 'first_name',\n",
        "        'last': 'last_name',\n",
        "        'age': 'age_in_years'\n",
        "    })\n",
        "    return df"
      ],
      "metadata": {
        "id": "5-cn8no861Ln"
      },
      "execution_count": null,
      "outputs": []
    },
    {
      "cell_type": "code",
      "source": [
        "import pandas as pd\n",
        "\n",
        "def changeDatatype(students: pd.DataFrame) -> pd.DataFrame:\n",
        "    students[['grade']] = students[['grade']].astype('int')\n",
        "    return students"
      ],
      "metadata": {
        "id": "OqmF1ZpC9prD"
      },
      "execution_count": null,
      "outputs": []
    },
    {
      "cell_type": "code",
      "source": [
        "import pandas as pd\n",
        "\n",
        "def fillMissingValues(products: pd.DataFrame) -> pd.DataFrame:\n",
        "    products[['quantity']] = products[['quantity']].fillna(0)\n",
        "    return products"
      ],
      "metadata": {
        "id": "-yTS4UbSMDqr"
      },
      "execution_count": null,
      "outputs": []
    },
    {
      "cell_type": "code",
      "source": [
        "import pandas as pd\n",
        "\n",
        "def concatenateTables(df1: pd.DataFrame, df2: pd.DataFrame) -> pd.DataFrame:\n",
        "    df3 = pd.concat([df1, df2])\n",
        "    return df3"
      ],
      "metadata": {
        "id": "z4e7X5WAVEmM"
      },
      "execution_count": null,
      "outputs": []
    },
    {
      "cell_type": "code",
      "source": [
        "import pandas as pd\n",
        "\n",
        "def pivotTable(weather: pd.DataFrame) -> pd.DataFrame:\n",
        "    df = weather.pivot(index='month', columns='city', values='temperature')\n",
        "    return df"
      ],
      "metadata": {
        "id": "qbWCCUzTVPr2"
      },
      "execution_count": null,
      "outputs": []
    },
    {
      "cell_type": "code",
      "source": [
        "import pandas as pd\n",
        "\n",
        "def meltTable(report: pd.DataFrame) -> pd.DataFrame:\n",
        "    df = pd.melt(report, id_vars='product', var_name='quarter', value_name='sales')\n",
        "    return df"
      ],
      "metadata": {
        "id": "W_etava3VVd2"
      },
      "execution_count": null,
      "outputs": []
    },
    {
      "cell_type": "code",
      "source": [
        "import pandas as pd\n",
        "\n",
        "def findHeavyAnimals(animals: pd.DataFrame) -> pd.DataFrame:\n",
        "    animals = animals.query('weight > 100')\n",
        "    animals = animals.sort_values(by='weight', ascending=False)\n",
        "    animals = animals[['name']]\n",
        "    return animals"
      ],
      "metadata": {
        "id": "tJKGSAefVbwh"
      },
      "execution_count": null,
      "outputs": []
    }
  ]
}