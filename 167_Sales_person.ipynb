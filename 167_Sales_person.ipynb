{
  "nbformat": 4,
  "nbformat_minor": 0,
  "metadata": {
    "colab": {
      "provenance": [],
      "authorship_tag": "ABX9TyMAznDKBYnwChk230xiAzB3",
      "include_colab_link": true
    },
    "kernelspec": {
      "name": "python3",
      "display_name": "Python 3"
    },
    "language_info": {
      "name": "python"
    }
  },
  "cells": [
    {
      "cell_type": "markdown",
      "metadata": {
        "id": "view-in-github",
        "colab_type": "text"
      },
      "source": [
        "<a href=\"https://colab.research.google.com/github/dkraynev/Tasks/blob/main/167_Sales_person.ipynb\" target=\"_parent\"><img src=\"https://colab.research.google.com/assets/colab-badge.svg\" alt=\"Open In Colab\"/></a>"
      ]
    },
    {
      "cell_type": "code",
      "execution_count": null,
      "metadata": {
        "id": "o57T70lOjrC1"
      },
      "outputs": [],
      "source": [
        "import pandas as pd\n",
        "\n",
        "def sales_person(sales_person: pd.DataFrame, company: pd.DataFrame, orders: pd.DataFrame) -> pd.DataFrame:\n",
        "    filtred = company.loc[company['name'] == 'RED', 'com_id']\n",
        "    if filtred.empty:\n",
        "        result = sales_person[['name']]\n",
        "    else:\n",
        "        red_company_id = company.loc[company['name'] == 'RED', 'com_id'].iloc[0]\n",
        "        red_sales_id = orders.loc[orders['com_id'] == red_company_id, 'sales_id'].unique()\n",
        "        result = sales_person.loc[~sales_person['sales_id'].isin(red_sales_id), ['name']]\n",
        "\n",
        "    return result"
      ]
    }
  ]
}