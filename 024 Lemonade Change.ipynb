{
  "nbformat": 4,
  "nbformat_minor": 0,
  "metadata": {
    "colab": {
      "provenance": [],
      "authorship_tag": "ABX9TyOvIp2XJZYhqFNPuDpgvHiu",
      "include_colab_link": true
    },
    "kernelspec": {
      "name": "python3",
      "display_name": "Python 3"
    },
    "language_info": {
      "name": "python"
    }
  },
  "cells": [
    {
      "cell_type": "markdown",
      "metadata": {
        "id": "view-in-github",
        "colab_type": "text"
      },
      "source": [
        "<a href=\"https://colab.research.google.com/github/dkraynev/Tasks/blob/main/024_Lemonade_Change.ipynb\" target=\"_parent\"><img src=\"https://colab.research.google.com/assets/colab-badge.svg\" alt=\"Open In Colab\"/></a>"
      ]
    },
    {
      "cell_type": "markdown",
      "source": [
        "At a lemonade stand, each lemonade costs $5. Customers are standing in a queue to buy from you and order one at a time (in the order specified by bills). Each customer will only buy one lemonade and pay with either a $5, $10, or $20 bill. You must provide the correct change to each customer so that the net transaction is that the customer pays $5.\n",
        "\n",
        "Note that you do not have any change in hand at first.\n",
        "\n",
        "Given an integer array bills where bills[i] is the bill the ith customer pays, return true if you can provide every customer with the correct change, or false otherwise.\n",
        "\n",
        "\n",
        "\n",
        "Example 1:\n",
        "\n",
        "Input: bills = [5,5,5,10,20]\n",
        "Output: true\n",
        "Explanation:\n",
        "From the first 3 customers, we collect three $5 bills in order.\n",
        "From the fourth customer, we collect a $10 bill and give back a $5.\n",
        "From the fifth customer, we give a $10 bill and a $5 bill.\n",
        "Since all customers got correct change, we output true.\n",
        "Example 2:\n",
        "\n",
        "Input: bills = [5,5,10,10,20]\n",
        "Output: false\n",
        "Explanation:\n",
        "From the first two customers in order, we collect two $5 bills.\n",
        "For the next two customers in order, we collect a $10 bill and give back a $5 bill.\n",
        "For the last customer, we can not give the change of $15 back because we only have two $10 bills.\n",
        "Since not every customer received the correct change, the answer is false.\n",
        "\n",
        "\n",
        "Constraints:\n",
        "\n",
        "1 <= bills.length <= 105\n",
        "bills[i] is either 5, 10, or 20."
      ],
      "metadata": {
        "id": "MGytt66zGAzz"
      }
    },
    {
      "cell_type": "code",
      "execution_count": null,
      "metadata": {
        "id": "n--b_qH8e7FV"
      },
      "outputs": [],
      "source": [
        "class Solution:\n",
        "    def lemonadeChange(self, bills):\n",
        "        # Количество купюр номиналом 5, 10 и 20 соответственно.\n",
        "        b5 = 0\n",
        "        b10 = 0\n",
        "\n",
        "        for bill in bills:\n",
        "            if bill == 20:\n",
        "                if b10 > 0 and b5 > 0:\n",
        "                    b10 -= 1\n",
        "                    b5 -= 1\n",
        "                elif b5 >= 3:\n",
        "                    b5 -=3\n",
        "                else:\n",
        "                    return False\n",
        "            elif bill == 10:\n",
        "                if b5 > 0:\n",
        "                    b5 -= 1\n",
        "                    b10 += 1\n",
        "                else:\n",
        "                    return False\n",
        "            else:\n",
        "                b5 += 1\n",
        "\n",
        "        return True"
      ]
    },
    {
      "cell_type": "code",
      "source": [
        "class Solution:\n",
        "    def lemonadeChange(self, bills):\n",
        "        b5 = 0\n",
        "        b10 = 0\n",
        "\n",
        "        for bill in bills:\n",
        "            if bill == 5:\n",
        "                b5 += 1\n",
        "            elif bill == 10:\n",
        "                if b5 > 0:\n",
        "                    b5 -= 1\n",
        "                    b10 += 1\n",
        "                else:\n",
        "                    return False\n",
        "            else:\n",
        "                if b10 > 0 and b5 > 0:\n",
        "                    b10 -= 1\n",
        "                    b5 -= 1\n",
        "                elif b5 >= 3:\n",
        "                    b5 -=3\n",
        "                else:\n",
        "                    return False\n",
        "\n",
        "        return True"
      ],
      "metadata": {
        "id": "e4SAaRNXKq4J"
      },
      "execution_count": null,
      "outputs": []
    },
    {
      "cell_type": "code",
      "source": [
        "prov = Solution()\n",
        "\n",
        "# Example 1:\n",
        "bills = [5,5,5,10,20]\n",
        "# Output:\n",
        "print(prov.lemonadeChange(bills))\n",
        "\n",
        "# Example 2:\n",
        "bills = [5,5,10,10,20]\n",
        "# Output:\n",
        "print(prov.lemonadeChange(bills))"
      ],
      "metadata": {
        "colab": {
          "base_uri": "https://localhost:8080/"
        },
        "id": "9ljSgA8K_jtI",
        "outputId": "31975484-788f-4d49-ee7b-27ec7c00eb9e"
      },
      "execution_count": null,
      "outputs": [
        {
          "output_type": "stream",
          "name": "stdout",
          "text": [
            "True\n",
            "False\n"
          ]
        }
      ]
    }
  ]
}
