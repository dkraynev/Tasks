{
  "nbformat": 4,
  "nbformat_minor": 0,
  "metadata": {
    "colab": {
      "provenance": [],
      "authorship_tag": "ABX9TyOocmwzFroM0g9RQpHju6dv",
      "include_colab_link": true
    },
    "kernelspec": {
      "name": "python3",
      "display_name": "Python 3"
    },
    "language_info": {
      "name": "python"
    }
  },
  "cells": [
    {
      "cell_type": "markdown",
      "metadata": {
        "id": "view-in-github",
        "colab_type": "text"
      },
      "source": [
        "<a href=\"https://colab.research.google.com/github/dkraynev/Tasks/blob/main/323_Find_Followers_Count.ipynb\" target=\"_parent\"><img src=\"https://colab.research.google.com/assets/colab-badge.svg\" alt=\"Open In Colab\"/></a>"
      ]
    },
    {
      "cell_type": "markdown",
      "source": [
        "Table: Followers\n",
        "\n",
        "+-------------+------+\n",
        "| Column Name | Type |\n",
        "+-------------+------+\n",
        "| user_id     | int  |\n",
        "| follower_id | int  |\n",
        "+-------------+------+\n",
        "(user_id, follower_id) is the primary key (combination of columns with unique values) for this table.\n",
        "This table contains the IDs of a user and a follower in a social media app where the follower follows the user.\n",
        "\n",
        "\n",
        "Write a solution that will, for each user, return the number of followers.\n",
        "\n",
        "Return the result table ordered by user_id in ascending order.\n",
        "\n",
        "The result format is in the following example.\n",
        "\n",
        "\n",
        "\n",
        "Example 1:\n",
        "\n",
        "Input:\n",
        "Followers table:\n",
        "+---------+-------------+\n",
        "| user_id | follower_id |\n",
        "+---------+-------------+\n",
        "| 0       | 1           |\n",
        "| 1       | 0           |\n",
        "| 2       | 0           |\n",
        "| 2       | 1           |\n",
        "+---------+-------------+\n",
        "Output:\n",
        "+---------+----------------+\n",
        "| user_id | followers_count|\n",
        "+---------+----------------+\n",
        "| 0       | 1              |\n",
        "| 1       | 1              |\n",
        "| 2       | 2              |\n",
        "+---------+----------------+\n",
        "Explanation:\n",
        "The followers of 0 are {1}\n",
        "The followers of 1 are {0}\n",
        "The followers of 2 are {0,1}"
      ],
      "metadata": {
        "id": "3kADJYcPbq69"
      }
    },
    {
      "cell_type": "code",
      "source": [
        "import pandas as pd\n",
        "\n",
        "def count_followers(followers: pd.DataFrame) -> pd.DataFrame:\n",
        "    # Группируем по user_id и считаем количество подписчиков для каждого пользователя\n",
        "    result = followers.groupby('user_id').size().reset_index(name='followers_count')\n",
        "\n",
        "    # Сортируем результат по user_id по возрастанию\n",
        "    result = result.sort_values(by='user_id').reset_index(drop=True)\n",
        "\n",
        "    return result"
      ],
      "metadata": {
        "id": "ZROairm1bvdc"
      },
      "execution_count": null,
      "outputs": []
    },
    {
      "cell_type": "code",
      "source": [
        "import pandas as pd\n",
        "\n",
        "def count_followers(followers: pd.DataFrame) -> pd.DataFrame:\n",
        "    result = followers.groupby('user_id').size().reset_index(name='followers_count')\n",
        "    result = result.sort_values(by='user_id').reset_index(drop=True)\n",
        "\n",
        "    return result"
      ],
      "metadata": {
        "id": "fs0jpTTUkfiT"
      },
      "execution_count": null,
      "outputs": []
    },
    {
      "cell_type": "code",
      "source": [
        "# Пример данных\n",
        "data = {'user_id': [0, 1, 2, 2], 'follower_id': [1, 0, 0, 1]}\n",
        "followers = pd.DataFrame(data)\n",
        "\n",
        "\n",
        "print(followers)\n",
        "print()\n",
        "# Применяем функцию\n",
        "result = count_followers(followers)\n",
        "print(result)"
      ],
      "metadata": {
        "id": "kccDEp6R-WCF",
        "colab": {
          "base_uri": "https://localhost:8080/"
        },
        "outputId": "f6ecdfba-64c1-42a1-f56e-f036049dab23"
      },
      "execution_count": null,
      "outputs": [
        {
          "output_type": "stream",
          "name": "stdout",
          "text": [
            "   user_id  follower_id\n",
            "0        0            1\n",
            "1        1            0\n",
            "2        2            0\n",
            "3        2            1\n",
            "\n",
            "   user_id  followers_count\n",
            "0        0                1\n",
            "1        1                1\n",
            "2        2                2\n"
          ]
        }
      ]
    },
    {
      "cell_type": "code",
      "source": [
        "import pandas as pd\n",
        "def count_followers(followers: pd.DataFrame) -> pd.DataFrame:\n",
        "    result = followers.groupby('user_id').size().reset_index(name='followers_count')\n",
        "    result = result.sort_values(by='user_id').reset_index(drop=True)\n",
        "    return result"
      ],
      "metadata": {
        "id": "ke_UknPMn4Z9"
      },
      "execution_count": null,
      "outputs": []
    },
    {
      "cell_type": "code",
      "source": [
        "# Пример данных\n",
        "data = {'user_id': [0, 1, 2, 2], 'follower_id': [1, 0, 0, 1]}\n",
        "followers = pd.DataFrame(data)\n",
        "\n",
        "\n",
        "print(followers)\n",
        "print()\n",
        "# Применяем функцию\n",
        "result = count_followers(followers)\n",
        "print(result)"
      ],
      "metadata": {
        "colab": {
          "base_uri": "https://localhost:8080/"
        },
        "id": "I9GW-lp0otkL",
        "outputId": "99304b77-64d3-4d18-8948-20c0a0e6b729"
      },
      "execution_count": null,
      "outputs": [
        {
          "output_type": "stream",
          "name": "stdout",
          "text": [
            "   user_id  follower_id\n",
            "0        0            1\n",
            "1        1            0\n",
            "2        2            0\n",
            "3        2            1\n",
            "\n",
            "   user_id  followers_count\n",
            "0        0                1\n",
            "1        1                1\n",
            "2        2                2\n"
          ]
        }
      ]
    },
    {
      "cell_type": "code",
      "source": [
        "import pandas as pd\n",
        "\n",
        "def count_followers(followers: pd.DataFrame) -> pd.DataFrame:\n",
        "    result = followers.groupby('user_id').size().reset_index(name='followers_count')\n",
        "    result = result.sort_values(by='user_id').reset_index(drop=True)\n",
        "    return result"
      ],
      "metadata": {
        "id": "ddGp_zbm1SxE"
      },
      "execution_count": null,
      "outputs": []
    },
    {
      "cell_type": "code",
      "source": [
        "# Пример данных\n",
        "data = {'user_id': [0, 1, 2, 2], 'follower_id': [1, 0, 0, 1]}\n",
        "followers = pd.DataFrame(data)\n",
        "\n",
        "\n",
        "print(followers)\n",
        "print()\n",
        "# Применяем функцию\n",
        "result = count_followers(followers)\n",
        "print(result)"
      ],
      "metadata": {
        "colab": {
          "base_uri": "https://localhost:8080/"
        },
        "id": "g0I2xvq-iHS_",
        "outputId": "5ccc9207-f5e4-4957-d748-7762675211e9"
      },
      "execution_count": null,
      "outputs": [
        {
          "output_type": "stream",
          "name": "stdout",
          "text": [
            "   user_id  follower_id\n",
            "0        0            1\n",
            "1        1            0\n",
            "2        2            0\n",
            "3        2            1\n",
            "\n",
            "   user_id  followers_count\n",
            "0        0                1\n",
            "1        1                1\n",
            "2        2                2\n"
          ]
        }
      ]
    }
  ]
}