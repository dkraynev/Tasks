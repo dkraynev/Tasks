{
  "nbformat": 4,
  "nbformat_minor": 0,
  "metadata": {
    "colab": {
      "provenance": [],
      "authorship_tag": "ABX9TyPY85mQpsEYxczxTydBkDvU",
      "include_colab_link": true
    },
    "kernelspec": {
      "name": "python3",
      "display_name": "Python 3"
    },
    "language_info": {
      "name": "python"
    }
  },
  "cells": [
    {
      "cell_type": "markdown",
      "metadata": {
        "id": "view-in-github",
        "colab_type": "text"
      },
      "source": [
        "<a href=\"https://colab.research.google.com/github/dkraynev/Tasks/blob/main/615_Method_Chaining.ipynb\" target=\"_parent\"><img src=\"https://colab.research.google.com/assets/colab-badge.svg\" alt=\"Open In Colab\"/></a>"
      ]
    },
    {
      "cell_type": "code",
      "source": [
        "import pandas as pd"
      ],
      "metadata": {
        "id": "HaQMib4P4Af6"
      },
      "execution_count": null,
      "outputs": []
    },
    {
      "cell_type": "code",
      "source": [
        "def findHeavyAnimals(animals):\n",
        "    animals = animals.query('weight > 100').sort_values(by='weight', ascending=False)[['name']]\n",
        "    return animals"
      ],
      "metadata": {
        "id": "1USHr_H54Vdm"
      },
      "execution_count": null,
      "outputs": []
    },
    {
      "cell_type": "code",
      "source": [
        "# Пример DataFrame animals\n",
        "data = {\n",
        "    'name': ['Tatiana', 'Khaled', 'Alex', 'Jonathan', 'Stefan', 'Tommy'],\n",
        "    'species': ['Snake', 'Giraffe', 'Leopard', 'Monkey', 'Bear', 'Panda'],\n",
        "    'age': [98, 50, 6, 45, 100, 26],\n",
        "    'weight': [464, 41, 328, 463, 50, 349]\n",
        "}\n",
        "\n",
        "animals = pd.DataFrame(data)\n",
        "print(animals)\n",
        "print()\n",
        "\n",
        "# Вызываем функцию для поиска тяжёлых животных\n",
        "result = findHeavyAnimals(animals)\n",
        "print(result)\n"
      ],
      "metadata": {
        "colab": {
          "base_uri": "https://localhost:8080/"
        },
        "id": "cKjOIw0R4WE0",
        "outputId": "f0caafe9-106f-41fb-d81e-91fa87e5c9f4"
      },
      "execution_count": null,
      "outputs": [
        {
          "output_type": "stream",
          "name": "stdout",
          "text": [
            "       name  species  age  weight\n",
            "0   Tatiana    Snake   98     464\n",
            "1    Khaled  Giraffe   50      41\n",
            "2      Alex  Leopard    6     328\n",
            "3  Jonathan   Monkey   45     463\n",
            "4    Stefan     Bear  100      50\n",
            "5     Tommy    Panda   26     349\n",
            "\n",
            "       name\n",
            "0   Tatiana\n",
            "3  Jonathan\n",
            "5     Tommy\n",
            "2      Alex\n"
          ]
        }
      ]
    }
  ]
}