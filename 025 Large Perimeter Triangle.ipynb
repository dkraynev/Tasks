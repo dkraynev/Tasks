{
  "nbformat": 4,
  "nbformat_minor": 0,
  "metadata": {
    "colab": {
      "provenance": [],
      "authorship_tag": "ABX9TyOUPVX/ugq/2qAcIqG/cK4b",
      "include_colab_link": true
    },
    "kernelspec": {
      "name": "python3",
      "display_name": "Python 3"
    },
    "language_info": {
      "name": "python"
    }
  },
  "cells": [
    {
      "cell_type": "markdown",
      "metadata": {
        "id": "view-in-github",
        "colab_type": "text"
      },
      "source": [
        "<a href=\"https://colab.research.google.com/github/dkraynev/LeetCode/blob/main/25_Large_Perimeter_Triangle.ipynb\" target=\"_parent\"><img src=\"https://colab.research.google.com/assets/colab-badge.svg\" alt=\"Open In Colab\"/></a>"
      ]
    },
    {
      "cell_type": "markdown",
      "source": [
        "Given an integer array nums, return the largest perimeter of a triangle with a non-zero area, formed from three of these lengths. If it is impossible to form any triangle of a non-zero area, return 0."
      ],
      "metadata": {
        "id": "MGytt66zGAzz"
      }
    },
    {
      "cell_type": "code",
      "execution_count": null,
      "metadata": {
        "id": "n--b_qH8e7FV"
      },
      "outputs": [],
      "source": [
        "class Solution:\n",
        "    def largestPerimeter(self, nums):\n",
        "        nums.sort()\n",
        "        triangle = False\n",
        "        max_perimeter = 0\n",
        "        for i in range(len(nums)-2):\n",
        "            a = nums[i]\n",
        "            b = nums[i+1]\n",
        "            c = nums[i+2]\n",
        "            if a + b > c:\n",
        "                if a + c > b:\n",
        "                    if b + c > a:\n",
        "                        triangle = True\n",
        "                        perimeter = a + b + c\n",
        "                        if perimeter > max_perimeter:\n",
        "                            max_perimeter = perimeter\n",
        "        if triangle:\n",
        "            return max_perimeter\n",
        "        else:\n",
        "            return 0"
      ]
    },
    {
      "cell_type": "code",
      "source": [
        "class Solution:\n",
        "    def largestPerimeter(self, nums):\n",
        "        nums.sort()\n",
        "        max_perimeter = 0\n",
        "        for i in range(len(nums)-2):\n",
        "\n",
        "            if nums[i] + nums[i+1] > nums[i+2]:\n",
        "                if nums[i] + nums[i+2] > nums[i+1]:\n",
        "                    if nums[i+1] + nums[i+2] > nums[i]:\n",
        "                        triangle = True\n",
        "                        perimeter = nums[i] + nums[i+1] + nums[i+2]\n",
        "                        if perimeter > max_perimeter:\n",
        "                            max_perimeter = perimeter\n",
        "\n",
        "        return max_perimeter"
      ],
      "metadata": {
        "id": "nfyyQKQZXBnZ"
      },
      "execution_count": null,
      "outputs": []
    },
    {
      "cell_type": "code",
      "source": [
        "class Solution:\n",
        "    def largestPerimeter(self, nums):\n",
        "        nums.sort()\n",
        "        perimeter = 0\n",
        "        for i in range(len(nums)-3, -1, -1):\n",
        "            if nums[i] + nums[i+1] > nums[i+2]:\n",
        "                perimeter = nums[i] + nums[i+1] + nums[i+2]\n",
        "                break\n",
        "\n",
        "        return perimeter"
      ],
      "metadata": {
        "id": "cdLlLHTJcaKi"
      },
      "execution_count": 35,
      "outputs": []
    },
    {
      "cell_type": "code",
      "source": [
        "prov = Solution()\n",
        "\n",
        "# Example 1:\n",
        "nums = [1,2,1,10]\n",
        "# Output: 0\n",
        "print(prov.largestPerimeter(nums))\n",
        "\n",
        "# Example 2:\n",
        "nums = [2,1,2]\n",
        "# Output: 0\n",
        "print(prov.largestPerimeter(nums))\n"
      ],
      "metadata": {
        "colab": {
          "base_uri": "https://localhost:8080/"
        },
        "id": "9ljSgA8K_jtI",
        "outputId": "331a7b3b-850e-4ca5-9117-b5ab7dc71219"
      },
      "execution_count": 36,
      "outputs": [
        {
          "output_type": "stream",
          "name": "stdout",
          "text": [
            "0\n",
            "5\n"
          ]
        }
      ]
    }
  ]
}
