{
  "nbformat": 4,
  "nbformat_minor": 0,
  "metadata": {
    "colab": {
      "provenance": [],
      "authorship_tag": "ABX9TyM36O8rCicLdkFwXUkV1IXd",
      "include_colab_link": true
    },
    "kernelspec": {
      "name": "python3",
      "display_name": "Python 3"
    },
    "language_info": {
      "name": "python"
    }
  },
  "cells": [
    {
      "cell_type": "markdown",
      "metadata": {
        "id": "view-in-github",
        "colab_type": "text"
      },
      "source": [
        "<a href=\"https://colab.research.google.com/github/dkraynev/Tasks/blob/main/606_Drop_Duplicate_Rows.ipynb\" target=\"_parent\"><img src=\"https://colab.research.google.com/assets/colab-badge.svg\" alt=\"Open In Colab\"/></a>"
      ]
    },
    {
      "cell_type": "code",
      "source": [
        "import pandas as pd"
      ],
      "metadata": {
        "id": "GeDhL_vVNcIO"
      },
      "execution_count": null,
      "outputs": []
    },
    {
      "cell_type": "code",
      "source": [
        "def dropDuplicateEmails(customers):\n",
        "    customers = customers.drop_duplicates(subset='email', keep='first')\n",
        "    return customers"
      ],
      "metadata": {
        "id": "uGWnXxAxNql0"
      },
      "execution_count": null,
      "outputs": []
    },
    {
      "cell_type": "code",
      "source": [
        "# Пример DataFrame\n",
        "data = {\n",
        "    'customer_id': [1, 2, 3, 4, 5, 6],\n",
        "    'name': ['Ella', 'David', 'Zachary', 'Alice', 'Finn', 'Violet'],\n",
        "    'email': ['emily@example.com', 'michael@example.com', 'sarah@example.com', 'john@example.com', 'john@example.com', 'alice@example.com']\n",
        "}\n",
        "\n",
        "customers = pd.DataFrame(data)\n",
        "print(customers)\n",
        "print()\n",
        "\n",
        "# Вызываем функцию для удаления дубликатов по колонке 'email'\n",
        "result = dropDuplicateEmails(customers)\n",
        "print(result)\n"
      ],
      "metadata": {
        "colab": {
          "base_uri": "https://localhost:8080/"
        },
        "id": "d9qZ1yRTN2A3",
        "outputId": "f9f8135d-b69d-4257-da83-d92511435285"
      },
      "execution_count": null,
      "outputs": [
        {
          "output_type": "stream",
          "name": "stdout",
          "text": [
            "   customer_id     name                email\n",
            "0            1     Ella    emily@example.com\n",
            "1            2    David  michael@example.com\n",
            "2            3  Zachary    sarah@example.com\n",
            "3            4    Alice     john@example.com\n",
            "4            5     Finn     john@example.com\n",
            "5            6   Violet    alice@example.com\n",
            "\n",
            "   customer_id     name                email\n",
            "0            1     Ella    emily@example.com\n",
            "1            2    David  michael@example.com\n",
            "2            3  Zachary    sarah@example.com\n",
            "3            4    Alice     john@example.com\n",
            "5            6   Violet    alice@example.com\n"
          ]
        }
      ]
    }
  ]
}
