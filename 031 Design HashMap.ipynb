{
  "nbformat": 4,
  "nbformat_minor": 0,
  "metadata": {
    "colab": {
      "provenance": [],
      "authorship_tag": "ABX9TyMqheM2ab+SfBLvQGwZrrn9",
      "include_colab_link": true
    },
    "kernelspec": {
      "name": "python3",
      "display_name": "Python 3"
    },
    "language_info": {
      "name": "python"
    }
  },
  "cells": [
    {
      "cell_type": "markdown",
      "metadata": {
        "id": "view-in-github",
        "colab_type": "text"
      },
      "source": [
        "<a href=\"https://colab.research.google.com/github/dkraynev/Tasks/blob/main/031_Design_HashMap.ipynb\" target=\"_parent\"><img src=\"https://colab.research.google.com/assets/colab-badge.svg\" alt=\"Open In Colab\"/></a>"
      ]
    },
    {
      "cell_type": "markdown",
      "source": [
        "Design a HashMap without using any built-in hash table libraries.\n",
        "\n",
        "Implement the MyHashMap class:\n",
        "\n",
        "MyHashMap() initializes the object with an empty map.\n",
        "void put(int key, int value) inserts a (key, value) pair into the HashMap. If the key already exists in the map, update the corresponding value.\n",
        "int get(int key) returns the value to which the specified key is mapped, or -1 if this map contains no mapping for the key.\n",
        "void remove(key) removes the key and its corresponding value if the map contains the mapping for the key.\n",
        "\n",
        "\n",
        "Example 1:\n",
        "\n",
        "Input\n",
        "[\"MyHashMap\", \"put\", \"put\", \"get\", \"get\", \"put\", \"get\", \"remove\", \"get\"]\n",
        "[[], [1, 1], [2, 2], [1], [3], [2, 1], [2], [2], [2]]\n",
        "Output\n",
        "[null, null, null, 1, -1, null, 1, null, -1]\n",
        "\n",
        "Explanation\n",
        "MyHashMap myHashMap = new MyHashMap();\n",
        "myHashMap.put(1, 1); // The map is now [[1,1]]\n",
        "myHashMap.put(2, 2); // The map is now [[1,1], [2,2]]\n",
        "myHashMap.get(1);    // return 1, The map is now [[1,1], [2,2]]\n",
        "myHashMap.get(3);    // return -1 (i.e., not found), The map is now [[1,1], [2,2]]\n",
        "myHashMap.put(2, 1); // The map is now [[1,1], [2,1]] (i.e., update the existing value)\n",
        "myHashMap.get(2);    // return 1, The map is now [[1,1], [2,1]]\n",
        "myHashMap.remove(2); // remove the mapping for 2, The map is now [[1,1]]\n",
        "myHashMap.get(2);    // return -1 (i.e., not found), The map is now [[1,1]]\n",
        "\n",
        "\n",
        "Constraints:\n",
        "\n",
        "0 <= key, value <= 106\n",
        "At most 104 calls will be made to put, get, and remove."
      ],
      "metadata": {
        "id": "MGytt66zGAzz"
      }
    },
    {
      "cell_type": "code",
      "source": [
        "class ListNode:\n",
        "    def __init__(self, key: int, value: int):\n",
        "        self.key = key\n",
        "        self.value = value\n",
        "        self.next = None\n",
        "\n",
        "class MyHashMap:\n",
        "\n",
        "    def __init__(self):\n",
        "        # Initialize a list to hold the HashMap, where the size is a large prime number to reduce collisions\n",
        "        self.size = 1009\n",
        "        self.map = [None] * self.size\n",
        "\n",
        "    def _hash(self, key: int) -> int:\n",
        "        # Hash function to map keys to an index in the array\n",
        "        return key % self.size\n",
        "\n",
        "    def put(self, key: int, value: int) -> None:\n",
        "        # Hash the key to find the index\n",
        "        index = self._hash(key)\n",
        "        # If there is no entry at this index, create a new ListNode\n",
        "        if not self.map[index]:\n",
        "            self.map[index] = ListNode(key, value)\n",
        "        else:\n",
        "            # Traverse the linked list at this index to find if the key exists\n",
        "            current = self.map[index]\n",
        "            while current:\n",
        "                if current.key == key:\n",
        "                    # If the key is found, update the value\n",
        "                    current.value = value\n",
        "                    return\n",
        "                if not current.next:\n",
        "                    break\n",
        "                current = current.next\n",
        "            # If key not found, append a new ListNode at the end\n",
        "            current.next = ListNode(key, value)\n",
        "\n",
        "    def get(self, key: int) -> int:\n",
        "        # Hash the key to find the index\n",
        "        index = self._hash(key)\n",
        "        current = self.map[index]\n",
        "        # Traverse the linked list at this index to find the key\n",
        "        while current:\n",
        "            if current.key == key:\n",
        "                return current.value\n",
        "            current = current.next\n",
        "        # If key not found, return -1\n",
        "        return -1\n",
        "\n",
        "    def remove(self, key: int) -> None:\n",
        "        # Hash the key to find the index\n",
        "        index = self._hash(key)\n",
        "        current = self.map[index]\n",
        "        if not current:\n",
        "            return\n",
        "        # If the key is at the head of the linked list\n",
        "        if current.key == key:\n",
        "            self.map[index] = current.next\n",
        "        else:\n",
        "            # Traverse the list to find the key and remove it\n",
        "            prev = current\n",
        "            current = current.next\n",
        "            while current:\n",
        "                if current.key == key:\n",
        "                    prev.next = current.next\n",
        "                    return\n",
        "                prev = current\n",
        "                current = current.next\n",
        "\n",
        "# Your MyHashMap object will be instantiated and called as such:\n",
        "# obj = MyHashMap()\n",
        "# obj.put(key,value)\n",
        "# param_2 = obj.get(key)\n",
        "# obj.remove(key)\n"
      ],
      "metadata": {
        "id": "3ALploukSCv5"
      },
      "execution_count": null,
      "outputs": []
    }
  ]
}
