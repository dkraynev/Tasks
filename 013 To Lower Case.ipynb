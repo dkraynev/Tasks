{
  "nbformat": 4,
  "nbformat_minor": 0,
  "metadata": {
    "colab": {
      "provenance": [],
      "authorship_tag": "ABX9TyPVt/0NUBZDCV5mmhszE6mt",
      "include_colab_link": true
    },
    "kernelspec": {
      "name": "python3",
      "display_name": "Python 3"
    },
    "language_info": {
      "name": "python"
    }
  },
  "cells": [
    {
      "cell_type": "markdown",
      "metadata": {
        "id": "view-in-github",
        "colab_type": "text"
      },
      "source": [
        "<a href=\"https://colab.research.google.com/github/dkraynev/Tasks/blob/main/013_To_Lower_Case.ipynb\" target=\"_parent\"><img src=\"https://colab.research.google.com/assets/colab-badge.svg\" alt=\"Open In Colab\"/></a>"
      ]
    },
    {
      "cell_type": "markdown",
      "source": [
        "Given a string s, return the string after replacing every uppercase letter with the same lowercase letter.\n",
        "\n",
        "\n",
        "\n",
        "Example 1:\n",
        "\n",
        "Input: s = \"Hello\"\n",
        "Output: \"hello\"\n",
        "Example 2:\n",
        "\n",
        "Input: s = \"here\"\n",
        "Output: \"here\"\n",
        "Example 3:\n",
        "\n",
        "Input: s = \"LOVELY\"\n",
        "Output: \"lovely\""
      ],
      "metadata": {
        "id": "V8faBekcfIQM"
      }
    },
    {
      "cell_type": "code",
      "execution_count": null,
      "metadata": {
        "id": "n--b_qH8e7FV"
      },
      "outputs": [],
      "source": [
        "class Solution:\n",
        "    def toLowerCase(self, s):\n",
        "        return s.lower()"
      ]
    }
  ]
}
