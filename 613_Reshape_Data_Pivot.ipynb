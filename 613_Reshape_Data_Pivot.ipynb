{
  "nbformat": 4,
  "nbformat_minor": 0,
  "metadata": {
    "colab": {
      "provenance": [],
      "authorship_tag": "ABX9TyPhIll3kSiFsIKoFhDm5bGw",
      "include_colab_link": true
    },
    "kernelspec": {
      "name": "python3",
      "display_name": "Python 3"
    },
    "language_info": {
      "name": "python"
    }
  },
  "cells": [
    {
      "cell_type": "markdown",
      "metadata": {
        "id": "view-in-github",
        "colab_type": "text"
      },
      "source": [
        "<a href=\"https://colab.research.google.com/github/dkraynev/Tasks/blob/main/613_Reshape_Data_Pivot.ipynb\" target=\"_parent\"><img src=\"https://colab.research.google.com/assets/colab-badge.svg\" alt=\"Open In Colab\"/></a>"
      ]
    },
    {
      "cell_type": "code",
      "source": [
        "import pandas as pd"
      ],
      "metadata": {
        "id": "X1Z5NxTBTvr6"
      },
      "execution_count": null,
      "outputs": []
    },
    {
      "cell_type": "code",
      "source": [
        "def pivotTable(weather):\n",
        "    weather = weather.pivot(index='month', columns='city', values='temperature')\n",
        "    return weather"
      ],
      "metadata": {
        "id": "uJnH89SMT0Aq"
      },
      "execution_count": null,
      "outputs": []
    },
    {
      "cell_type": "code",
      "source": [
        "# Пример DataFrame weather\n",
        "data = {\n",
        "    'city': ['Jacksonville', 'Jacksonville', 'Jacksonville', 'Jacksonville', 'Jacksonville',\n",
        "             'ElPaso', 'ElPaso', 'ElPaso', 'ElPaso', 'ElPaso'],\n",
        "    'month': ['January', 'February', 'March', 'April', 'May',\n",
        "              'January', 'February', 'March', 'April', 'May'],\n",
        "    'temperature': [13, 23, 38, 5, 34, 20, 6, 26, 2, 43]\n",
        "}\n",
        "\n",
        "weather = pd.DataFrame(data)\n",
        "print(weather)\n",
        "print()\n",
        "\n",
        "# Вызываем функцию для создания сводной таблицы\n",
        "result = pivotTable(weather)\n",
        "print(result)\n"
      ],
      "metadata": {
        "colab": {
          "base_uri": "https://localhost:8080/"
        },
        "id": "47prAESuTues",
        "outputId": "c6714aad-7a57-433d-b760-5305d5d3079f"
      },
      "execution_count": null,
      "outputs": [
        {
          "output_type": "stream",
          "name": "stdout",
          "text": [
            "           city     month  temperature\n",
            "0  Jacksonville   January           13\n",
            "1  Jacksonville  February           23\n",
            "2  Jacksonville     March           38\n",
            "3  Jacksonville     April            5\n",
            "4  Jacksonville       May           34\n",
            "5        ElPaso   January           20\n",
            "6        ElPaso  February            6\n",
            "7        ElPaso     March           26\n",
            "8        ElPaso     April            2\n",
            "9        ElPaso       May           43\n",
            "\n",
            "city      ElPaso  Jacksonville\n",
            "month                         \n",
            "April          2             5\n",
            "February       6            23\n",
            "January       20            13\n",
            "March         26            38\n",
            "May           43            34\n"
          ]
        }
      ]
    }
  ]
}