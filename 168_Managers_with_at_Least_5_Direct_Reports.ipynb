{
  "nbformat": 4,
  "nbformat_minor": 0,
  "metadata": {
    "colab": {
      "provenance": [],
      "authorship_tag": "ABX9TyN2PGTv+tQ81LNfeyDTx0tF",
      "include_colab_link": true
    },
    "kernelspec": {
      "name": "python3",
      "display_name": "Python 3"
    },
    "language_info": {
      "name": "python"
    }
  },
  "cells": [
    {
      "cell_type": "markdown",
      "metadata": {
        "id": "view-in-github",
        "colab_type": "text"
      },
      "source": [
        "<a href=\"https://colab.research.google.com/github/dkraynev/Tasks/blob/main/168_Managers_with_at_Least_5_Direct_Reports.ipynb\" target=\"_parent\"><img src=\"https://colab.research.google.com/assets/colab-badge.svg\" alt=\"Open In Colab\"/></a>"
      ]
    },
    {
      "cell_type": "code",
      "execution_count": null,
      "metadata": {
        "id": "dxpwk5REk6XY"
      },
      "outputs": [],
      "source": [
        "import pandas as pd\n",
        "\n",
        "def find_managers(employee: pd.DataFrame) -> pd.DataFrame:\n",
        "    managers = employee.groupby('managerId').size().reset_index(name='count')\n",
        "    managers = managers[managers['count'] >= 5]\n",
        "    result = managers.merge(\n",
        "        employee,\n",
        "        left_on = 'managerId',\n",
        "        right_on = 'id',\n",
        "        how = 'inner'\n",
        "    )[['name']]\n",
        "\n",
        "    return result"
      ]
    }
  ]
}