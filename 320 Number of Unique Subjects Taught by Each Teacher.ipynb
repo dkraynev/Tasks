{
  "nbformat": 4,
  "nbformat_minor": 0,
  "metadata": {
    "colab": {
      "provenance": [],
      "authorship_tag": "ABX9TyO0wmE2zQ4vSE8kuE4RtFz9",
      "include_colab_link": true
    },
    "kernelspec": {
      "name": "python3",
      "display_name": "Python 3"
    },
    "language_info": {
      "name": "python"
    }
  },
  "cells": [
    {
      "cell_type": "markdown",
      "metadata": {
        "id": "view-in-github",
        "colab_type": "text"
      },
      "source": [
        "<a href=\"https://colab.research.google.com/github/dkraynev/Tasks/blob/main/320_Number_of_Unique_Subjects_Taught_by_Each_Teacher.ipynb\" target=\"_parent\"><img src=\"https://colab.research.google.com/assets/colab-badge.svg\" alt=\"Open In Colab\"/></a>"
      ]
    },
    {
      "cell_type": "markdown",
      "source": [
        "Table: Teacher\n",
        "\n",
        "+-------------+------+\n",
        "| Column Name | Type |\n",
        "+-------------+------+\n",
        "| teacher_id  | int  |\n",
        "| subject_id  | int  |\n",
        "| dept_id     | int  |\n",
        "+-------------+------+\n",
        "(subject_id, dept_id) is the primary key (combinations of columns with unique values) of this table.\n",
        "Each row in this table indicates that the teacher with teacher_id teaches the subject subject_id in the department dept_id.\n",
        "\n",
        "\n",
        "Write a solution to calculate the number of unique subjects each teacher teaches in the university.\n",
        "\n",
        "Return the result table in any order.\n",
        "\n",
        "The result format is shown in the following example.\n",
        "\n",
        "\n",
        "\n",
        "Example 1:\n",
        "\n",
        "Input:\n",
        "Teacher table:\n",
        "+------------+------------+---------+\n",
        "| teacher_id | subject_id | dept_id |\n",
        "+------------+------------+---------+\n",
        "| 1          | 2          | 3       |\n",
        "| 1          | 2          | 4       |\n",
        "| 1          | 3          | 3       |\n",
        "| 2          | 1          | 1       |\n",
        "| 2          | 2          | 1       |\n",
        "| 2          | 3          | 1       |\n",
        "| 2          | 4          | 1       |\n",
        "+------------+------------+---------+\n",
        "Output:  \n",
        "+------------+-----+\n",
        "| teacher_id | cnt |\n",
        "+------------+-----+\n",
        "| 1          | 2   |\n",
        "| 2          | 4   |\n",
        "+------------+-----+\n",
        "Explanation:\n",
        "Teacher 1:\n",
        "  - They teach subject 2 in departments 3 and 4.\n",
        "  - They teach subject 3 in department 3.\n",
        "Teacher 2:\n",
        "  - They teach subject 1 in department 1.\n",
        "  - They teach subject 2 in department 1.\n",
        "  - They teach subject 3 in department 1.\n",
        "  - They teach subject 4 in department 1."
      ],
      "metadata": {
        "id": "3kADJYcPbq69"
      }
    },
    {
      "cell_type": "code",
      "source": [
        "import pandas as pd\n",
        "\n",
        "def count_unique_subjects(teacher: pd.DataFrame) -> pd.DataFrame:\n",
        "    result = teacher.groupby('teacher_id').agg(\n",
        "        cnt=('subject_id', 'nunique')\n",
        "    ).reset_index()\n",
        "\n",
        "    return result"
      ],
      "metadata": {
        "id": "ZROairm1bvdc"
      },
      "execution_count": 3,
      "outputs": []
    },
    {
      "cell_type": "code",
      "source": [
        "data = {\n",
        "    'teacher_id': [1, 1, 1, 2, 2, 2, 2],\n",
        "    'subject_id': [2, 2, 3, 1, 2, 3, 4],\n",
        "    'dept_id': [3, 4, 3, 1, 1, 1, 1]\n",
        "}\n",
        "\n",
        "teacher_df = pd.DataFrame(data)\n",
        "\n",
        "# Вызов функции\n",
        "result_df = count_unique_subjects(teacher_df)\n",
        "print(result_df)\n"
      ],
      "metadata": {
        "id": "kccDEp6R-WCF",
        "colab": {
          "base_uri": "https://localhost:8080/"
        },
        "outputId": "aa1909f7-8168-476d-890b-c47c6ba604fc"
      },
      "execution_count": 4,
      "outputs": [
        {
          "output_type": "stream",
          "name": "stdout",
          "text": [
            "   teacher_id  cnt\n",
            "0           1    2\n",
            "1           2    4\n"
          ]
        }
      ]
    },
    {
      "cell_type": "code",
      "source": [
        "import pandas as pd\n",
        "\n",
        "def count_unique_subjects(teacher):\n",
        "    result = teacher.groupby('teacher_id').agg(\n",
        "        cnt=('subject_id', 'nunique')\n",
        "    ).reset_index()\n",
        "\n",
        "    return result"
      ],
      "metadata": {
        "id": "1GMXF-ooesgy"
      },
      "execution_count": 5,
      "outputs": []
    },
    {
      "cell_type": "code",
      "source": [
        "data = {\n",
        "    'teacher_id': [1, 1, 1, 2, 2, 2, 2],\n",
        "    'subject_id': [2, 2, 3, 1, 2, 3, 4],\n",
        "    'dept_id': [3, 4, 3, 1, 1, 1, 1]\n",
        "}\n",
        "\n",
        "teacher_df = pd.DataFrame(data)\n",
        "\n",
        "# Вызов функции\n",
        "result_df = count_unique_subjects(teacher_df)\n",
        "print(result_df)"
      ],
      "metadata": {
        "colab": {
          "base_uri": "https://localhost:8080/"
        },
        "id": "6EQzddI2fcOe",
        "outputId": "fc103e97-4baf-49a2-d0f7-f8792a028ce9"
      },
      "execution_count": 6,
      "outputs": [
        {
          "output_type": "stream",
          "name": "stdout",
          "text": [
            "   teacher_id  cnt\n",
            "0           1    2\n",
            "1           2    4\n"
          ]
        }
      ]
    }
  ]
}
