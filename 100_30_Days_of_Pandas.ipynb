{
  "nbformat": 4,
  "nbformat_minor": 0,
  "metadata": {
    "colab": {
      "provenance": [],
      "authorship_tag": "ABX9TyN7iY3T6Tncr+S/PxF4UfBW",
      "include_colab_link": true
    },
    "kernelspec": {
      "name": "python3",
      "display_name": "Python 3"
    },
    "language_info": {
      "name": "python"
    }
  },
  "cells": [
    {
      "cell_type": "markdown",
      "metadata": {
        "id": "view-in-github",
        "colab_type": "text"
      },
      "source": [
        "<a href=\"https://colab.research.google.com/github/dkraynev/Tasks/blob/main/100_30_Days_of_Pandas.ipynb\" target=\"_parent\"><img src=\"https://colab.research.google.com/assets/colab-badge.svg\" alt=\"Open In Colab\"/></a>"
      ]
    },
    {
      "cell_type": "markdown",
      "source": [
        "# 01.Big Countries"
      ],
      "metadata": {
        "id": "af6KinqzXk17"
      }
    },
    {
      "cell_type": "code",
      "source": [
        "import pandas as pd\n",
        "\n",
        "def big_countries(world: pd.DataFrame) -> pd.DataFrame:\n",
        "    world = world.query('area >= 3000000 or population >= 25000000')[['name', 'population', 'area']]\n",
        "    return world"
      ],
      "metadata": {
        "id": "qojPFP2nXfI2"
      },
      "execution_count": null,
      "outputs": []
    },
    {
      "cell_type": "code",
      "source": [
        "import pandas as pd\n",
        "\n",
        "def big_countries(world: pd.DataFrame) -> pd.DataFrame:\n",
        "    return world.query('area >= 3000000 | population >= 25000000')[['name', 'population', 'area']]"
      ],
      "metadata": {
        "id": "IhoPh1d5oHrT"
      },
      "execution_count": null,
      "outputs": []
    },
    {
      "cell_type": "code",
      "source": [
        "import pandas as pd\n",
        "\n",
        "def big_countries(world: pd.DataFrame) -> pd.DataFrame:\n",
        "    return world[(world['area'] >= 3_000_000) | (world['population'] >=  25_000_000)][['name', 'population', 'area']]"
      ],
      "metadata": {
        "id": "Ld_tiIdFFMoa"
      },
      "execution_count": null,
      "outputs": []
    },
    {
      "cell_type": "code",
      "source": [
        "import pandas as pd\n",
        "\n",
        "def big_countries(world: pd.DataFrame) -> pd.DataFrame:\n",
        "    world = world.query('area >= 3000000 or population >= 25000000')[['name', 'population', 'area']]\n",
        "    return world"
      ],
      "metadata": {
        "id": "ypnZinJfxcrx"
      },
      "execution_count": null,
      "outputs": []
    },
    {
      "cell_type": "code",
      "source": [
        "import pandas as pd\n",
        "\n",
        "def big_countries(world: pd.DataFrame) -> pd.DataFrame:\n",
        "    world = world.query('area >= 3000000 or population >= 25000000')[['name', 'population', 'area']]\n",
        "    return world"
      ],
      "metadata": {
        "id": "Sp8eAIi0LD9_"
      },
      "execution_count": null,
      "outputs": []
    },
    {
      "cell_type": "code",
      "source": [
        "import pandas as pd\n",
        "\n",
        "def big_countries(world: pd.DataFrame) -> pd.DataFrame:\n",
        "    world = world.query('area >= 3000000 or population >= 25000000')[['name', 'population', 'area']]\n",
        "    return world"
      ],
      "metadata": {
        "id": "9VNJc39gc-uN"
      },
      "execution_count": null,
      "outputs": []
    },
    {
      "cell_type": "code",
      "source": [
        "import pandas as pd\n",
        "\n",
        "def big_countries(world):\n",
        "    return world[\n",
        "        (world['area'] >= 3_000_000) |\n",
        "        (world['population'] >= 25_000_000)\n",
        "    ][['name', 'population', 'area']]"
      ],
      "metadata": {
        "id": "6rQy5KS2LACc"
      },
      "execution_count": null,
      "outputs": []
    },
    {
      "cell_type": "code",
      "source": [
        "import pandas as pd\n",
        "\n",
        "def big_countries(world):\n",
        "    world = world[(world['area'] >= 3_000_000) | (world['population'] >=25_000_000)]\n",
        "    world = world[['name', 'population', 'area']]\n",
        "\n",
        "    return world"
      ],
      "metadata": {
        "id": "GFVsx_bV7mFl"
      },
      "execution_count": null,
      "outputs": []
    },
    {
      "cell_type": "markdown",
      "source": [
        "# 02.Recyclable and Low Fat Products"
      ],
      "metadata": {
        "id": "bpjNZPCAXtE3"
      }
    },
    {
      "cell_type": "code",
      "source": [
        "import pandas as pd\n",
        "\n",
        "def find_products(products: pd.DataFrame) -> pd.DataFrame:\n",
        "    products =  products.query(\"low_fats == 'Y' and recyclable == 'Y'\")[['product_id']]\n",
        "    return products"
      ],
      "metadata": {
        "id": "XB_ML22IXj8K"
      },
      "execution_count": null,
      "outputs": []
    },
    {
      "cell_type": "code",
      "source": [
        "import pandas as pd\n",
        "\n",
        "def find_products(products: pd.DataFrame) -> pd.DataFrame:\n",
        "    return products[(products['low_fats'] == 'Y') & (products['recyclable'] == 'Y')][['product_id']]"
      ],
      "metadata": {
        "id": "9aMW-nNPF-P_"
      },
      "execution_count": null,
      "outputs": []
    },
    {
      "cell_type": "code",
      "source": [
        "import pandas as pd\n",
        "\n",
        "def find_products(products: pd.DataFrame) -> pd.DataFrame:\n",
        "    return products[(products['low_fats'] == 'Y') & (products['recyclable'] == 'Y')][['product_id']]"
      ],
      "metadata": {
        "id": "_l6d5GUILKvT"
      },
      "execution_count": null,
      "outputs": []
    },
    {
      "cell_type": "code",
      "source": [
        "import pandas as pd\n",
        "\n",
        "def find_products(products: pd.DataFrame) -> pd.DataFrame:\n",
        "    return products[(products['low_fats'] == 'Y') & (products['recyclable'] == 'Y')][['product_id']]"
      ],
      "metadata": {
        "id": "MkYo8yOKg6rW"
      },
      "execution_count": null,
      "outputs": []
    },
    {
      "cell_type": "code",
      "source": [
        "import pandas as pd\n",
        "\n",
        "def find_products(products: pd.DataFrame) -> pd.DataFrame:\n",
        "    return products[(products['low_fats'] == 'Y') & (products['recyclable'] == 'Y')][['product_id']]"
      ],
      "metadata": {
        "id": "JoOg2x67INgy"
      },
      "execution_count": null,
      "outputs": []
    },
    {
      "cell_type": "code",
      "source": [
        "import pandas as pd\n",
        "\n",
        "def find_products(products):\n",
        "    return products[\n",
        "        (products['low_fats'] == 'Y') & (products['recyclable'] == 'Y')\n",
        "    ][['product_id']]"
      ],
      "metadata": {
        "id": "aYNdZ15fwoeZ"
      },
      "execution_count": null,
      "outputs": []
    },
    {
      "cell_type": "markdown",
      "source": [
        "# 03.Customers Who Never Order"
      ],
      "metadata": {
        "id": "bGORjtQ4pHxJ"
      }
    },
    {
      "cell_type": "code",
      "source": [
        "import pandas as pd\n",
        "\n",
        "def find_customers(customers: pd.DataFrame, orders: pd.DataFrame) -> pd.DataFrame:\n",
        "    customers = pd.merge(customers, orders, left_on='id', right_on='customerId', how='left')\n",
        "    customers = customers[customers['customerId'].isna()]\n",
        "    customers = customers[['name']].rename(columns={'name':'Customers'})\n",
        "\n",
        "    return customers"
      ],
      "metadata": {
        "id": "BSH9AmV2iUVJ"
      },
      "execution_count": null,
      "outputs": []
    },
    {
      "cell_type": "code",
      "source": [
        "import pandas as pd\n",
        "\n",
        "def find_customers(customers: pd.DataFrame, orders: pd.DataFrame) -> pd.DataFrame:\n",
        "    customers = customers[\n",
        "        ~customers['id'].isin(orders['customerId'])\n",
        "    ]\n",
        "    customers.rename(columns={'name': 'Customers'}, inplace=True)\n",
        "    return customers[['Customers']]"
      ],
      "metadata": {
        "id": "aWp50H-QMpth"
      },
      "execution_count": null,
      "outputs": []
    },
    {
      "cell_type": "code",
      "source": [
        "import pandas as pd\n",
        "\n",
        "def find_customers(customers: pd.DataFrame, orders: pd.DataFrame) -> pd.DataFrame:\n",
        "    customers = customers[~customers['id'].isin(orders['customerId'])][['name']]\n",
        "    return customers.rename(columns={'name': 'Customers'})"
      ],
      "metadata": {
        "id": "7bmSF94lFc-Z"
      },
      "execution_count": null,
      "outputs": []
    },
    {
      "cell_type": "code",
      "source": [
        "import pandas as pd\n",
        "\n",
        "def find_customers(customers: pd.DataFrame, orders: pd.DataFrame) -> pd.DataFrame:\n",
        "    customers = customers[~customers['id'].isin(orders['customerId'])][['name']]\n",
        "    return customers.rename(columns={'name': 'Customers'})"
      ],
      "metadata": {
        "id": "qVYFQZMFxl9-"
      },
      "execution_count": null,
      "outputs": []
    },
    {
      "cell_type": "code",
      "source": [
        "import pandas as pd\n",
        "\n",
        "def find_customers(customers: pd.DataFrame, orders: pd.DataFrame) -> pd.DataFrame:\n",
        "    customers = customers[~customers['id'].isin(orders['customerId'])][['name']]\n",
        "    return customers.rename(columns={'name': 'Customers'})"
      ],
      "metadata": {
        "id": "OYkngZ_aLTUF"
      },
      "execution_count": null,
      "outputs": []
    },
    {
      "cell_type": "code",
      "source": [
        "import pandas as pd\n",
        "\n",
        "def find_customers(customers: pd.DataFrame, orders: pd.DataFrame) -> pd.DataFrame:\n",
        "    customers = customers[~customers['id'].isin(orders['customerId'])][['name']]\n",
        "    return customers.rename(columns={'name': 'Customers'})"
      ],
      "metadata": {
        "id": "oO_Hh8Ip6m0h"
      },
      "execution_count": null,
      "outputs": []
    },
    {
      "cell_type": "code",
      "source": [
        "import pandas as pd\n",
        "\n",
        "def find_customers(customers: pd.DataFrame, orders: pd.DataFrame) -> pd.DataFrame:\n",
        "    customers = customers[~customers['id'].isin(orders['customerId'])][['name']]\n",
        "    return customers.rename(columns={'name': 'Customers'})"
      ],
      "metadata": {
        "id": "iEPYVVFZhiyA"
      },
      "execution_count": null,
      "outputs": []
    },
    {
      "cell_type": "code",
      "source": [
        "import pandas as pd\n",
        "\n",
        "def find_customers(customers, orders):\n",
        "    return customers[~customers['id'].isin(orders['customerId'])][['name']].rename(columns={'name': 'Customers'})"
      ],
      "metadata": {
        "id": "AgeKUc363nMH"
      },
      "execution_count": null,
      "outputs": []
    },
    {
      "cell_type": "code",
      "source": [
        "import pandas as pd\n",
        "\n",
        "def find_customers(customers, orders):\n",
        "    return (customers[~customers['id'].isin(orders['customerId'])]\n",
        "    [['name']]\n",
        "    .rename(columns={'name': 'Customers'})\n",
        "    )"
      ],
      "metadata": {
        "id": "41ozZa5R4ep5"
      },
      "execution_count": null,
      "outputs": []
    },
    {
      "cell_type": "markdown",
      "source": [
        "# 04.Article Views I"
      ],
      "metadata": {
        "id": "VezCfOG9PIhW"
      }
    },
    {
      "cell_type": "code",
      "source": [
        "import pandas as pd\n",
        "\n",
        "def article_views(views: pd.DataFrame) -> pd.DataFrame:\n",
        "    views = views.query('author_id == viewer_id')\n",
        "    views = views.drop_duplicates(subset='author_id').sort_values(by='author_id',ascending=True)[['author_id']]\n",
        "    views = views.rename(columns={'author_id':'id'})\n",
        "\n",
        "    return views"
      ],
      "metadata": {
        "id": "O5hgBsvwPHLz"
      },
      "execution_count": null,
      "outputs": []
    },
    {
      "cell_type": "code",
      "source": [
        "import pandas as pd\n",
        "\n",
        "def article_views(views: pd.DataFrame) -> pd.DataFrame:\n",
        "    views = views[views['author_id'] ==  views['viewer_id']].sort_values(by='author_id', ascending=True)\n",
        "    views = views.rename(columns={'author_id': 'id'})\n",
        "    views = views.drop_duplicates(subset='id')\n",
        "    return views[['id']]"
      ],
      "metadata": {
        "id": "lDGjX66VQiqs"
      },
      "execution_count": null,
      "outputs": []
    },
    {
      "cell_type": "code",
      "source": [
        "import pandas as pd\n",
        "\n",
        "def article_views(views: pd.DataFrame) -> pd.DataFrame:\n",
        "    result = views[views['author_id'] == views['viewer_id']].drop_duplicates(subset='author_id')\n",
        "    result = result[['author_id']].rename(columns={'author_id': 'id'}).sort_values(by='id')\n",
        "    return result"
      ],
      "metadata": {
        "id": "h_MwV4WP8Ly5"
      },
      "execution_count": null,
      "outputs": []
    },
    {
      "cell_type": "code",
      "source": [
        "import pandas as pd\n",
        "\n",
        "def article_views(views: pd.DataFrame) -> pd.DataFrame:\n",
        "    result = views[views['author_id'] == views['viewer_id']][['author_id']]\n",
        "    result = result.rename(columns={'author_id': 'id'}).drop_duplicates(subset='id')\n",
        "    return result.sort_values(by='id')"
      ],
      "metadata": {
        "id": "Wa1_mFeLGg4v"
      },
      "execution_count": null,
      "outputs": []
    },
    {
      "cell_type": "code",
      "source": [
        "import pandas as pd\n",
        "\n",
        "def article_views(views: pd.DataFrame) -> pd.DataFrame:\n",
        "    result = views[views['author_id'] == views['viewer_id']][['author_id']]\n",
        "    result = result.rename(columns={'author_id': 'id'}).drop_duplicates(subset='id')\n",
        "    return result.sort_values(by='id')"
      ],
      "metadata": {
        "id": "0zxzKdrULa60"
      },
      "execution_count": null,
      "outputs": []
    },
    {
      "cell_type": "code",
      "source": [
        "import pandas as pd\n",
        "\n",
        "def article_views(views):\n",
        "    df = views[views['author_id'] == views['viewer_id']][['author_id']]\n",
        "    df = df.drop_duplicates().rename(columns={'author_id': 'id'})\n",
        "\n",
        "    return df.sort_values(by='id')"
      ],
      "metadata": {
        "id": "Tv2HcwnZUX_V"
      },
      "execution_count": null,
      "outputs": []
    },
    {
      "cell_type": "code",
      "source": [
        "import pandas as pd\n",
        "\n",
        "def article_views(views):\n",
        "    return (views[views['author_id'] == views['viewer_id']][['author_id']].\n",
        "    drop_duplicates().rename(columns={'author_id': 'id'})\n",
        "    .sort_values(by='id')\n",
        "    )"
      ],
      "metadata": {
        "id": "gjF2bicTU6yo"
      },
      "execution_count": null,
      "outputs": []
    },
    {
      "cell_type": "markdown",
      "source": [
        "# 05.Invalid Tweets"
      ],
      "metadata": {
        "id": "Fve0uFu1t9QL"
      }
    },
    {
      "cell_type": "code",
      "source": [
        "import pandas as pd\n",
        "\n",
        "def invalid_tweets(tweets: pd.DataFrame) -> pd.DataFrame:\n",
        "    tweets = tweets[tweets['content'].apply(len) > 15][['tweet_id']]\n",
        "\n",
        "    return tweets"
      ],
      "metadata": {
        "id": "30BBLhvct8TX"
      },
      "execution_count": null,
      "outputs": []
    },
    {
      "cell_type": "code",
      "source": [
        "import pandas as pd\n",
        "\n",
        "def invalid_tweets(tweets: pd.DataFrame) -> pd.DataFrame:\n",
        "    return tweets[tweets['content'].str.len() > 15][['tweet_id']]"
      ],
      "metadata": {
        "id": "CkdnI_S_NfzV"
      },
      "execution_count": null,
      "outputs": []
    },
    {
      "cell_type": "code",
      "source": [
        "import pandas as pd\n",
        "\n",
        "def invalid_tweets(tweets: pd.DataFrame) -> pd.DataFrame:\n",
        "    return tweets[tweets['content'].str.len() > 15][['tweet_id']]"
      ],
      "metadata": {
        "id": "fxhDCF31Lg1t"
      },
      "execution_count": null,
      "outputs": []
    },
    {
      "cell_type": "code",
      "source": [
        "import pandas as pd\n",
        "\n",
        "def invalid_tweets(tweets: pd.DataFrame) -> pd.DataFrame:\n",
        "    return tweets[tweets['content'].str.len() > 15][['tweet_id']]"
      ],
      "metadata": {
        "id": "b4L1kXnCj69i"
      },
      "execution_count": null,
      "outputs": []
    },
    {
      "cell_type": "code",
      "source": [
        "import pandas as pd\n",
        "\n",
        "def invalid_tweets(tweets):\n",
        "    return tweets[tweets['content'].str.len() > 15][['tweet_id']]"
      ],
      "metadata": {
        "id": "SIymZKNs2ZkU"
      },
      "execution_count": null,
      "outputs": []
    },
    {
      "cell_type": "markdown",
      "source": [
        "# 06.Calculate Special Bonus"
      ],
      "metadata": {
        "id": "j0WIT-0sJoGA"
      }
    },
    {
      "cell_type": "code",
      "source": [
        "import pandas as pd\n",
        "\n",
        "def calculate_special_bonus(employees: pd.DataFrame) -> pd.DataFrame:\n",
        "    employees['bonus'] = employees.apply(lambda x: x['salary'] if x['employee_id'] % 2 != 0 and not x['name'].startswith('M') else 0, axis=1)\n",
        "    employees = employees[['employee_id', 'bonus']].sort_values(by='employee_id')\n",
        "\n",
        "    return employees"
      ],
      "metadata": {
        "id": "nZQGHhpwuE9o"
      },
      "execution_count": null,
      "outputs": []
    },
    {
      "cell_type": "code",
      "source": [
        "import pandas as pd\n",
        "\n",
        "def calculate_special_bonus(employees: pd.DataFrame) -> pd.DataFrame:\n",
        "    condition = (employees['employee_id'] % 2 == 1) & ~employees['name'].str.startswith('M')\n",
        "    employees[['bonus']] = employees[['salary']].where(condition, 0)\n",
        "    return employees[['employee_id', 'bonus']].sort_values(by='employee_id')"
      ],
      "metadata": {
        "id": "pHQsNiPCl0Kg"
      },
      "execution_count": null,
      "outputs": []
    },
    {
      "cell_type": "code",
      "source": [
        "import pandas as pd\n",
        "\n",
        "def calculate_special_bonus(employees: pd.DataFrame) -> pd.DataFrame:\n",
        "    condition = (employees['employee_id'] % 2 == 1) & (~employees['name'].str.startswith('M'))\n",
        "    employees[['bonus']] = employees[['salary']].where(condition, 0)\n",
        "\n",
        "    return employees[['employee_id', 'bonus']].sort_values(by='employee_id')"
      ],
      "metadata": {
        "id": "HGxrjPd1IVs4"
      },
      "execution_count": null,
      "outputs": []
    },
    {
      "cell_type": "code",
      "source": [
        "import pandas as pd\n",
        "\n",
        "def calculate_special_bonus(employees: pd.DataFrame) -> pd.DataFrame:\n",
        "    # Condition to identify eligible employees for a special bonus:\n",
        "    # 1. 'employee_id' is odd -> using modulo operator `% 2 == 1`.\n",
        "    # 2. Employee's 'name' does NOT start with 'M' -> using `~employees['name'].str.startswith('M')`.\n",
        "    condition = (employees['employee_id'] % 2 == 1) & ~employees['name'].str.startswith('M')\n",
        "\n",
        "    # Apply the condition to calculate the 'bonus':\n",
        "    # - If the condition is True (eligible employee), use their 'salary' as the bonus.\n",
        "    # - Otherwise, set the bonus to 0.\n",
        "    # We use the `.where()` method to replace values selectively based on the condition.\n",
        "    employees[['bonus']] = employees[['salary']].where(condition, 0)\n",
        "\n",
        "    # Select only 'employee_id' and 'bonus' columns for the final output\n",
        "    # Sort the resulting DataFrame by 'employee_id' in ascending order.\n",
        "    return employees[['employee_id', 'bonus']].sort_values(by='employee_id')\n"
      ],
      "metadata": {
        "id": "uwm4VYDivYCb"
      },
      "execution_count": null,
      "outputs": []
    },
    {
      "cell_type": "code",
      "source": [
        "import pandas as pd\n",
        "\n",
        "def calculate_special_bonus(employees: pd.DataFrame) -> pd.DataFrame:\n",
        "    condition = (employees['employee_id'] % 2 == 1) & (~employees['name'].str.startswith('M'))\n",
        "    employees[['bonus']] = employees[['salary']].where(condition, 0)\n",
        "    return employees[['employee_id', 'bonus']].sort_values(by='employee_id')"
      ],
      "metadata": {
        "id": "LG6JDmjzLGvp"
      },
      "execution_count": null,
      "outputs": []
    },
    {
      "cell_type": "code",
      "source": [
        "import pandas as pd\n",
        "\n",
        "def calculate_special_bonus(employees: pd.DataFrame) -> pd.DataFrame:\n",
        "    condition = (employees['employee_id'] % 2 == 1) & ~employees['name'].str.startswith('M')\n",
        "    employees[['bonus']] = employees[['salary']].where(condition, 0)\n",
        "    return employees[['employee_id', 'bonus']].sort_values(by='employee_id')"
      ],
      "metadata": {
        "id": "M36nWwqv2Irq"
      },
      "execution_count": null,
      "outputs": []
    },
    {
      "cell_type": "code",
      "source": [
        "import pandas as pd\n",
        "\n",
        "def calculate_special_bonus(employees: pd.DataFrame) -> pd.DataFrame:\n",
        "    employees['bonus'] = employees.apply(\n",
        "        lambda x: x['salary'] if x['employee_id'] % 2 == 1 and not x['name'].startswith('M') else 0, axis=1\n",
        "    )\n",
        "    return employees[['employee_id', 'bonus']].sort_values(by='employee_id')"
      ],
      "metadata": {
        "id": "ibBFK8wL4dOv"
      },
      "execution_count": null,
      "outputs": []
    },
    {
      "cell_type": "code",
      "source": [
        "import pandas as pd\n",
        "\n",
        "def calculate_special_bonus(employees: pd.DataFrame) -> pd.DataFrame:\n",
        "    condition = (employees['employee_id'] % 2 == 1) & (~employees['name'].str.startswith('M'))\n",
        "    employees[['bonus']] = employees[['salary']].where(condition, 0)\n",
        "    return employees[['employee_id', 'bonus']].sort_values(by='employee_id')"
      ],
      "metadata": {
        "id": "1tHZRmr0aBJR"
      },
      "execution_count": null,
      "outputs": []
    },
    {
      "cell_type": "code",
      "source": [
        "import pandas as pd\n",
        "\n",
        "def calculate_special_bonus(employees):\n",
        "    condition = (employees['employee_id'] % 2 == 1) & (~employees['name'].str.startswith('M'))\n",
        "    employees['bonus'] = employees['salary'].where(condition, 0)\n",
        "    return employees.sort_values(by='employee_id')[['employee_id', 'bonus']]"
      ],
      "metadata": {
        "id": "Q_wRg9UihCfQ"
      },
      "execution_count": null,
      "outputs": []
    },
    {
      "cell_type": "markdown",
      "source": [
        "# 07. Fix Names in a Table"
      ],
      "metadata": {
        "id": "YQ3wOJP7c0v0"
      }
    },
    {
      "cell_type": "code",
      "source": [
        "import pandas as pd\n",
        "\n",
        "def fix_names(users: pd.DataFrame) -> pd.DataFrame:\n",
        "    users['name'] = users['name'].apply(lambda x: x.capitalize())\n",
        "    users = users.sort_values(by='user_id', ascending=True)\n",
        "    return users"
      ],
      "metadata": {
        "id": "ETDYTlWtcv5m"
      },
      "execution_count": null,
      "outputs": []
    },
    {
      "cell_type": "code",
      "source": [
        "import pandas as pd\n",
        "\n",
        "def fix_names(users: pd.DataFrame) -> pd.DataFrame:\n",
        "    users['name'] = users['name'].str[0].str.upper() + users['name'].str[1:].str.lower()\n",
        "    users = users.sort_values(by='user_id')\n",
        "    return users"
      ],
      "metadata": {
        "id": "wblLFR3n2VmI"
      },
      "execution_count": null,
      "outputs": []
    },
    {
      "cell_type": "code",
      "source": [
        "import pandas as pd\n",
        "\n",
        "def fix_names(users: pd.DataFrame) -> pd.DataFrame:\n",
        "    users['name'] = users['name'].str.capitalize()\n",
        "    return users.sort_values(by='user_id')"
      ],
      "metadata": {
        "id": "k86VpIk23iv_"
      },
      "execution_count": null,
      "outputs": []
    },
    {
      "cell_type": "code",
      "source": [
        "import pandas as pd\n",
        "\n",
        "def fix_names(users: pd.DataFrame) -> pd.DataFrame:\n",
        "    users['name'] = users['name'].str.capitalize()\n",
        "    return users.sort_values(by='user_id')"
      ],
      "metadata": {
        "id": "9qbiSa981uwY"
      },
      "execution_count": null,
      "outputs": []
    },
    {
      "cell_type": "code",
      "source": [
        "import pandas as pd\n",
        "\n",
        "def fix_names(users: pd.DataFrame) -> pd.DataFrame:\n",
        "    users['name'] = users['name'].str.capitalize()\n",
        "    return users.sort_values(by='user_id')"
      ],
      "metadata": {
        "id": "65v1eJzXaiRN"
      },
      "execution_count": null,
      "outputs": []
    },
    {
      "cell_type": "code",
      "source": [
        "import pandas as pd\n",
        "\n",
        "def fix_names(users: pd.DataFrame) -> pd.DataFrame:\n",
        "    users['name'] = users['name'].str[0].str.upper() + users['name'].str[1:].str.lower()\n",
        "    users = users.sort_values(by='user_id')\n",
        "    return users"
      ],
      "metadata": {
        "id": "MDul1ZMsD5oH"
      },
      "execution_count": null,
      "outputs": []
    },
    {
      "cell_type": "code",
      "source": [
        "import pandas as pd\n",
        "\n",
        "def fix_names(users):\n",
        "    users['name'] = users['name'].str.capitalize()\n",
        "    users = users.sort_values(by='user_id')\n",
        "\n",
        "    return users"
      ],
      "metadata": {
        "id": "omBQXqJjDZhy"
      },
      "execution_count": null,
      "outputs": []
    },
    {
      "cell_type": "code",
      "source": [
        "import pandas as pd\n",
        "\n",
        "def fix_names(users):\n",
        "    return users.assign(name=users['name'].str.capitalize()).sort_values(by='user_id')"
      ],
      "metadata": {
        "id": "AzS0litaEK94"
      },
      "execution_count": null,
      "outputs": []
    },
    {
      "cell_type": "code",
      "source": [
        "import pandas as pd\n",
        "\n",
        "def fix_names(users):\n",
        "    return users.assign(name=users['name'].str[0].str.upper() + users['name'].str[1:].str.lower()).sort_values(by='user_id')"
      ],
      "metadata": {
        "id": "zFlaBT1awZ33"
      },
      "execution_count": null,
      "outputs": []
    },
    {
      "cell_type": "markdown",
      "source": [
        "# 08. Find Users With Valid E-Mails"
      ],
      "metadata": {
        "id": "zZs6pJy6iDvl"
      }
    },
    {
      "cell_type": "code",
      "source": [
        "import pandas as pd\n",
        "\n",
        "def valid_emails(users: pd.DataFrame) -> pd.DataFrame:\n",
        "    users = users[users['mail'].str.match(r'^[a-zA-Z][a-zA-Z0-9._-]*@leetcode\\.com$')]\n",
        "    return users"
      ],
      "metadata": {
        "id": "i9wD24AyBYR_"
      },
      "execution_count": null,
      "outputs": []
    },
    {
      "cell_type": "code",
      "source": [
        "data = {\n",
        "    'user_id': [1, 2, 3, 4, 5, 6, 7],\n",
        "    'name': ['Winston', 'Jonathan', 'Annabelle', 'Sally', 'Marwan', 'David', 'Shapiro'],\n",
        "    'mail': [\n",
        "        'winston@leetcode.com',        # Валидный\n",
        "        'jonathanisgreat',             # Нет '@', невалидный\n",
        "        'bella-@leetcode.com',         # Валидный\n",
        "        'sally.come@leetcode.com',     # Валидный\n",
        "        'quarz#2020@leetcode.com',     # Символ '#', невалидный\n",
        "        'david69@gmail.com',           # Неверный домен, невалидный\n",
        "        '.shapo@leetcode.com'          # Начинается с '.', невалидный\n",
        "    ]\n",
        "}\n",
        "\n",
        "users_df = pd.DataFrame(data)\n",
        "valid_users_df = valid_emails(users_df)\n",
        "print(valid_users_df)"
      ],
      "metadata": {
        "colab": {
          "base_uri": "https://localhost:8080/"
        },
        "id": "yDqSfydNBk4R",
        "outputId": "65ae3ada-6d25-4dd8-df2b-da9b0422353e"
      },
      "execution_count": null,
      "outputs": [
        {
          "output_type": "stream",
          "name": "stdout",
          "text": [
            "   user_id       name                     mail\n",
            "0        1    Winston     winston@leetcode.com\n",
            "2        3  Annabelle      bella-@leetcode.com\n",
            "3        4      Sally  sally.come@leetcode.com\n"
          ]
        }
      ]
    },
    {
      "cell_type": "code",
      "source": [
        "import pandas as pd\n",
        "\n",
        "def valid_emails(users: pd.DataFrame) -> pd.DataFrame:\n",
        "    users = users[users['mail'].str.contains(r'^[a-zA-Z][a-zA-Z0-9._-]*@leetcode\\.com$')]\n",
        "    return users"
      ],
      "metadata": {
        "id": "Rzgl3-HgK8Ml"
      },
      "execution_count": null,
      "outputs": []
    },
    {
      "cell_type": "code",
      "source": [
        "import pandas as pd\n",
        "\n",
        "def valid_emails(users: pd.DataFrame) -> pd.DataFrame:\n",
        "    return users[users['mail'].str.contains(r'^[a-zA-Z][a-zA-Z0-9._-]*@leetcode\\.com$')]"
      ],
      "metadata": {
        "id": "8UZqCVDaVCEB"
      },
      "execution_count": null,
      "outputs": []
    },
    {
      "cell_type": "code",
      "source": [
        "import pandas as pd\n",
        "\n",
        "def valid_emails(users: pd.DataFrame) -> pd.DataFrame:\n",
        "    users = users[users['mail'].str.contains(r'^[a-zA-Z][a-zA-Z0-9._-]*@leetcode\\.com$')]\n",
        "    return users"
      ],
      "metadata": {
        "id": "2CrZJjfAaqA8"
      },
      "execution_count": null,
      "outputs": []
    },
    {
      "cell_type": "code",
      "source": [],
      "metadata": {
        "id": "-fmXRmTYD7B-"
      },
      "execution_count": null,
      "outputs": []
    },
    {
      "cell_type": "markdown",
      "source": [
        "# 09. Patients With a Condition"
      ],
      "metadata": {
        "id": "2YmYVm36X1Gi"
      }
    },
    {
      "cell_type": "code",
      "source": [
        "import pandas as pd\n",
        "\n",
        "def find_patients(patients: pd.DataFrame) -> pd.DataFrame:\n",
        "    patients = patients[patients['conditions'].str.contains(r'(^|\\s)DIAB1')]\n",
        "    return patients"
      ],
      "metadata": {
        "id": "lrWi2_8-X0Gj"
      },
      "execution_count": null,
      "outputs": []
    },
    {
      "cell_type": "code",
      "source": [
        "import pandas as pd\n",
        "\n",
        "def find_patients(patients: pd.DataFrame) -> pd.DataFrame:\n",
        "    return patients[patients['conditions'].str.contains(r'(^|\\s)DIAB1')]"
      ],
      "metadata": {
        "id": "U58ya5_dj6Fo"
      },
      "execution_count": null,
      "outputs": []
    },
    {
      "cell_type": "code",
      "source": [
        "import pandas as pd\n",
        "\n",
        "def find_patients(patients: pd.DataFrame) -> pd.DataFrame:\n",
        "    return patients[patients['conditions'].str.contains(r'(^|\\s)DIAB1')]"
      ],
      "metadata": {
        "id": "ESiAoINp149-"
      },
      "execution_count": null,
      "outputs": []
    },
    {
      "cell_type": "code",
      "source": [
        "import pandas as pd\n",
        "\n",
        "def find_patients(patients: pd.DataFrame) -> pd.DataFrame:\n",
        "    return patients[patients['conditions'].str.contains(r'(^|\\s)DIAB1')]"
      ],
      "metadata": {
        "id": "Y_S3orhdbBlN"
      },
      "execution_count": null,
      "outputs": []
    },
    {
      "cell_type": "markdown",
      "source": [
        "# 10. Count Occurrences in Text"
      ],
      "metadata": {
        "id": "lEiiNAngRd9e"
      }
    },
    {
      "cell_type": "code",
      "source": [
        "import pandas as pd\n",
        "\n",
        "def count_occurrences(files: pd.DataFrame) -> pd.DataFrame:\n",
        "    bull_count = files[\"content\"].str.contains(\" bull \", case=False).sum()\n",
        "    bear_count = files[\"content\"].str.contains(\" bear \", case=False).sum()\n",
        "\n",
        "    data = {\"word\": [\"bull\", \"bear\"], \"count\": [bull_count, bear_count]}\n",
        "\n",
        "    result_df = pd.DataFrame(data)\n",
        "\n",
        "    return result_df"
      ],
      "metadata": {
        "id": "j3E53ftOQhkZ"
      },
      "execution_count": null,
      "outputs": []
    },
    {
      "cell_type": "code",
      "source": [
        "import pandas as pd\n",
        "\n",
        "def count_occurrences(files: pd.DataFrame) -> pd.DataFrame:\n",
        "    return pd.DataFrame(\n",
        "        {'word': ['bull', 'bear'],\n",
        "        'count':[\n",
        "            files['content'].str.contains(' bull ').sum(),\n",
        "            files['content'].str.contains(' bear ').sum()\n",
        "        ]\n",
        "        }\n",
        "    )"
      ],
      "metadata": {
        "id": "AEc7tGVAZXxn"
      },
      "execution_count": null,
      "outputs": []
    },
    {
      "cell_type": "code",
      "source": [
        "import pandas as pd\n",
        "\n",
        "def count_occurrences(files: pd.DataFrame) -> pd.DataFrame:\n",
        "    return pd.DataFrame(\n",
        "        {'word': ['bull', 'bear'],\n",
        "        'count':[\n",
        "            files['content'].str.contains(' bull ').sum(),\n",
        "            files['content'].str.contains(' bear ').sum()\n",
        "        ]\n",
        "        }\n",
        "    )"
      ],
      "metadata": {
        "id": "A1bZeuZXLq3U"
      },
      "execution_count": null,
      "outputs": []
    },
    {
      "cell_type": "code",
      "source": [
        "import pandas as pd\n",
        "\n",
        "def count_occurrences(files: pd.DataFrame) -> pd.DataFrame:\n",
        "    return pd.DataFrame(\n",
        "        {'word': ['bull', 'bear'],\n",
        "        'count':[\n",
        "            files['content'].str.contains(' bull ').sum(),\n",
        "            files['content'].str.contains(' bear ').sum()\n",
        "        ]\n",
        "        }\n",
        "    )"
      ],
      "metadata": {
        "id": "YvuCFWx1E8By"
      },
      "execution_count": null,
      "outputs": []
    },
    {
      "cell_type": "markdown",
      "source": [
        "# 11. Nth Highest Salary"
      ],
      "metadata": {
        "id": "g492ErbrUPxn"
      }
    },
    {
      "cell_type": "code",
      "source": [
        "import pandas as pd\n",
        "\n",
        "def nth_highest_salary(employee: pd.DataFrame, N: int) -> pd.DataFrame:\n",
        "\n",
        "    answer = employee.drop_duplicates(subset='salary')\n",
        "    answer = answer.sort_values(by='salary', ascending=False).reset_index()\n",
        "    if N > len(answer) or N < 1:\n",
        "        return pd.DataFrame({f'getNthHighestSalary({N})': [None]})\n",
        "    answer = answer.rename(columns={'salary':f'getNthHighestSalary({N})'})\n",
        "    return answer.loc[[N - 1], [f'getNthHighestSalary({N})']]"
      ],
      "metadata": {
        "id": "Ch9mSM98UO3A"
      },
      "execution_count": null,
      "outputs": []
    },
    {
      "cell_type": "code",
      "source": [
        "import pandas as pd\n",
        "\n",
        "def nth_highest_salary(employee: pd.DataFrame, N: int) -> pd.DataFrame:\n",
        "    employee = employee[['salary']].drop_duplicates()\n",
        "    employee = employee.sort_values(by='salary', ascending=False).reset_index()\n",
        "    employee = employee[['salary']]\n",
        "    if employee.shape[0] < N or N < 1:\n",
        "        return pd.DataFrame({f'getNthHighestSalary({N})': [None]})\n",
        "    employee.columns = [f'getNthHighestSalary({N})']\n",
        "    return employee.loc[[N - 1]]"
      ],
      "metadata": {
        "id": "ZTVddk8nOqCp"
      },
      "execution_count": null,
      "outputs": []
    },
    {
      "cell_type": "markdown",
      "source": [
        "# 12. Second Highest Salary"
      ],
      "metadata": {
        "id": "kjfavmeLiFKf"
      }
    },
    {
      "cell_type": "code",
      "source": [
        "import pandas as pd\n",
        "\n",
        "def second_highest_salary(employee: pd.DataFrame) -> pd.DataFrame:\n",
        "    salary = employee.drop_duplicates(subset='salary')\n",
        "    salary = salary.sort_values(by='salary', ascending=False).reset_index()\n",
        "    if len(salary) < 2:\n",
        "        return pd.DataFrame({'SecondHighestSalary': [None]})\n",
        "    salary = salary.rename(columns={'salary': 'SecondHighestSalary'})\n",
        "    return salary.loc[[1], ['SecondHighestSalary']]"
      ],
      "metadata": {
        "id": "S0Ju6qQXiEHL"
      },
      "execution_count": null,
      "outputs": []
    },
    {
      "cell_type": "code",
      "source": [
        "import pandas as pd\n",
        "\n",
        "def second_highest_salary(employee: pd.DataFrame) -> pd.DataFrame:\n",
        "    salary = employee.drop_duplicates(subset='salary')\n",
        "    salary = salary.saort_values(by='salary', ascending=False).reset_index()\n",
        "    if len(salary) < 2:\n",
        "        return pd.DataFrame({'SecondHighestSalary': [None]})\n",
        "    salary = salary.rename(columns={'salary': 'SecondHighestSalary'})\n",
        "    return salary.loc[[1], ['SecondHighestSalary']]"
      ],
      "metadata": {
        "id": "TL4BfJRwbIvc"
      },
      "execution_count": null,
      "outputs": []
    },
    {
      "cell_type": "code",
      "source": [
        "import pandas as pd\n",
        "\n",
        "def second_highest_salary(employee: pd.DataFrame) -> pd.DataFrame:\n",
        "    salary = employee.drop_duplicates(subset='salary')\n",
        "    salary = salary.saort_values(by='salary', ascending=False).reset_index()\n",
        "    if len(salary) < 2:\n",
        "        return pd.DataFrame({'SecondHighestSalary': [None]})\n",
        "    salary = salary.rename(columns={'salary': 'SecondHighestSalary'})\n",
        "    return salary.loc[[1], ['SecondHighestSalary']]"
      ],
      "metadata": {
        "id": "tcgJxVI0KHpC"
      },
      "execution_count": null,
      "outputs": []
    },
    {
      "cell_type": "markdown",
      "source": [
        "# 13. Department Highest Salary"
      ],
      "metadata": {
        "id": "c_S7wphkAyVk"
      }
    },
    {
      "cell_type": "code",
      "source": [
        "import pandas as pd\n",
        "\n",
        "def department_highest_salary(employee: pd.DataFrame, department: pd.DataFrame) -> pd.DataFrame:\n",
        "    # 1. Находим максимальные зарплаты в каждом департаменте\n",
        "    max_salaries = (\n",
        "        employee.groupby(\"departmentId\")[\"salary\"]\n",
        "        .transform(\"max\")  # Добавляем столбец с максимальной зарплатой для каждого департамента\n",
        "    )\n",
        "\n",
        "    # 2. Фильтруем сотрудников, которые получают максимальную зарплату\n",
        "    top_earners = employee[employee[\"salary\"] == max_salaries]\n",
        "\n",
        "    # 3. Присоединяем названия департаментов\n",
        "    result = pd.merge(\n",
        "        top_earners,\n",
        "        department,\n",
        "        left_on=\"departmentId\",\n",
        "        right_on=\"id\",\n",
        "        how=\"inner\"\n",
        "    )\n",
        "\n",
        "    # 4. Формируем итоговую таблицу с нужными столбцами\n",
        "    result = result[[\"name_y\", \"name_x\", \"salary\"]]\n",
        "    result.columns = [\"Department\", \"Employee\", \"Salary\"]\n",
        "\n",
        "    return result"
      ],
      "metadata": {
        "id": "TKTG-IM4xArm"
      },
      "execution_count": null,
      "outputs": []
    },
    {
      "cell_type": "code",
      "source": [
        "import pandas as pd\n",
        "\n",
        "def department_highest_salary(employee: pd.DataFrame, department: pd.DataFrame) -> pd.DataFrame:\n",
        "    # 1. Находим максимальную зарплату в каждом департаменте\n",
        "    max_salary_per_department = (\n",
        "        employee.groupby(\"departmentId\")[\"salary\"]\n",
        "        .max()\n",
        "        .reset_index()  # Возвращаем как DataFrame для дальнейшего join\n",
        "        .rename(columns={\"salary\": \"max_salary\"})\n",
        "    )\n",
        "\n",
        "    # 2. Присоединяем данные о департаментах и фильтруем сотрудников с максимальной зарплатой\n",
        "    result = (\n",
        "        employee\n",
        "        .merge(max_salary_per_department, on=\"departmentId\", how=\"inner\")  # Сопоставляем максимальную зарплату\n",
        "        .merge(department, left_on=\"departmentId\", right_on=\"id\", how=\"inner\")  # Присоединяем названия департаментов\n",
        "        .query(\"salary == max_salary\")  # Оставляем только тех, чья зарплата равна максимальной\n",
        "    )\n",
        "\n",
        "    # 3. Формируем итоговую таблицу с нужными столбцами\n",
        "    result = result[[\"name_y\", \"name_x\", \"salary\"]]\n",
        "    result.columns = [\"Department\", \"Employee\", \"Salary\"]\n",
        "\n",
        "    return result"
      ],
      "metadata": {
        "id": "XPI_hzSuxB1i"
      },
      "execution_count": null,
      "outputs": []
    },
    {
      "cell_type": "code",
      "source": [
        "import pandas as pd\n",
        "\n",
        "def department_highest_salary(employee: pd.DataFrame, department: pd.DataFrame) -> pd.DataFrame:\n",
        "    max_salary = employee.groupby('departmentId')['salary'].transform('max')\n",
        "    top_salaries = employee[employee['salary'] == max_salary]\n",
        "    result = pd.merge(\n",
        "        top_salaries,\n",
        "        department,\n",
        "        left_on = 'departmentId',\n",
        "        right_on = 'id',\n",
        "        how = 'inner'\n",
        "    )\n",
        "    result = result[['name_y', 'name_x', 'salary']]\n",
        "    result.columns = ['Department', 'Employee', 'Salary']\n",
        "\n",
        "    return result"
      ],
      "metadata": {
        "id": "MwBkuXhwsKOw"
      },
      "execution_count": null,
      "outputs": []
    },
    {
      "cell_type": "code",
      "source": [
        "import pandas as pd\n",
        "\n",
        "def department_highest_salary(employee: pd.DataFrame, department: pd.DataFrame) -> pd.DataFrame:\n",
        "    max_salary = employee.groupby('departmentId')['salary'].transform('max')\n",
        "    top_salaries = employee[employee['salary'] == max_salary]\n",
        "    result = pd.merge(\n",
        "        top_salaries,\n",
        "        department,\n",
        "        left_on = 'departmentId',\n",
        "        right_on = 'id',\n",
        "        how = 'inner'\n",
        "    )\n",
        "    result = result[['name_y', 'name_x', 'salary']]\n",
        "    result.columns = ['Department', 'Employee', 'Salary']\n",
        "\n",
        "    return result"
      ],
      "metadata": {
        "id": "_jbt1CWd2Dvf"
      },
      "execution_count": null,
      "outputs": []
    },
    {
      "cell_type": "code",
      "source": [
        "import pandas as pd\n",
        "\n",
        "def department_highest_salary(employee: pd.DataFrame, department: pd.DataFrame) -> pd.DataFrame:\n",
        "    max_salary = employee.groupby('departmentId')['salary'].transform('max')\n",
        "    top_salaries = employee[employee['salary'] == max_salary]\n",
        "    result = pd.merge(\n",
        "        top_salaries,\n",
        "        department,\n",
        "        left_on = 'departmentId',\n",
        "        right_on = 'id',\n",
        "        how = 'inner'\n",
        "    )\n",
        "    result = result[['name_y', 'name_x', 'salary']]\n",
        "    result.columns = ['Department', 'Employee', 'Salary']\n",
        "\n",
        "    return result"
      ],
      "metadata": {
        "id": "P6oCqfNRKgRx"
      },
      "execution_count": null,
      "outputs": []
    },
    {
      "cell_type": "markdown",
      "source": [
        "# 14. Rank Scores"
      ],
      "metadata": {
        "id": "ZfEnY75hA2nj"
      }
    },
    {
      "cell_type": "code",
      "source": [
        "import pandas as pd\n",
        "\n",
        "def order_scores(scores: pd.DataFrame) -> pd.DataFrame:\n",
        "    scores['rank'] = scores['score'].rank(method='dense', ascending=False).astype('int')\n",
        "    scores = scores.sort_values(by='rank').reset_index()\n",
        "    return scores[['score', 'rank']]"
      ],
      "metadata": {
        "id": "-ezjh-LPA9eH"
      },
      "execution_count": null,
      "outputs": []
    },
    {
      "cell_type": "code",
      "source": [
        "import pandas as pd\n",
        "\n",
        "def order_scores(scores: pd.DataFrame) -> pd.DataFrame:\n",
        "    scores['rank'] = scores['score'].rank(method='dense', ascending=False).astype('int')\n",
        "    scores = scores.sort_values(by='rank').reset_index()\n",
        "    return scores[['score', 'rank']]"
      ],
      "metadata": {
        "id": "MdyLmEA1bWf0"
      },
      "execution_count": null,
      "outputs": []
    },
    {
      "cell_type": "code",
      "source": [
        "import pandas as pd\n",
        "\n",
        "def order_scores(scores: pd.DataFrame) -> pd.DataFrame:\n",
        "    scores['rank'] = scores['score'].rank(method='dense', ascending=False).astype('int')\n",
        "    scores = scores.sort_values(by='rank').reset_index()\n",
        "    return scores[['score', 'rank']]"
      ],
      "metadata": {
        "id": "rN5Jw0VXKqb4"
      },
      "execution_count": null,
      "outputs": []
    },
    {
      "cell_type": "markdown",
      "source": [
        "# 15. Delete Duplicate Emails"
      ],
      "metadata": {
        "id": "_GA7lc8udF0u"
      }
    },
    {
      "cell_type": "code",
      "source": [
        "import pandas as pd\n",
        "\n",
        "def delete_duplicate_emails(person: pd.DataFrame) -> None:\n",
        "    person.sort_values(by='id', inplace=True)\n",
        "    person.drop_duplicates(subset='email', keep='first', inplace=True)\n",
        "\n",
        "    return\n"
      ],
      "metadata": {
        "id": "ErwxC5ybdEsf"
      },
      "execution_count": null,
      "outputs": []
    },
    {
      "cell_type": "code",
      "source": [
        "import pandas as pd\n",
        "\n",
        "def delete_duplicate_emails(person: pd.DataFrame) -> None:\n",
        "    person.sort_values(by='id', inplace=True)\n",
        "    person.drop_duplicates(subset='email', inplace=True)\n",
        "    return"
      ],
      "metadata": {
        "id": "8aMhsXGVHCom"
      },
      "execution_count": null,
      "outputs": []
    },
    {
      "cell_type": "code",
      "source": [
        "import pandas as pd\n",
        "\n",
        "def delete_duplicate_emails(person: pd.DataFrame) -> None:\n",
        "    person.sort_values(by='id', inplace=True)\n",
        "    person.drop_duplicates(subset='email', inplace=True)\n",
        "    return"
      ],
      "metadata": {
        "id": "sJMDfNDCKx7p"
      },
      "execution_count": null,
      "outputs": []
    },
    {
      "cell_type": "markdown",
      "source": [
        "# 16. Rearrange Products Table"
      ],
      "metadata": {
        "id": "iNSaUPz8fYy3"
      }
    },
    {
      "cell_type": "code",
      "source": [
        "import pandas as pd\n",
        "\n",
        "def rearrange_products_table(products: pd.DataFrame) -> pd.DataFrame:\n",
        "    products = pd.melt(products, id_vars='product_id', var_name='store', value_name='price')\n",
        "    products = products.dropna(subset='price')\n",
        "\n",
        "    return products"
      ],
      "metadata": {
        "id": "j5vkO0crfX61"
      },
      "execution_count": null,
      "outputs": []
    },
    {
      "cell_type": "code",
      "source": [
        "import pandas as pd\n",
        "\n",
        "def rearrange_products_table(products: pd.DataFrame) -> pd.DataFrame:\n",
        "    products = pd.melt(products, id_vars='product_id', var_name='store', value_name='price')\n",
        "    products = products.dropna(subset='price')\n",
        "\n",
        "    return products"
      ],
      "metadata": {
        "id": "19sx8dr3K5mM"
      },
      "execution_count": null,
      "outputs": []
    },
    {
      "cell_type": "markdown",
      "source": [
        "# 17. The Number of Rich Customers"
      ],
      "metadata": {
        "id": "jBk89BSmHsgN"
      }
    },
    {
      "cell_type": "code",
      "source": [
        "import pandas as pd\n",
        "\n",
        "def count_rich_customers(store: pd.DataFrame) -> pd.DataFrame:\n",
        "    store = store.query('amount > 500')\n",
        "    store = store.drop_duplicates(subset='customer_id')\n",
        "    rows = store.shape[0]\n",
        "    df = pd.DataFrame({'rich_count': [rows]})\n",
        "\n",
        "    return df"
      ],
      "metadata": {
        "id": "TuUS8Rs9pQZa"
      },
      "execution_count": null,
      "outputs": []
    },
    {
      "cell_type": "code",
      "source": [
        "import pandas as pd\n",
        "\n",
        "def count_rich_customers(store: pd.DataFrame) -> pd.DataFrame:\n",
        "    result = store[store['amount'] > 500].drop_duplicates(subset='customer_id')\n",
        "    count = result.shape[0]\n",
        "    result = pd.DataFrame({'rich_count': [count]})\n",
        "    return result"
      ],
      "metadata": {
        "id": "P5JhdeFz1TWl"
      },
      "execution_count": null,
      "outputs": []
    },
    {
      "cell_type": "markdown",
      "source": [
        "# 18. Immediate Food Delivery I"
      ],
      "metadata": {
        "id": "9z1cRAUpjU3p"
      }
    },
    {
      "cell_type": "code",
      "source": [
        "import pandas as pd\n",
        "\n",
        "def food_delivery(delivery: pd.DataFrame) -> pd.DataFrame:\n",
        "    immediate = len(delivery[delivery['order_date'] == delivery['customer_pref_delivery_date']])\n",
        "    all_deliveries = delivery.shape[0]\n",
        "    df = pd.DataFrame({'immediate_percentage':[round(100 * immediate / all_deliveries, 2)]})\n",
        "    return df[['immediate_percentage']]"
      ],
      "metadata": {
        "id": "LXT27JoRjTyp"
      },
      "execution_count": null,
      "outputs": []
    },
    {
      "cell_type": "code",
      "source": [
        "import pandas as pd\n",
        "\n",
        "def food_delivery(delivery: pd.DataFrame) -> pd.DataFrame:\n",
        "    immediate = delivery[delivery['order_date'] == delivery['customer_pref_delivery_date']]\n",
        "    percentage = round(100 * len(immediate) / len(delivery), 2)\n",
        "    result = pd.DataFrame({\n",
        "        'immediate_percentage': [percentage]\n",
        "    })\n",
        "    return result"
      ],
      "metadata": {
        "id": "0-SkQt12BLWb"
      },
      "execution_count": null,
      "outputs": []
    },
    {
      "cell_type": "markdown",
      "source": [
        "# 19. Count Salary Categories"
      ],
      "metadata": {
        "id": "VFI5nBEfBQKc"
      }
    },
    {
      "cell_type": "code",
      "source": [
        "import pandas as pd\n",
        "\n",
        "def count_salary_categories(accounts: pd.DataFrame) -> pd.DataFrame:\n",
        "    low_salary = accounts[accounts['income'] < 20000].shape[0]\n",
        "    avarage_salary = accounts[(accounts['income'] >= 20000) & (accounts['income'] <= 50000)].shape[0]\n",
        "    high_salary = accounts[accounts['income'] > 50000].shape[0]\n",
        "    df = pd.DataFrame({\n",
        "        'category': ['Low Salary', 'Average Salary', 'High Salary'],\n",
        "        'accounts_count': [low_salary, avarage_salary, high_salary]\n",
        "    })\n",
        "\n",
        "    return df"
      ],
      "metadata": {
        "id": "CTr7AZ395NJy"
      },
      "execution_count": null,
      "outputs": []
    },
    {
      "cell_type": "code",
      "source": [
        "import pandas as pd\n",
        "\n",
        "def count_salary_categories(accounts: pd.DataFrame) -> pd.DataFrame:\n",
        "    low_salary = accounts[accounts['income'] < 20_000]\n",
        "    average_salary = accounts[(accounts['income'] >= 20_000) & (accounts['income'] <= 50_000)]\n",
        "    high_salary = accounts[accounts['income'] > 50_000]\n",
        "\n",
        "\n",
        "    result = pd.DataFrame({\n",
        "        'category': ['Low Salary', 'Average Salary', 'High Salary'],\n",
        "        'accounts_count': [len(low_salary), len(average_salary), len(high_salary)]\n",
        "    })\n",
        "\n",
        "    return result"
      ],
      "metadata": {
        "id": "2tig8aWLE7pM"
      },
      "execution_count": null,
      "outputs": []
    },
    {
      "cell_type": "code",
      "source": [
        "import pandas as pd\n",
        "\n",
        "def count_salary_categories(accounts: pd.DataFrame) -> pd.DataFrame:\n",
        "    low_salary = accounts[accounts['income'] < 20_000]\n",
        "    average_salary = accounts[(accounts['income'] >= 20_000) & (accounts['income'] <= 50_000)]\n",
        "    high_salary = accounts[accounts['income'] > 50_000]\n",
        "\n",
        "\n",
        "    result = pd.DataFrame({\n",
        "        'category': ['Low Salary', 'Average Salary', 'High Salary'],\n",
        "        'accounts_count': [len(low_salary), len(average_salary), len(high_salary)]\n",
        "    })\n",
        "\n",
        "    return result"
      ],
      "metadata": {
        "id": "1-ema0ODf49s"
      },
      "execution_count": null,
      "outputs": []
    },
    {
      "cell_type": "markdown",
      "source": [
        "# 20. Ads Performance"
      ],
      "metadata": {
        "id": "u9rypQJM2LcQ"
      }
    },
    {
      "cell_type": "code",
      "source": [
        "import pandas as pd\n",
        "\n",
        "def ads_performance(ads: pd.DataFrame) -> pd.DataFrame:\n",
        "    # Группируем данные по ad_id и считаем количество Clicked и Clicked/Viewed действий\n",
        "    ads = ads.groupby('ad_id').apply(\n",
        "        lambda x:pd.Series({\n",
        "            'clicked': (x['action'] == 'Clicked').sum(),\n",
        "            'clicked_viewed': ((x['action'] == 'Clicked') | (x['action'] == 'Viewed')).sum()\n",
        "        })\n",
        "    ).reset_index()\n",
        "\n",
        "    # Рассчитываем CTR и обрабатываем случай деления на 0\n",
        "\n",
        "    ads['ctr'] = ads.apply(\n",
        "        lambda x: round(100 * x['clicked'] / x['clicked_viewed'], 2) if x['clicked_viewed'] >0 else 0, axis=1)\n",
        "\n",
        "    ads = ads[['ad_id', 'ctr']].sort_values(by=['ctr', 'ad_id'], ascending=[False, True])\n",
        "\n",
        "    return ads"
      ],
      "metadata": {
        "id": "kkAAonzMjboW"
      },
      "execution_count": null,
      "outputs": []
    },
    {
      "cell_type": "code",
      "source": [
        "import pandas as pd\n",
        "import numpy as np\n",
        "\n",
        "def ads_performance(ads: pd.DataFrame) -> pd.DataFrame:\n",
        "    # Группируем по 'ad_id' и агрегируем с помощью функции count для подсчета значений\n",
        "    ads_agg = ads.groupby('ad_id').agg(\n",
        "        clicked=('action', lambda x: (x == 'Clicked').sum()),          # Подсчитываем количество 'Clicked'\n",
        "        clicked_viewed=('action', lambda x: (x.isin(['Clicked', 'Viewed'])).sum())  # Подсчитываем 'Clicked' и 'Viewed'\n",
        "    ).reset_index()\n",
        "\n",
        "    # Рассчитываем CTR с использованием np.where для обработки деления на ноль\n",
        "    ads_agg['ctr'] = np.where(ads_agg['clicked_viewed'] > 0,\n",
        "                              round(100 * ads_agg['clicked'] / ads_agg['clicked_viewed'], 2),\n",
        "                              0)\n",
        "\n",
        "    # Сортируем результат по 'ctr' в порядке убывания и по 'ad_id' в порядке возрастания\n",
        "    ads_agg = ads_agg[['ad_id', 'ctr']].sort_values(by=['ctr', 'ad_id'], ascending=[False, True])\n",
        "\n",
        "    return ads_agg"
      ],
      "metadata": {
        "id": "N9j16s78Fhh4"
      },
      "execution_count": null,
      "outputs": []
    },
    {
      "cell_type": "code",
      "source": [
        "data = {\n",
        "    'ad_id': [1, 1, 2, 2, 2, 3, 3],\n",
        "    'action': ['Clicked', 'Viewed', 'Clicked', 'Viewed', 'Viewed', 'Viewed', 'Clicked']\n",
        "}\n",
        "ads = pd.DataFrame(data)\n"
      ],
      "metadata": {
        "id": "obxN7mkmbIu3"
      },
      "execution_count": null,
      "outputs": []
    },
    {
      "cell_type": "code",
      "source": [
        "result = ads_performance(ads)\n",
        "result"
      ],
      "metadata": {
        "colab": {
          "base_uri": "https://localhost:8080/"
        },
        "id": "wB7cFLU7bRpO",
        "outputId": "ecd5e317-d919-4dfc-e1c1-0ed72b053f48"
      },
      "execution_count": null,
      "outputs": [
        {
          "output_type": "execute_result",
          "data": {
            "text/plain": [
              "   ad_id    ctr\n",
              "0      1  50.00\n",
              "2      3  50.00\n",
              "1      2  33.33"
            ],
            "text/html": [
              "\n",
              "  <div id=\"df-50426e64-df4d-4e5e-aaa6-cc3e3bd6e2e4\" class=\"colab-df-container\">\n",
              "    <div>\n",
              "<style scoped>\n",
              "    .dataframe tbody tr th:only-of-type {\n",
              "        vertical-align: middle;\n",
              "    }\n",
              "\n",
              "    .dataframe tbody tr th {\n",
              "        vertical-align: top;\n",
              "    }\n",
              "\n",
              "    .dataframe thead th {\n",
              "        text-align: right;\n",
              "    }\n",
              "</style>\n",
              "<table border=\"1\" class=\"dataframe\">\n",
              "  <thead>\n",
              "    <tr style=\"text-align: right;\">\n",
              "      <th></th>\n",
              "      <th>ad_id</th>\n",
              "      <th>ctr</th>\n",
              "    </tr>\n",
              "  </thead>\n",
              "  <tbody>\n",
              "    <tr>\n",
              "      <th>0</th>\n",
              "      <td>1</td>\n",
              "      <td>50.00</td>\n",
              "    </tr>\n",
              "    <tr>\n",
              "      <th>2</th>\n",
              "      <td>3</td>\n",
              "      <td>50.00</td>\n",
              "    </tr>\n",
              "    <tr>\n",
              "      <th>1</th>\n",
              "      <td>2</td>\n",
              "      <td>33.33</td>\n",
              "    </tr>\n",
              "  </tbody>\n",
              "</table>\n",
              "</div>\n",
              "    <div class=\"colab-df-buttons\">\n",
              "\n",
              "  <div class=\"colab-df-container\">\n",
              "    <button class=\"colab-df-convert\" onclick=\"convertToInteractive('df-50426e64-df4d-4e5e-aaa6-cc3e3bd6e2e4')\"\n",
              "            title=\"Convert this dataframe to an interactive table.\"\n",
              "            style=\"display:none;\">\n",
              "\n",
              "  <svg xmlns=\"http://www.w3.org/2000/svg\" height=\"24px\" viewBox=\"0 -960 960 960\">\n",
              "    <path d=\"M120-120v-720h720v720H120Zm60-500h600v-160H180v160Zm220 220h160v-160H400v160Zm0 220h160v-160H400v160ZM180-400h160v-160H180v160Zm440 0h160v-160H620v160ZM180-180h160v-160H180v160Zm440 0h160v-160H620v160Z\"/>\n",
              "  </svg>\n",
              "    </button>\n",
              "\n",
              "  <style>\n",
              "    .colab-df-container {\n",
              "      display:flex;\n",
              "      gap: 12px;\n",
              "    }\n",
              "\n",
              "    .colab-df-convert {\n",
              "      background-color: #E8F0FE;\n",
              "      border: none;\n",
              "      border-radius: 50%;\n",
              "      cursor: pointer;\n",
              "      display: none;\n",
              "      fill: #1967D2;\n",
              "      height: 32px;\n",
              "      padding: 0 0 0 0;\n",
              "      width: 32px;\n",
              "    }\n",
              "\n",
              "    .colab-df-convert:hover {\n",
              "      background-color: #E2EBFA;\n",
              "      box-shadow: 0px 1px 2px rgba(60, 64, 67, 0.3), 0px 1px 3px 1px rgba(60, 64, 67, 0.15);\n",
              "      fill: #174EA6;\n",
              "    }\n",
              "\n",
              "    .colab-df-buttons div {\n",
              "      margin-bottom: 4px;\n",
              "    }\n",
              "\n",
              "    [theme=dark] .colab-df-convert {\n",
              "      background-color: #3B4455;\n",
              "      fill: #D2E3FC;\n",
              "    }\n",
              "\n",
              "    [theme=dark] .colab-df-convert:hover {\n",
              "      background-color: #434B5C;\n",
              "      box-shadow: 0px 1px 3px 1px rgba(0, 0, 0, 0.15);\n",
              "      filter: drop-shadow(0px 1px 2px rgba(0, 0, 0, 0.3));\n",
              "      fill: #FFFFFF;\n",
              "    }\n",
              "  </style>\n",
              "\n",
              "    <script>\n",
              "      const buttonEl =\n",
              "        document.querySelector('#df-50426e64-df4d-4e5e-aaa6-cc3e3bd6e2e4 button.colab-df-convert');\n",
              "      buttonEl.style.display =\n",
              "        google.colab.kernel.accessAllowed ? 'block' : 'none';\n",
              "\n",
              "      async function convertToInteractive(key) {\n",
              "        const element = document.querySelector('#df-50426e64-df4d-4e5e-aaa6-cc3e3bd6e2e4');\n",
              "        const dataTable =\n",
              "          await google.colab.kernel.invokeFunction('convertToInteractive',\n",
              "                                                    [key], {});\n",
              "        if (!dataTable) return;\n",
              "\n",
              "        const docLinkHtml = 'Like what you see? Visit the ' +\n",
              "          '<a target=\"_blank\" href=https://colab.research.google.com/notebooks/data_table.ipynb>data table notebook</a>'\n",
              "          + ' to learn more about interactive tables.';\n",
              "        element.innerHTML = '';\n",
              "        dataTable['output_type'] = 'display_data';\n",
              "        await google.colab.output.renderOutput(dataTable, element);\n",
              "        const docLink = document.createElement('div');\n",
              "        docLink.innerHTML = docLinkHtml;\n",
              "        element.appendChild(docLink);\n",
              "      }\n",
              "    </script>\n",
              "  </div>\n",
              "\n",
              "\n",
              "<div id=\"df-3c77d2d4-4109-4def-be66-ad5fa29bc079\">\n",
              "  <button class=\"colab-df-quickchart\" onclick=\"quickchart('df-3c77d2d4-4109-4def-be66-ad5fa29bc079')\"\n",
              "            title=\"Suggest charts\"\n",
              "            style=\"display:none;\">\n",
              "\n",
              "<svg xmlns=\"http://www.w3.org/2000/svg\" height=\"24px\"viewBox=\"0 0 24 24\"\n",
              "     width=\"24px\">\n",
              "    <g>\n",
              "        <path d=\"M19 3H5c-1.1 0-2 .9-2 2v14c0 1.1.9 2 2 2h14c1.1 0 2-.9 2-2V5c0-1.1-.9-2-2-2zM9 17H7v-7h2v7zm4 0h-2V7h2v10zm4 0h-2v-4h2v4z\"/>\n",
              "    </g>\n",
              "</svg>\n",
              "  </button>\n",
              "\n",
              "<style>\n",
              "  .colab-df-quickchart {\n",
              "      --bg-color: #E8F0FE;\n",
              "      --fill-color: #1967D2;\n",
              "      --hover-bg-color: #E2EBFA;\n",
              "      --hover-fill-color: #174EA6;\n",
              "      --disabled-fill-color: #AAA;\n",
              "      --disabled-bg-color: #DDD;\n",
              "  }\n",
              "\n",
              "  [theme=dark] .colab-df-quickchart {\n",
              "      --bg-color: #3B4455;\n",
              "      --fill-color: #D2E3FC;\n",
              "      --hover-bg-color: #434B5C;\n",
              "      --hover-fill-color: #FFFFFF;\n",
              "      --disabled-bg-color: #3B4455;\n",
              "      --disabled-fill-color: #666;\n",
              "  }\n",
              "\n",
              "  .colab-df-quickchart {\n",
              "    background-color: var(--bg-color);\n",
              "    border: none;\n",
              "    border-radius: 50%;\n",
              "    cursor: pointer;\n",
              "    display: none;\n",
              "    fill: var(--fill-color);\n",
              "    height: 32px;\n",
              "    padding: 0;\n",
              "    width: 32px;\n",
              "  }\n",
              "\n",
              "  .colab-df-quickchart:hover {\n",
              "    background-color: var(--hover-bg-color);\n",
              "    box-shadow: 0 1px 2px rgba(60, 64, 67, 0.3), 0 1px 3px 1px rgba(60, 64, 67, 0.15);\n",
              "    fill: var(--button-hover-fill-color);\n",
              "  }\n",
              "\n",
              "  .colab-df-quickchart-complete:disabled,\n",
              "  .colab-df-quickchart-complete:disabled:hover {\n",
              "    background-color: var(--disabled-bg-color);\n",
              "    fill: var(--disabled-fill-color);\n",
              "    box-shadow: none;\n",
              "  }\n",
              "\n",
              "  .colab-df-spinner {\n",
              "    border: 2px solid var(--fill-color);\n",
              "    border-color: transparent;\n",
              "    border-bottom-color: var(--fill-color);\n",
              "    animation:\n",
              "      spin 1s steps(1) infinite;\n",
              "  }\n",
              "\n",
              "  @keyframes spin {\n",
              "    0% {\n",
              "      border-color: transparent;\n",
              "      border-bottom-color: var(--fill-color);\n",
              "      border-left-color: var(--fill-color);\n",
              "    }\n",
              "    20% {\n",
              "      border-color: transparent;\n",
              "      border-left-color: var(--fill-color);\n",
              "      border-top-color: var(--fill-color);\n",
              "    }\n",
              "    30% {\n",
              "      border-color: transparent;\n",
              "      border-left-color: var(--fill-color);\n",
              "      border-top-color: var(--fill-color);\n",
              "      border-right-color: var(--fill-color);\n",
              "    }\n",
              "    40% {\n",
              "      border-color: transparent;\n",
              "      border-right-color: var(--fill-color);\n",
              "      border-top-color: var(--fill-color);\n",
              "    }\n",
              "    60% {\n",
              "      border-color: transparent;\n",
              "      border-right-color: var(--fill-color);\n",
              "    }\n",
              "    80% {\n",
              "      border-color: transparent;\n",
              "      border-right-color: var(--fill-color);\n",
              "      border-bottom-color: var(--fill-color);\n",
              "    }\n",
              "    90% {\n",
              "      border-color: transparent;\n",
              "      border-bottom-color: var(--fill-color);\n",
              "    }\n",
              "  }\n",
              "</style>\n",
              "\n",
              "  <script>\n",
              "    async function quickchart(key) {\n",
              "      const quickchartButtonEl =\n",
              "        document.querySelector('#' + key + ' button');\n",
              "      quickchartButtonEl.disabled = true;  // To prevent multiple clicks.\n",
              "      quickchartButtonEl.classList.add('colab-df-spinner');\n",
              "      try {\n",
              "        const charts = await google.colab.kernel.invokeFunction(\n",
              "            'suggestCharts', [key], {});\n",
              "      } catch (error) {\n",
              "        console.error('Error during call to suggestCharts:', error);\n",
              "      }\n",
              "      quickchartButtonEl.classList.remove('colab-df-spinner');\n",
              "      quickchartButtonEl.classList.add('colab-df-quickchart-complete');\n",
              "    }\n",
              "    (() => {\n",
              "      let quickchartButtonEl =\n",
              "        document.querySelector('#df-3c77d2d4-4109-4def-be66-ad5fa29bc079 button');\n",
              "      quickchartButtonEl.style.display =\n",
              "        google.colab.kernel.accessAllowed ? 'block' : 'none';\n",
              "    })();\n",
              "  </script>\n",
              "</div>\n",
              "\n",
              "  <div id=\"id_78895a76-111b-4ed6-bf2c-014998e46d6b\">\n",
              "    <style>\n",
              "      .colab-df-generate {\n",
              "        background-color: #E8F0FE;\n",
              "        border: none;\n",
              "        border-radius: 50%;\n",
              "        cursor: pointer;\n",
              "        display: none;\n",
              "        fill: #1967D2;\n",
              "        height: 32px;\n",
              "        padding: 0 0 0 0;\n",
              "        width: 32px;\n",
              "      }\n",
              "\n",
              "      .colab-df-generate:hover {\n",
              "        background-color: #E2EBFA;\n",
              "        box-shadow: 0px 1px 2px rgba(60, 64, 67, 0.3), 0px 1px 3px 1px rgba(60, 64, 67, 0.15);\n",
              "        fill: #174EA6;\n",
              "      }\n",
              "\n",
              "      [theme=dark] .colab-df-generate {\n",
              "        background-color: #3B4455;\n",
              "        fill: #D2E3FC;\n",
              "      }\n",
              "\n",
              "      [theme=dark] .colab-df-generate:hover {\n",
              "        background-color: #434B5C;\n",
              "        box-shadow: 0px 1px 3px 1px rgba(0, 0, 0, 0.15);\n",
              "        filter: drop-shadow(0px 1px 2px rgba(0, 0, 0, 0.3));\n",
              "        fill: #FFFFFF;\n",
              "      }\n",
              "    </style>\n",
              "    <button class=\"colab-df-generate\" onclick=\"generateWithVariable('result')\"\n",
              "            title=\"Generate code using this dataframe.\"\n",
              "            style=\"display:none;\">\n",
              "\n",
              "  <svg xmlns=\"http://www.w3.org/2000/svg\" height=\"24px\"viewBox=\"0 0 24 24\"\n",
              "       width=\"24px\">\n",
              "    <path d=\"M7,19H8.4L18.45,9,17,7.55,7,17.6ZM5,21V16.75L18.45,3.32a2,2,0,0,1,2.83,0l1.4,1.43a1.91,1.91,0,0,1,.58,1.4,1.91,1.91,0,0,1-.58,1.4L9.25,21ZM18.45,9,17,7.55Zm-12,3A5.31,5.31,0,0,0,4.9,8.1,5.31,5.31,0,0,0,1,6.5,5.31,5.31,0,0,0,4.9,4.9,5.31,5.31,0,0,0,6.5,1,5.31,5.31,0,0,0,8.1,4.9,5.31,5.31,0,0,0,12,6.5,5.46,5.46,0,0,0,6.5,12Z\"/>\n",
              "  </svg>\n",
              "    </button>\n",
              "    <script>\n",
              "      (() => {\n",
              "      const buttonEl =\n",
              "        document.querySelector('#id_78895a76-111b-4ed6-bf2c-014998e46d6b button.colab-df-generate');\n",
              "      buttonEl.style.display =\n",
              "        google.colab.kernel.accessAllowed ? 'block' : 'none';\n",
              "\n",
              "      buttonEl.onclick = () => {\n",
              "        google.colab.notebook.generateWithVariable('result');\n",
              "      }\n",
              "      })();\n",
              "    </script>\n",
              "  </div>\n",
              "\n",
              "    </div>\n",
              "  </div>\n"
            ],
            "application/vnd.google.colaboratory.intrinsic+json": {
              "type": "dataframe",
              "variable_name": "result",
              "summary": "{\n  \"name\": \"result\",\n  \"rows\": 3,\n  \"fields\": [\n    {\n      \"column\": \"ad_id\",\n      \"properties\": {\n        \"dtype\": \"number\",\n        \"std\": 1,\n        \"min\": 1,\n        \"max\": 3,\n        \"num_unique_values\": 3,\n        \"samples\": [\n          1,\n          3,\n          2\n        ],\n        \"semantic_type\": \"\",\n        \"description\": \"\"\n      }\n    },\n    {\n      \"column\": \"ctr\",\n      \"properties\": {\n        \"dtype\": \"number\",\n        \"std\": 9.624428987391061,\n        \"min\": 33.33,\n        \"max\": 50.0,\n        \"num_unique_values\": 2,\n        \"samples\": [\n          33.33,\n          50.0\n        ],\n        \"semantic_type\": \"\",\n        \"description\": \"\"\n      }\n    }\n  ]\n}"
            }
          },
          "metadata": {},
          "execution_count": 4
        }
      ]
    },
    {
      "cell_type": "markdown",
      "source": [
        "# 21. Find Total Time Spent by Each Employee"
      ],
      "metadata": {
        "id": "VG67Dttov4xX"
      }
    },
    {
      "cell_type": "code",
      "source": [
        "import pandas as pd\n",
        "\n",
        "def total_time(employees: pd.DataFrame) -> pd.DataFrame:\n",
        "    employees = employees.groupby(['event_day', 'emp_id']).agg()"
      ],
      "metadata": {
        "id": "_6r0n3Pfv4Sc"
      },
      "execution_count": null,
      "outputs": []
    },
    {
      "cell_type": "code",
      "source": [
        "import pandas as pd\n",
        "\n",
        "def total_time(employees: pd.DataFrame) -> pd.DataFrame:\n",
        "    employees = employees.groupby(['event_day', 'emp_id']).agg()"
      ],
      "metadata": {
        "id": "EBxnxAU4gCsF"
      },
      "execution_count": null,
      "outputs": []
    },
    {
      "cell_type": "markdown",
      "source": [
        "# 22. Game Play Analysis I"
      ],
      "metadata": {
        "id": "jeVqrTRywYo3"
      }
    },
    {
      "cell_type": "code",
      "source": [
        "import pandas as pd\n",
        "\n",
        "def game_analysis(activity: pd.DataFrame) -> pd.DataFrame:\n",
        "    df = activity.groupby('player_id', as_index=False)[['event_date']].min()\n",
        "    df.rename(columns={'event_date': 'first_login'}, inplace=True)\n",
        "    return df"
      ],
      "metadata": {
        "id": "YYB4vvcqwWVa"
      },
      "execution_count": null,
      "outputs": []
    },
    {
      "cell_type": "code",
      "source": [
        "import pandas as pd\n",
        "\n",
        "def game_analysis(activity: pd.DataFrame) -> pd.DataFrame:\n",
        "    df = activity.groupby('player_id', as_index=False)[['event_date']].min()\n",
        "    df.rename(columns={'event_date': 'first_login'}, inplace=True)\n",
        "    return df"
      ],
      "metadata": {
        "id": "I9lwdz3b3jjw"
      },
      "execution_count": null,
      "outputs": []
    },
    {
      "cell_type": "code",
      "source": [
        "import pandas as pd\n",
        "\n",
        "def game_analysis(activity: pd.DataFrame) -> pd.DataFrame:\n",
        "    df = activity.groupby('player_id', as_index=False)[['event_date']].min()\n",
        "    df.rename(columns={'event_date': 'first_login'}, inplace=True)\n",
        "    return df"
      ],
      "metadata": {
        "id": "D9einloHgJ9P"
      },
      "execution_count": null,
      "outputs": []
    },
    {
      "cell_type": "markdown",
      "source": [
        "# 23. Number of Unique Subjects Taught by Each Teacher"
      ],
      "metadata": {
        "id": "zxLWizMywy56"
      }
    },
    {
      "cell_type": "code",
      "source": [
        "import pandas as pd\n",
        "\n",
        "def count_unique_subjects(teacher: pd.DataFrame) -> pd.DataFrame:\n",
        "    result = teacher.groupby('teacher_id').agg(\n",
        "        cnt=('subject_id', 'nunique')\n",
        "    ).reset_index()\n",
        "    return result"
      ],
      "metadata": {
        "id": "L5v2id1Mw858"
      },
      "execution_count": null,
      "outputs": []
    },
    {
      "cell_type": "code",
      "source": [
        "import pandas as pd\n",
        "\n",
        "def count_unique_subjects(teacher: pd.DataFrame) -> pd.DataFrame:\n",
        "    result = teacher.groupby('teacher_id').agg(\n",
        "        cnt=('subject_id', 'nunique')\n",
        "    ).reset_index()\n",
        "    return result"
      ],
      "metadata": {
        "id": "8zpE3jUkgRhI"
      },
      "execution_count": null,
      "outputs": []
    },
    {
      "cell_type": "markdown",
      "source": [
        "# 24. Classes More Than 5 Students"
      ],
      "metadata": {
        "id": "sPcu7NvdBiiy"
      }
    },
    {
      "cell_type": "code",
      "source": [
        "import pandas as pd\n",
        "\n",
        "def find_classes(courses: pd.DataFrame) -> pd.DataFrame:\n",
        "    classes =  courses.groupby('class').agg(count=('student', 'count')).reset_index()\n",
        "    return classes[classes['count'] >= 5][['class']]"
      ],
      "metadata": {
        "id": "NnZPpckMGC6p"
      },
      "execution_count": null,
      "outputs": []
    },
    {
      "cell_type": "code",
      "source": [
        "import pandas as pd\n",
        "\n",
        "def find_classes(courses: pd.DataFrame) -> pd.DataFrame:\n",
        "    classes =  courses.groupby('class').agg(count=('student', 'count')).reset_index()\n",
        "    return classes[classes['count'] >= 5][['class']]"
      ],
      "metadata": {
        "id": "EkgMVdlggZ35"
      },
      "execution_count": null,
      "outputs": []
    },
    {
      "cell_type": "markdown",
      "source": [
        "# 25. Customer Placing the Largest Number of Orders"
      ],
      "metadata": {
        "id": "Xyd4h71BBmeE"
      }
    },
    {
      "cell_type": "code",
      "source": [
        "import pandas as pd\n",
        "\n",
        "def largest_orders(orders: pd.DataFrame) -> pd.DataFrame:\n",
        "    orders_count = (\n",
        "        orders.groupby('customer_number').\n",
        "        agg(amount=('customer_number', 'count')).reset_index()\n",
        "    )\n",
        "    amount_max = orders_count['amount'].max()\n",
        "    result = orders_count[orders_count['amount'] == amount_max][['customer_number']]\n",
        "    return result"
      ],
      "metadata": {
        "id": "sn3uNJAlFk6a"
      },
      "execution_count": null,
      "outputs": []
    },
    {
      "cell_type": "code",
      "source": [
        "import pandas as pd\n",
        "\n",
        "def largest_orders(orders: pd.DataFrame) -> pd.DataFrame:\n",
        "    orders_count = (\n",
        "        orders.groupby('customer_number').\n",
        "        agg(amount=('customer_number', 'count')).reset_index()\n",
        "    )\n",
        "    amount_max = orders_count['amount'].max()\n",
        "    result = orders_count[orders_count['amount'] == amount_max][['customer_number']]\n",
        "    return result"
      ],
      "metadata": {
        "id": "l9lOb3ZVghTA"
      },
      "execution_count": null,
      "outputs": []
    },
    {
      "cell_type": "markdown",
      "source": [
        "# 26. Group Sold Products By The Date"
      ],
      "metadata": {
        "id": "1BRBlVT3B244"
      }
    },
    {
      "cell_type": "code",
      "source": [
        "import pandas as pd\n",
        "\n",
        "def categorize_products(activities: pd.DataFrame) -> pd.DataFrame:\n",
        "    result = activities.groupby('sell_date').agg(\n",
        "        num_sold=('product', lambda x: len(set(x))),\n",
        "        products=('product', lambda x: ','.join(sorted(set(x))))\n",
        "    ).reset_index()\n",
        "    result = result.sort_values(by='sell_date')\n",
        "\n",
        "    return result"
      ],
      "metadata": {
        "id": "MA5Dsqd3xXMw"
      },
      "execution_count": null,
      "outputs": []
    },
    {
      "cell_type": "code",
      "source": [
        "import pandas as pd\n",
        "\n",
        "def categorize_products(activities: pd.DataFrame) -> pd.DataFrame:\n",
        "    result = activities.groupby('sell_date').agg(\n",
        "        num_sold=('product', lambda x: len(set(x))),\n",
        "        products=('product', lambda x: ','.join(sorted(set(x))))\n",
        "    ).reset_index()\n",
        "    result = result.sort_values(by='sell_date')\n",
        "\n",
        "    return result"
      ],
      "metadata": {
        "id": "bwGAZTPBgoEJ"
      },
      "execution_count": null,
      "outputs": []
    },
    {
      "cell_type": "markdown",
      "source": [
        "# 27. Daily Leads and Partners"
      ],
      "metadata": {
        "id": "uFp2SjbzCAUk"
      }
    },
    {
      "cell_type": "code",
      "source": [
        "import pandas as pd\n",
        "\n",
        "def daily_leads_and_partners(daily_sales: pd.DataFrame) -> pd.DataFrame:\n",
        "    result = daily_sales.groupby(['date_id', 'make_name']).agg(\n",
        "        unique_leads=('lead_id', lambda x: len(set(x))),\n",
        "        unique_partners=('partner_id', lambda x: len(set(x)))\n",
        "    ).reset_index()\n",
        "\n",
        "    return result"
      ],
      "metadata": {
        "id": "Qncf8DVhy7S8"
      },
      "execution_count": null,
      "outputs": []
    },
    {
      "cell_type": "code",
      "source": [
        "import pandas as pd\n",
        "\n",
        "def daily_leads_and_partners(daily_sales: pd.DataFrame) -> pd.DataFrame:\n",
        "    result = daily_sales.groupby(['date_id', 'make_name']).agg(\n",
        "        unique_leads=('lead_id', lambda x: len(set(x))),\n",
        "        unique_partners=('partner_id', lambda x: len(set(x)))\n",
        "    ).reset_index()\n",
        "\n",
        "    return result"
      ],
      "metadata": {
        "id": "k2Nvy2qUgx-a"
      },
      "execution_count": null,
      "outputs": []
    },
    {
      "cell_type": "markdown",
      "source": [
        "# 28. Actors and Directors Who Cooperated At Least Three Times"
      ],
      "metadata": {
        "id": "qROAh5lRCHq0"
      }
    },
    {
      "cell_type": "code",
      "source": [
        "import pandas as pd\n",
        "\n",
        "def actors_and_directors(actor_director: pd.DataFrame) -> pd.DataFrame:\n",
        "    result = actor_director.groupby(['actor_id', 'director_id']).agg(\n",
        "        count=('timestamp', 'count')\n",
        "    ).reset_index()\n",
        "    result = result[result['count'] >= 3][['actor_id', 'director_id']]\n",
        "\n",
        "    return result[['actor_id', 'director_id']]"
      ],
      "metadata": {
        "id": "M38FybDe2J9A"
      },
      "execution_count": null,
      "outputs": []
    },
    {
      "cell_type": "markdown",
      "source": [
        "# 29. Replace Employee ID With The Unique Identifier"
      ],
      "metadata": {
        "id": "U5f2GSXpCONK"
      }
    },
    {
      "cell_type": "code",
      "source": [
        "import pandas as pd\n",
        "\n",
        "def replace_employee_id(employees: pd.DataFrame, employee_uni: pd.DataFrame) -> pd.DataFrame:\n",
        "    result = pd.merge(\n",
        "        employees,\n",
        "        employee_uni,\n",
        "        left_on = 'id',\n",
        "        right_on = 'id',\n",
        "        how = 'left'\n",
        "    )\n",
        "    return result[['unique_id', 'name']]"
      ],
      "metadata": {
        "id": "hZYeEMF74Z-L"
      },
      "execution_count": null,
      "outputs": []
    },
    {
      "cell_type": "markdown",
      "source": [
        "# 30. Students and Examinations"
      ],
      "metadata": {
        "id": "VUdTjc2MCWB6"
      }
    },
    {
      "cell_type": "code",
      "source": [
        "import pandas as pd\n",
        "\n",
        "def students_and_examinations(students: pd.DataFrame, subjects: pd.DataFrame, examinations: pd.DataFrame) -> pd.DataFrame:\n",
        "    cross = students.merge(subjects, how='cross')\n",
        "    exams_count = examinations.groupby(['student_id', 'subject_name']).size().reset_index(name='attended_exams')\n",
        "    result = pd.merge(\n",
        "        cross,\n",
        "        exams_count,\n",
        "        on = ['student_id', 'subject_name'],\n",
        "        how = 'left'\n",
        "    )\n",
        "    result[['attended_exams']] = result[['attended_exams']].fillna(0)\n",
        "    result = result.sort_values(by=['student_id', 'subject_name'])\n",
        "    return result"
      ],
      "metadata": {
        "id": "3SACGG-gCdkx"
      },
      "execution_count": null,
      "outputs": []
    },
    {
      "cell_type": "code",
      "source": [
        "import pandas as pd\n",
        "\n",
        "def students_and_examinations(students: pd.DataFrame, subjects: pd.DataFrame, examinations: pd.DataFrame) -> pd.DataFrame:\n",
        "    cross = students.merge(subjects, how='cross')\n",
        "    exams_count = examinations.groupby(['student_id', 'subject_name']).size().reset_index(name='attended_exams')\n",
        "    result = pd.merge(\n",
        "        cross,\n",
        "        exams_count,\n",
        "        on = ['student_id', 'subject_name'],\n",
        "        how = 'left'\n",
        "    )\n",
        "    result[['attended_exams']] = result[['attended_exams']].fillna(0)\n",
        "    result = result.sort_values(by=['student_id', 'subject_name'])\n",
        "    return result"
      ],
      "metadata": {
        "id": "Wgm__7deK6_k"
      },
      "execution_count": null,
      "outputs": []
    },
    {
      "cell_type": "markdown",
      "source": [
        "# 31. Managers with at Least 5 Direct Reports"
      ],
      "metadata": {
        "id": "B6XL2AvBGelm"
      }
    },
    {
      "cell_type": "code",
      "source": [
        "import pandas as pd\n",
        "\n",
        "def find_managers(employee: pd.DataFrame) -> pd.DataFrame:\n",
        "    managers = employee.groupby('managerId').size().reset_index(name='count')\n",
        "    managers = managers[managers['count'] >= 5]\n",
        "    result = managers.merge(\n",
        "        employee,\n",
        "        left_on = 'managerId',\n",
        "        right_on = 'id',\n",
        "        how = 'inner'\n",
        "    )[['name']]\n",
        "\n",
        "    return result"
      ],
      "metadata": {
        "id": "uSG7O3BEpBCw"
      },
      "execution_count": null,
      "outputs": []
    },
    {
      "cell_type": "markdown",
      "source": [
        "# 32. Sales Person"
      ],
      "metadata": {
        "id": "gVzkKGT9GmYY"
      }
    },
    {
      "cell_type": "code",
      "source": [
        "import pandas as pd\n",
        "\n",
        "def sales_person(sales_person: pd.DataFrame, company: pd.DataFrame, orders: pd.DataFrame) -> pd.DataFrame:\n",
        "    filtred = company.loc[company['name'] == 'RED', 'com_id']\n",
        "    if filtred.empty:\n",
        "        result = sales_person[['name']]\n",
        "    else:\n",
        "        red_company_id = company.loc[company['name'] == 'RED', 'com_id'].iloc[0]\n",
        "        red_sales_id = orders.loc[orders['com_id'] == red_company_id, 'sales_id'].unique()\n",
        "        result = sales_person.loc[~sales_person['sales_id'].isin(red_sales_id), ['name']]\n",
        "\n",
        "    return result"
      ],
      "metadata": {
        "id": "WQEgvo566u03"
      },
      "execution_count": null,
      "outputs": []
    },
    {
      "cell_type": "code",
      "source": [
        "import pandas as pd\n",
        "\n",
        "def sales_person(sales_person: pd.DataFrame, company: pd.DataFrame, orders: pd.DataFrame) -> pd.DataFrame:\n",
        "    filtred = company.loc[company['name'] == 'RED', 'com_id']\n",
        "    if filtred.empty:\n",
        "        result = sales_person[['name']]\n",
        "    else:\n",
        "        red_company_id = company.loc[company['name'] == 'RED', 'com_id'].iloc[0]\n",
        "        red_sales_id = orders.loc[orders['com_id'] == red_company_id, 'sales_id'].unique()\n",
        "        result = sales_person.loc[~sales_person['sales_id'].isin(red_sales_id), ['name']]\n",
        "\n",
        "    return result"
      ],
      "metadata": {
        "id": "_EPUrnFEKypq"
      },
      "execution_count": null,
      "outputs": []
    },
    {
      "cell_type": "markdown",
      "source": [
        "# 33. Repetitions"
      ],
      "metadata": {
        "id": "ZHDzQfBKSBHO"
      }
    },
    {
      "cell_type": "code",
      "source": [
        "import pandas as pd\n",
        "\n",
        "def big_countries(world: pd.DataFrame) -> pd.DataFrame:\n",
        "    return world[(world['area'] >= 3_000_000) | (world['population'] >= 25_000_000)][['name', 'population', 'area']]"
      ],
      "metadata": {
        "id": "6UGfc_8bRwpy"
      },
      "execution_count": null,
      "outputs": []
    },
    {
      "cell_type": "code",
      "source": [
        "import pandas as pd\n",
        "\n",
        "def find_products(products: pd.DataFrame) -> pd.DataFrame:\n",
        "    products =  products.query(\"low_fats == 'Y' and recyclable == 'Y'\")[['product_id']]\n",
        "    return products"
      ],
      "metadata": {
        "id": "LGs3XobHSAZj"
      },
      "execution_count": null,
      "outputs": []
    },
    {
      "cell_type": "code",
      "source": [
        "import pandas as pd\n",
        "\n",
        "def find_customers(customers: pd.DataFrame, orders: pd.DataFrame) -> pd.DataFrame:\n",
        "    customers = customers[~customers['id'].isin(orders['customerId'])][['name']]\n",
        "    return customers.rename(columns={'name': 'Customers'})"
      ],
      "metadata": {
        "id": "Z8MQ7mOsSNFB"
      },
      "execution_count": null,
      "outputs": []
    },
    {
      "cell_type": "code",
      "source": [
        "import pandas as pd\n",
        "\n",
        "def article_views(views: pd.DataFrame) -> pd.DataFrame:\n",
        "    result = views[views['author_id'] == views['viewer_id']][['author_id']]\n",
        "    result = result.rename(columns={'author_id': 'id'}).drop_duplicates(subset='id')\n",
        "    return result.sort_values(by='id')"
      ],
      "metadata": {
        "id": "eihmFU8tSTt_"
      },
      "execution_count": null,
      "outputs": []
    },
    {
      "cell_type": "code",
      "source": [
        "import pandas as pd\n",
        "\n",
        "def invalid_tweets(tweets: pd.DataFrame) -> pd.DataFrame:\n",
        "    return tweets[tweets['content'].str.len() > 15][['tweet_id']]"
      ],
      "metadata": {
        "id": "LD_n37q3SayP"
      },
      "execution_count": null,
      "outputs": []
    },
    {
      "cell_type": "code",
      "source": [
        "import pandas as pd\n",
        "\n",
        "def calculate_special_bonus(employees: pd.DataFrame) -> pd.DataFrame:\n",
        "    condition = (employees['employee_id'] % 2 == 1) & (~employees['name'].str.startswith('M'))\n",
        "    employees[['bonus']] = employees[['salary']].where(condition, 0)\n",
        "\n",
        "    return employees[['employee_id', 'bonus']].sort_values(by='employee_id')"
      ],
      "metadata": {
        "id": "TMr_AxJISg-z"
      },
      "execution_count": null,
      "outputs": []
    },
    {
      "cell_type": "code",
      "source": [
        "import pandas as pd\n",
        "\n",
        "def fix_names(users: pd.DataFrame) -> pd.DataFrame:\n",
        "    users['name'] = users['name'].str.capitalize()\n",
        "    return users.sort_values(by='user_id')"
      ],
      "metadata": {
        "id": "EU-JQAtFSnp7"
      },
      "execution_count": null,
      "outputs": []
    },
    {
      "cell_type": "code",
      "source": [
        "import pandas as pd\n",
        "\n",
        "def fix_names(users: pd.DataFrame) -> pd.DataFrame:\n",
        "    users['name'] = users['name'].str.capitalize()\n",
        "    return users.sort_values(by='user_id')"
      ],
      "metadata": {
        "id": "-I0Cjcqy9SJn"
      },
      "execution_count": null,
      "outputs": []
    },
    {
      "cell_type": "code",
      "source": [
        "import pandas as pd\n",
        "\n",
        "def fix_names(users: pd.DataFrame) -> pd.DataFrame:\n",
        "    users['name'] = users['name'].str.capitalize()\n",
        "    return users.sort_values(by='user_id')"
      ],
      "metadata": {
        "id": "8Aoo5N3B9-MP"
      },
      "execution_count": null,
      "outputs": []
    }
  ]
}