{
  "nbformat": 4,
  "nbformat_minor": 0,
  "metadata": {
    "colab": {
      "provenance": [],
      "authorship_tag": "ABX9TyNsjLKc0oLHCkBr56+tn0x/",
      "include_colab_link": true
    },
    "kernelspec": {
      "name": "python3",
      "display_name": "Python 3"
    },
    "language_info": {
      "name": "python"
    }
  },
  "cells": [
    {
      "cell_type": "markdown",
      "metadata": {
        "id": "view-in-github",
        "colab_type": "text"
      },
      "source": [
        "<a href=\"https://colab.research.google.com/github/dkraynev/Tasks/blob/main/437_Low_Quality_Problems.ipynb\" target=\"_parent\"><img src=\"https://colab.research.google.com/assets/colab-badge.svg\" alt=\"Open In Colab\"/></a>"
      ]
    },
    {
      "cell_type": "code",
      "source": [
        "import pandas as pd\n",
        "\n",
        "def low_quality_problems(problems: pd.DataFrame) -> pd.DataFrame:\n",
        "    return problems[problems['likes'] / (problems['likes'] + problems['dislikes']) < 0.6].sort_values(by='problem_id', ascending=True)[['problem_id']]"
      ],
      "metadata": {
        "id": "40nzfi1ZiNsv"
      },
      "execution_count": null,
      "outputs": []
    },
    {
      "cell_type": "code",
      "source": [],
      "metadata": {
        "id": "ojCW7WGPl7Nv"
      },
      "execution_count": null,
      "outputs": []
    }
  ]
}