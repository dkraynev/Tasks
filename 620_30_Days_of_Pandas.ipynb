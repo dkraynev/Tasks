{
  "nbformat": 4,
  "nbformat_minor": 0,
  "metadata": {
    "colab": {
      "provenance": [],
      "authorship_tag": "ABX9TyPr79qBPcKCRIh74P9Rmyay",
      "include_colab_link": true
    },
    "kernelspec": {
      "name": "python3",
      "display_name": "Python 3"
    },
    "language_info": {
      "name": "python"
    }
  },
  "cells": [
    {
      "cell_type": "markdown",
      "metadata": {
        "id": "view-in-github",
        "colab_type": "text"
      },
      "source": [
        "<a href=\"https://colab.research.google.com/github/dkraynev/Tasks/blob/main/620_30_Days_of_Pandas.ipynb\" target=\"_parent\"><img src=\"https://colab.research.google.com/assets/colab-badge.svg\" alt=\"Open In Colab\"/></a>"
      ]
    },
    {
      "cell_type": "markdown",
      "source": [
        "# 01.Big Countries"
      ],
      "metadata": {
        "id": "af6KinqzXk17"
      }
    },
    {
      "cell_type": "code",
      "source": [
        "import pandas as pd\n",
        "\n",
        "def big_countries(world: pd.DataFrame) -> pd.DataFrame:\n",
        "    world = world.query('area >= 3000000 or population >= 25000000')[['name', 'population', 'area']]\n",
        "    return world"
      ],
      "metadata": {
        "id": "qojPFP2nXfI2"
      },
      "execution_count": null,
      "outputs": []
    },
    {
      "cell_type": "markdown",
      "source": [
        "# 02.Recyclable and Low Fat Products"
      ],
      "metadata": {
        "id": "bpjNZPCAXtE3"
      }
    },
    {
      "cell_type": "code",
      "source": [
        "import pandas as pd\n",
        "\n",
        "def find_products(products: pd.DataFrame) -> pd.DataFrame:\n",
        "    products =  products.query(\"low_fats == 'Y' and recyclable == 'Y'\")[['product_id']]\n",
        "    return products"
      ],
      "metadata": {
        "id": "XB_ML22IXj8K"
      },
      "execution_count": null,
      "outputs": []
    },
    {
      "cell_type": "markdown",
      "source": [
        "# 03.Customers Who Never Order"
      ],
      "metadata": {
        "id": "bGORjtQ4pHxJ"
      }
    },
    {
      "cell_type": "code",
      "source": [
        "import pandas as pd\n",
        "\n",
        "def find_customers(customers: pd.DataFrame, orders: pd.DataFrame) -> pd.DataFrame:\n",
        "    customers = pd.merge(customers, orders, left_on='id', right_on='customerId', how='left')\n",
        "    customers = customers[customers['customerId'].isna()]\n",
        "    customers = customers[['name']].rename(columns={'name':'Customers'})\n",
        "\n",
        "    return customers"
      ],
      "metadata": {
        "id": "BSH9AmV2iUVJ"
      },
      "execution_count": null,
      "outputs": []
    },
    {
      "cell_type": "markdown",
      "source": [
        "# 31.The Number of Rich Customers"
      ],
      "metadata": {
        "id": "jBk89BSmHsgN"
      }
    },
    {
      "cell_type": "code",
      "source": [
        "import pandas as pd\n",
        "\n",
        "def count_rich_customers(store: pd.DataFrame) -> pd.DataFrame:\n",
        "    store = store.query('amount > 500')\n",
        "    store = store.drop_duplicates(subset='customer_id')\n",
        "    rows = store.shape[0]\n",
        "    df = pd.DataFrame({'rich_count': [rows]})\n",
        "\n",
        "    return df"
      ],
      "metadata": {
        "id": "TuUS8Rs9pQZa"
      },
      "execution_count": null,
      "outputs": []
    },
    {
      "cell_type": "markdown",
      "source": [
        "# 04.Article Views I"
      ],
      "metadata": {
        "id": "VezCfOG9PIhW"
      }
    },
    {
      "cell_type": "code",
      "source": [
        "import pandas as pd\n",
        "\n",
        "def article_views(views: pd.DataFrame) -> pd.DataFrame:\n",
        "    views = views.query('author_id == viewer_id')\n",
        "    views = views.drop_duplicates(subset='author_id').sort_values(by='author_id',ascending=True)[['author_id']]\n",
        "    views = views.rename(columns={'author_id':'id'})\n",
        "\n",
        "    return views"
      ],
      "metadata": {
        "id": "O5hgBsvwPHLz"
      },
      "execution_count": null,
      "outputs": []
    },
    {
      "cell_type": "markdown",
      "source": [
        "# 05.Invalid Tweets"
      ],
      "metadata": {
        "id": "Fve0uFu1t9QL"
      }
    },
    {
      "cell_type": "code",
      "source": [
        "import pandas as pd\n",
        "\n",
        "def invalid_tweets(tweets: pd.DataFrame) -> pd.DataFrame:\n",
        "    tweets = tweets[tweets['content'].apply(len) > 15][['tweet_id']]\n",
        "\n",
        "    return tweets"
      ],
      "metadata": {
        "id": "30BBLhvct8TX"
      },
      "execution_count": null,
      "outputs": []
    },
    {
      "cell_type": "markdown",
      "source": [
        "# 06.Calculate Special Bonus"
      ],
      "metadata": {
        "id": "j0WIT-0sJoGA"
      }
    },
    {
      "cell_type": "code",
      "source": [
        "import pandas as pd\n",
        "\n",
        "def calculate_special_bonus(employees: pd.DataFrame) -> pd.DataFrame:\n",
        "    employees['bonus'] = employees.apply(lambda x: x['salary'] if x['employee_id'] % 2 != 0 and not x['name'].startswith('M') else 0, axis=1)\n",
        "    employees = employees[['employee_id', 'bonus']].sort_values(by='employee_id')\n",
        "\n",
        "    return employees"
      ],
      "metadata": {
        "id": "nZQGHhpwuE9o"
      },
      "execution_count": null,
      "outputs": []
    },
    {
      "cell_type": "markdown",
      "source": [
        "# 07.Fix Names in a Table"
      ],
      "metadata": {
        "id": "YQ3wOJP7c0v0"
      }
    },
    {
      "cell_type": "code",
      "source": [
        "import pandas as pd\n",
        "\n",
        "def fix_names(users: pd.DataFrame) -> pd.DataFrame:\n",
        "    users['name'] = users['name'].apply(lambda x: x.capitalize())\n",
        "    users = users.sort_values(by='user_id', ascending=True)\n",
        "    return users"
      ],
      "metadata": {
        "id": "ETDYTlWtcv5m"
      },
      "execution_count": null,
      "outputs": []
    },
    {
      "cell_type": "markdown",
      "source": [
        "# 08.Find Users With Valid E-Mails"
      ],
      "metadata": {
        "id": "zZs6pJy6iDvl"
      }
    },
    {
      "cell_type": "code",
      "source": [
        "import pandas as pd\n",
        "\n",
        "def valid_emails(users: pd.DataFrame) -> pd.DataFrame:\n",
        "    users = users[users['mail'].str.match(r'^[a-zA-Z][a-zA-Z0-9._-]*@leetcode\\.com$')]\n",
        "    return users"
      ],
      "metadata": {
        "id": "i9wD24AyBYR_"
      },
      "execution_count": 28,
      "outputs": []
    },
    {
      "cell_type": "code",
      "source": [
        "data = {\n",
        "    'user_id': [1, 2, 3, 4, 5, 6, 7],\n",
        "    'name': ['Winston', 'Jonathan', 'Annabelle', 'Sally', 'Marwan', 'David', 'Shapiro'],\n",
        "    'mail': [\n",
        "        'winston@leetcode.com',        # Валидный\n",
        "        'jonathanisgreat',             # Нет '@', невалидный\n",
        "        'bella-@leetcode.com',         # Валидный\n",
        "        'sally.come@leetcode.com',     # Валидный\n",
        "        'quarz#2020@leetcode.com',     # Символ '#', невалидный\n",
        "        'david69@gmail.com',           # Неверный домен, невалидный\n",
        "        '.shapo@leetcode.com'          # Начинается с '.', невалидный\n",
        "    ]\n",
        "}\n",
        "\n",
        "users_df = pd.DataFrame(data)\n",
        "valid_users_df = valid_emails(users_df)\n",
        "print(valid_users_df)"
      ],
      "metadata": {
        "colab": {
          "base_uri": "https://localhost:8080/"
        },
        "id": "yDqSfydNBk4R",
        "outputId": "65ae3ada-6d25-4dd8-df2b-da9b0422353e"
      },
      "execution_count": 29,
      "outputs": [
        {
          "output_type": "stream",
          "name": "stdout",
          "text": [
            "   user_id       name                     mail\n",
            "0        1    Winston     winston@leetcode.com\n",
            "2        3  Annabelle      bella-@leetcode.com\n",
            "3        4      Sally  sally.come@leetcode.com\n"
          ]
        }
      ]
    },
    {
      "cell_type": "markdown",
      "source": [
        "# 09. Patients With a Condition"
      ],
      "metadata": {
        "id": "2YmYVm36X1Gi"
      }
    },
    {
      "cell_type": "code",
      "source": [
        "import pandas as pd\n",
        "\n",
        "def find_patients(patients: pd.DataFrame) -> pd.DataFrame:\n",
        "    patients = patients[patients['conditions'].str.contains(r'(^|\\s)DIAB1')]\n",
        "    return patients"
      ],
      "metadata": {
        "id": "lrWi2_8-X0Gj"
      },
      "execution_count": null,
      "outputs": []
    },
    {
      "cell_type": "markdown",
      "source": [
        "# 10. Delete Duplicate Emails"
      ],
      "metadata": {
        "id": "_GA7lc8udF0u"
      }
    },
    {
      "cell_type": "code",
      "source": [
        "import pandas as pd\n",
        "\n",
        "def delete_duplicate_emails(person: pd.DataFrame) -> None:\n",
        "    person.sort_values(by='id', inplace=True)\n",
        "    person.drop_duplicates(subset='email', keep='first', inplace=True)\n",
        "\n",
        "    return\n",
        ""
      ],
      "metadata": {
        "id": "ErwxC5ybdEsf"
      },
      "execution_count": null,
      "outputs": []
    },
    {
      "cell_type": "markdown",
      "source": [
        "# 11. Rearrange Products Table"
      ],
      "metadata": {
        "id": "iNSaUPz8fYy3"
      }
    },
    {
      "cell_type": "code",
      "source": [
        "import pandas as pd\n",
        "\n",
        "def rearrange_products_table(products: pd.DataFrame) -> pd.DataFrame:\n",
        "    products = pd.melt(products, id_vars='product_id', var_name='store', value_name='price')\n",
        "    products = products.dropna(subset='price')\n",
        "\n",
        "    return products"
      ],
      "metadata": {
        "id": "j5vkO0crfX61"
      },
      "execution_count": null,
      "outputs": []
    },
    {
      "cell_type": "markdown",
      "source": [
        "# 12. Immediate Food Delivery I"
      ],
      "metadata": {
        "id": "9z1cRAUpjU3p"
      }
    },
    {
      "cell_type": "code",
      "source": [
        "import pandas as pd\n",
        "\n",
        "def food_delivery(delivery: pd.DataFrame) -> pd.DataFrame:\n",
        "    immediate = len(delivery[delivery['order_date'] == delivery['customer_pref_delivery_date']])\n",
        "    all_deliveries = delivery.shape[0]\n",
        "    df = pd.DataFrame({'immediate_percentage':[round(100 * immediate / all_deliveries, 2)]})\n",
        "    return df[['immediate_percentage']]"
      ],
      "metadata": {
        "id": "LXT27JoRjTyp"
      },
      "execution_count": null,
      "outputs": []
    },
    {
      "cell_type": "markdown",
      "source": [
        "# 13. Ads Performance"
      ],
      "metadata": {
        "id": "u9rypQJM2LcQ"
      }
    },
    {
      "cell_type": "code",
      "source": [],
      "metadata": {
        "id": "kkAAonzMjboW"
      },
      "execution_count": null,
      "outputs": []
    }
  ]
}