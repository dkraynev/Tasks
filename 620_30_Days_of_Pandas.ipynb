{
  "nbformat": 4,
  "nbformat_minor": 0,
  "metadata": {
    "colab": {
      "provenance": [],
      "authorship_tag": "ABX9TyPWH7F/JItEORH1KTKCf7e/",
      "include_colab_link": true
    },
    "kernelspec": {
      "name": "python3",
      "display_name": "Python 3"
    },
    "language_info": {
      "name": "python"
    }
  },
  "cells": [
    {
      "cell_type": "markdown",
      "metadata": {
        "id": "view-in-github",
        "colab_type": "text"
      },
      "source": [
        "<a href=\"https://colab.research.google.com/github/dkraynev/Tasks/blob/main/620_30_Days_of_Pandas.ipynb\" target=\"_parent\"><img src=\"https://colab.research.google.com/assets/colab-badge.svg\" alt=\"Open In Colab\"/></a>"
      ]
    },
    {
      "cell_type": "markdown",
      "source": [
        "# 01.Big Countries"
      ],
      "metadata": {
        "id": "af6KinqzXk17"
      }
    },
    {
      "cell_type": "code",
      "source": [
        "import pandas as pd\n",
        "\n",
        "def big_countries(world: pd.DataFrame) -> pd.DataFrame:\n",
        "    world = world.query('area >= 3000000 or population >= 25000000')[['name', 'population', 'area']]\n",
        "    return world"
      ],
      "metadata": {
        "id": "qojPFP2nXfI2"
      },
      "execution_count": null,
      "outputs": []
    },
    {
      "cell_type": "markdown",
      "source": [
        "# 02.Recyclable and Low Fat Products"
      ],
      "metadata": {
        "id": "bpjNZPCAXtE3"
      }
    },
    {
      "cell_type": "code",
      "source": [
        "import pandas as pd\n",
        "\n",
        "def find_products(products: pd.DataFrame) -> pd.DataFrame:\n",
        "    products =  products.query(\"low_fats == 'Y' and recyclable == 'Y'\")[['product_id']]\n",
        "    return products"
      ],
      "metadata": {
        "id": "XB_ML22IXj8K"
      },
      "execution_count": null,
      "outputs": []
    },
    {
      "cell_type": "markdown",
      "source": [
        "# 03.Customers Who Never Order"
      ],
      "metadata": {
        "id": "bGORjtQ4pHxJ"
      }
    },
    {
      "cell_type": "code",
      "source": [
        "import pandas as pd\n",
        "\n",
        "def find_customers(customers: pd.DataFrame, orders: pd.DataFrame) -> pd.DataFrame:\n",
        "    customers = pd.merge(customers, orders, left_on='id', right_on='customerId', how='left')\n",
        "    customers = customers[customers['customerId'].isna()]\n",
        "    customers = customers[['name']].rename(columns={'name':'Customers'})\n",
        "\n",
        "    return customers"
      ],
      "metadata": {
        "id": "BSH9AmV2iUVJ"
      },
      "execution_count": null,
      "outputs": []
    },
    {
      "cell_type": "code",
      "source": [
        "import pandas as pd\n",
        "\n",
        "def find_customers(customers: pd.DataFrame, orders: pd.DataFrame) -> pd.DataFrame:\n",
        "    customers = customers[\n",
        "        ~customers['id'].isin(orders['customerId'])\n",
        "    ]\n",
        "    customers.rename(columns={'name': 'Customers'}, inplace=True)\n",
        "    return customers[['Customers']]"
      ],
      "metadata": {
        "id": "aWp50H-QMpth"
      },
      "execution_count": null,
      "outputs": []
    },
    {
      "cell_type": "markdown",
      "source": [
        "# 31.The Number of Rich Customers"
      ],
      "metadata": {
        "id": "jBk89BSmHsgN"
      }
    },
    {
      "cell_type": "code",
      "source": [
        "import pandas as pd\n",
        "\n",
        "def count_rich_customers(store: pd.DataFrame) -> pd.DataFrame:\n",
        "    store = store.query('amount > 500')\n",
        "    store = store.drop_duplicates(subset='customer_id')\n",
        "    rows = store.shape[0]\n",
        "    df = pd.DataFrame({'rich_count': [rows]})\n",
        "\n",
        "    return df"
      ],
      "metadata": {
        "id": "TuUS8Rs9pQZa"
      },
      "execution_count": null,
      "outputs": []
    },
    {
      "cell_type": "markdown",
      "source": [
        "# 04.Article Views I"
      ],
      "metadata": {
        "id": "VezCfOG9PIhW"
      }
    },
    {
      "cell_type": "code",
      "source": [
        "import pandas as pd\n",
        "\n",
        "def article_views(views: pd.DataFrame) -> pd.DataFrame:\n",
        "    views = views.query('author_id == viewer_id')\n",
        "    views = views.drop_duplicates(subset='author_id').sort_values(by='author_id',ascending=True)[['author_id']]\n",
        "    views = views.rename(columns={'author_id':'id'})\n",
        "\n",
        "    return views"
      ],
      "metadata": {
        "id": "O5hgBsvwPHLz"
      },
      "execution_count": null,
      "outputs": []
    },
    {
      "cell_type": "code",
      "source": [
        "import pandas as pd\n",
        "\n",
        "def article_views(views: pd.DataFrame) -> pd.DataFrame:\n",
        "    views = views[views['author_id'] ==  views['viewer_id']].sort_values(by='author_id', ascending=True)\n",
        "    views = views.rename(columns={'author_id': 'id'})\n",
        "    views = views.drop_duplicates(subset='id')\n",
        "    return views[['id']]"
      ],
      "metadata": {
        "id": "lDGjX66VQiqs"
      },
      "execution_count": null,
      "outputs": []
    },
    {
      "cell_type": "markdown",
      "source": [
        "# 05.Invalid Tweets"
      ],
      "metadata": {
        "id": "Fve0uFu1t9QL"
      }
    },
    {
      "cell_type": "code",
      "source": [
        "import pandas as pd\n",
        "\n",
        "def invalid_tweets(tweets: pd.DataFrame) -> pd.DataFrame:\n",
        "    tweets = tweets[tweets['content'].apply(len) > 15][['tweet_id']]\n",
        "\n",
        "    return tweets"
      ],
      "metadata": {
        "id": "30BBLhvct8TX"
      },
      "execution_count": null,
      "outputs": []
    },
    {
      "cell_type": "code",
      "source": [
        "import pandas as pd\n",
        "\n",
        "def invalid_tweets(tweets: pd.DataFrame) -> pd.DataFrame:\n",
        "    return tweets[tweets['content'].str.len() > 15][['tweet_id']]"
      ],
      "metadata": {
        "id": "CkdnI_S_NfzV"
      },
      "execution_count": null,
      "outputs": []
    },
    {
      "cell_type": "markdown",
      "source": [
        "# 06.Calculate Special Bonus"
      ],
      "metadata": {
        "id": "j0WIT-0sJoGA"
      }
    },
    {
      "cell_type": "code",
      "source": [
        "import pandas as pd\n",
        "\n",
        "def calculate_special_bonus(employees: pd.DataFrame) -> pd.DataFrame:\n",
        "    employees['bonus'] = employees.apply(lambda x: x['salary'] if x['employee_id'] % 2 != 0 and not x['name'].startswith('M') else 0, axis=1)\n",
        "    employees = employees[['employee_id', 'bonus']].sort_values(by='employee_id')\n",
        "\n",
        "    return employees"
      ],
      "metadata": {
        "id": "nZQGHhpwuE9o"
      },
      "execution_count": null,
      "outputs": []
    },
    {
      "cell_type": "code",
      "source": [
        "import pandas as pd\n",
        "\n",
        "def calculate_special_bonus(employees: pd.DataFrame) -> pd.DataFrame:\n",
        "    condition = (employees['employee_id'] % 2 == 1) & ~employees['name'].str.startswith('M')\n",
        "    employees[['bonus']] = employees[['salary']].where(condition, 0)\n",
        "    return employees[['employee_id', 'bonus']].sort_values(by='employee_id')"
      ],
      "metadata": {
        "id": "pHQsNiPCl0Kg"
      },
      "execution_count": null,
      "outputs": []
    },
    {
      "cell_type": "markdown",
      "source": [
        "# 07.Fix Names in a Table"
      ],
      "metadata": {
        "id": "YQ3wOJP7c0v0"
      }
    },
    {
      "cell_type": "code",
      "source": [
        "import pandas as pd\n",
        "\n",
        "def fix_names(users: pd.DataFrame) -> pd.DataFrame:\n",
        "    users['name'] = users['name'].apply(lambda x: x.capitalize())\n",
        "    users = users.sort_values(by='user_id', ascending=True)\n",
        "    return users"
      ],
      "metadata": {
        "id": "ETDYTlWtcv5m"
      },
      "execution_count": null,
      "outputs": []
    },
    {
      "cell_type": "code",
      "source": [
        "import pandas as pd\n",
        "\n",
        "def fix_names(users: pd.DataFrame) -> pd.DataFrame:\n",
        "    users['name'] = users['name'].str[0].str.upper() + users['name'].str[1:].str.lower()\n",
        "    users = users.sort_values(by='user_id')\n",
        "    return users"
      ],
      "metadata": {
        "id": "wblLFR3n2VmI"
      },
      "execution_count": null,
      "outputs": []
    },
    {
      "cell_type": "code",
      "source": [
        "import pandas as pd\n",
        "\n",
        "def fix_names(users: pd.DataFrame) -> pd.DataFrame:\n",
        "    users['name'] = users['name'].str[0].str.upper() + users['name'].str[1:].str.lower()\n",
        "    return users.sort_values(by='user_id')"
      ],
      "metadata": {
        "id": "Z-D_jZNW2_ni"
      },
      "execution_count": null,
      "outputs": []
    },
    {
      "cell_type": "code",
      "source": [
        "import pandas as pd\n",
        "\n",
        "def fix_names(users: pd.DataFrame) -> pd.DataFrame:\n",
        "    users['name'] = users['name'].str.capitalize()\n",
        "    return users.sort_values(by='user_id')"
      ],
      "metadata": {
        "id": "k86VpIk23iv_"
      },
      "execution_count": null,
      "outputs": []
    },
    {
      "cell_type": "markdown",
      "source": [
        "# 08.Find Users With Valid E-Mails"
      ],
      "metadata": {
        "id": "zZs6pJy6iDvl"
      }
    },
    {
      "cell_type": "code",
      "source": [
        "import pandas as pd\n",
        "\n",
        "def valid_emails(users: pd.DataFrame) -> pd.DataFrame:\n",
        "    users = users[users['mail'].str.match(r'^[a-zA-Z][a-zA-Z0-9._-]*@leetcode\\.com$')]\n",
        "    return users"
      ],
      "metadata": {
        "id": "i9wD24AyBYR_"
      },
      "execution_count": null,
      "outputs": []
    },
    {
      "cell_type": "code",
      "source": [
        "data = {\n",
        "    'user_id': [1, 2, 3, 4, 5, 6, 7],\n",
        "    'name': ['Winston', 'Jonathan', 'Annabelle', 'Sally', 'Marwan', 'David', 'Shapiro'],\n",
        "    'mail': [\n",
        "        'winston@leetcode.com',        # Валидный\n",
        "        'jonathanisgreat',             # Нет '@', невалидный\n",
        "        'bella-@leetcode.com',         # Валидный\n",
        "        'sally.come@leetcode.com',     # Валидный\n",
        "        'quarz#2020@leetcode.com',     # Символ '#', невалидный\n",
        "        'david69@gmail.com',           # Неверный домен, невалидный\n",
        "        '.shapo@leetcode.com'          # Начинается с '.', невалидный\n",
        "    ]\n",
        "}\n",
        "\n",
        "users_df = pd.DataFrame(data)\n",
        "valid_users_df = valid_emails(users_df)\n",
        "print(valid_users_df)"
      ],
      "metadata": {
        "colab": {
          "base_uri": "https://localhost:8080/"
        },
        "id": "yDqSfydNBk4R",
        "outputId": "65ae3ada-6d25-4dd8-df2b-da9b0422353e"
      },
      "execution_count": null,
      "outputs": [
        {
          "output_type": "stream",
          "name": "stdout",
          "text": [
            "   user_id       name                     mail\n",
            "0        1    Winston     winston@leetcode.com\n",
            "2        3  Annabelle      bella-@leetcode.com\n",
            "3        4      Sally  sally.come@leetcode.com\n"
          ]
        }
      ]
    },
    {
      "cell_type": "markdown",
      "source": [
        "# 09. Patients With a Condition"
      ],
      "metadata": {
        "id": "2YmYVm36X1Gi"
      }
    },
    {
      "cell_type": "code",
      "source": [
        "import pandas as pd\n",
        "\n",
        "def find_patients(patients: pd.DataFrame) -> pd.DataFrame:\n",
        "    patients = patients[patients['conditions'].str.contains(r'(^|\\s)DIAB1')]\n",
        "    return patients"
      ],
      "metadata": {
        "id": "lrWi2_8-X0Gj"
      },
      "execution_count": null,
      "outputs": []
    },
    {
      "cell_type": "markdown",
      "source": [
        "# 10. Delete Duplicate Emails"
      ],
      "metadata": {
        "id": "_GA7lc8udF0u"
      }
    },
    {
      "cell_type": "code",
      "source": [
        "import pandas as pd\n",
        "\n",
        "def delete_duplicate_emails(person: pd.DataFrame) -> None:\n",
        "    person.sort_values(by='id', inplace=True)\n",
        "    person.drop_duplicates(subset='email', keep='first', inplace=True)\n",
        "\n",
        "    return\n"
      ],
      "metadata": {
        "id": "ErwxC5ybdEsf"
      },
      "execution_count": null,
      "outputs": []
    },
    {
      "cell_type": "markdown",
      "source": [
        "# 11. Rearrange Products Table"
      ],
      "metadata": {
        "id": "iNSaUPz8fYy3"
      }
    },
    {
      "cell_type": "code",
      "source": [
        "import pandas as pd\n",
        "\n",
        "def rearrange_products_table(products: pd.DataFrame) -> pd.DataFrame:\n",
        "    products = pd.melt(products, id_vars='product_id', var_name='store', value_name='price')\n",
        "    products = products.dropna(subset='price')\n",
        "\n",
        "    return products"
      ],
      "metadata": {
        "id": "j5vkO0crfX61"
      },
      "execution_count": null,
      "outputs": []
    },
    {
      "cell_type": "markdown",
      "source": [
        "# 12. Immediate Food Delivery I"
      ],
      "metadata": {
        "id": "9z1cRAUpjU3p"
      }
    },
    {
      "cell_type": "code",
      "source": [
        "import pandas as pd\n",
        "\n",
        "def food_delivery(delivery: pd.DataFrame) -> pd.DataFrame:\n",
        "    immediate = len(delivery[delivery['order_date'] == delivery['customer_pref_delivery_date']])\n",
        "    all_deliveries = delivery.shape[0]\n",
        "    df = pd.DataFrame({'immediate_percentage':[round(100 * immediate / all_deliveries, 2)]})\n",
        "    return df[['immediate_percentage']]"
      ],
      "metadata": {
        "id": "LXT27JoRjTyp"
      },
      "execution_count": null,
      "outputs": []
    },
    {
      "cell_type": "markdown",
      "source": [
        "# 13-1. Ads Performance"
      ],
      "metadata": {
        "id": "u9rypQJM2LcQ"
      }
    },
    {
      "cell_type": "code",
      "source": [
        "import pandas as pd\n",
        "\n",
        "def ads_performance(ads: pd.DataFrame) -> pd.DataFrame:\n",
        "    # Группируем данные по ad_id и считаем количество Clicked и Clicked/Viewed действий\n",
        "    ads = ads.groupby('ad_id').apply(\n",
        "        lambda x:pd.Series({\n",
        "            'clicked': (x['action'] == 'Clicked').sum(),\n",
        "            'clicked_viewed': ((x['action'] == 'Clicked') | (x['action'] == 'Viewed')).sum()\n",
        "        })\n",
        "    ).reset_index()\n",
        "\n",
        "    # Рассчитываем CTR и обрабатываем случай деления на 0\n",
        "\n",
        "    ads['ctr'] = ads.apply(\n",
        "        lambda x: round(100 * x['clicked'] / x['clicked_viewed'], 2) if x['clicked_viewed'] >0 else 0, axis=1)\n",
        "\n",
        "    ads = ads[['ad_id', 'ctr']].sort_values(by=['ctr', 'ad_id'], ascending=[False, True])\n",
        "\n",
        "    return ads"
      ],
      "metadata": {
        "id": "kkAAonzMjboW"
      },
      "execution_count": null,
      "outputs": []
    },
    {
      "cell_type": "markdown",
      "source": [
        "# 14. Find Total Time Spent by Each Employee"
      ],
      "metadata": {
        "id": "VG67Dttov4xX"
      }
    },
    {
      "cell_type": "code",
      "source": [
        "import pandas as pd\n",
        "\n",
        "def total_time(employees: pd.DataFrame) -> pd.DataFrame:\n",
        "    employees = employees.groupby(['event_day', 'emp_id']).agg()"
      ],
      "metadata": {
        "id": "_6r0n3Pfv4Sc"
      },
      "execution_count": null,
      "outputs": []
    },
    {
      "cell_type": "markdown",
      "source": [
        "# 15. Game Play Analysis I"
      ],
      "metadata": {
        "id": "jeVqrTRywYo3"
      }
    },
    {
      "cell_type": "code",
      "source": [
        "import pandas as pd\n",
        "\n",
        "def game_analysis(activity: pd.DataFrame) -> pd.DataFrame:\n",
        "    df = activity.groupby('player_id', as_index=False)[['event_date']].min()\n",
        "    df.rename(columns={'event_date': 'first_login'}, inplace=True)\n",
        "    return df"
      ],
      "metadata": {
        "id": "YYB4vvcqwWVa"
      },
      "execution_count": null,
      "outputs": []
    },
    {
      "cell_type": "markdown",
      "source": [
        "# 16. Number of Unique Subjects Taught by Each Teacher"
      ],
      "metadata": {
        "id": "zxLWizMywy56"
      }
    },
    {
      "cell_type": "code",
      "source": [
        "import pandas as pd\n",
        "\n",
        "def count_unique_subjects(teacher: pd.DataFrame) -> pd.DataFrame:\n",
        "    result = teacher.groupby('teacher_id').agg(\n",
        "        cnt=('subject_id', 'nunique')\n",
        "    ).reset_index()\n",
        "    return result"
      ],
      "metadata": {
        "id": "L5v2id1Mw858"
      },
      "execution_count": null,
      "outputs": []
    }
  ]
}