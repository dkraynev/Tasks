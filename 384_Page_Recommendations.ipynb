{
  "nbformat": 4,
  "nbformat_minor": 0,
  "metadata": {
    "colab": {
      "provenance": [],
      "authorship_tag": "ABX9TyPeB06p0N7EP94joR7KBT3D",
      "include_colab_link": true
    },
    "kernelspec": {
      "name": "python3",
      "display_name": "Python 3"
    },
    "language_info": {
      "name": "python"
    }
  },
  "cells": [
    {
      "cell_type": "markdown",
      "metadata": {
        "id": "view-in-github",
        "colab_type": "text"
      },
      "source": [
        "<a href=\"https://colab.research.google.com/github/dkraynev/Tasks/blob/main/384_Page_Recommendations.ipynb\" target=\"_parent\"><img src=\"https://colab.research.google.com/assets/colab-badge.svg\" alt=\"Open In Colab\"/></a>"
      ]
    },
    {
      "cell_type": "markdown",
      "source": [
        "Table: Triangle\n",
        "\n",
        "+-------------+------+\n",
        "| Column Name | Type |\n",
        "+-------------+------+\n",
        "| x           | int  |\n",
        "| y           | int  |\n",
        "| z           | int  |\n",
        "+-------------+------+\n",
        "In SQL, (x, y, z) is the primary key column for this table.\n",
        "Each row of this table contains the lengths of three line segments.\n",
        "\n",
        "\n",
        "Report for every three line segments whether they can form a triangle.\n",
        "\n",
        "Return the result table in any order.\n",
        "\n",
        "The result format is in the following example.\n",
        "\n",
        "\n",
        "\n",
        "Example 1:\n",
        "\n",
        "Input:\n",
        "Triangle table:\n",
        "+----+----+----+\n",
        "| x  | y  | z  |\n",
        "+----+----+----+\n",
        "| 13 | 15 | 30 |\n",
        "| 10 | 20 | 15 |\n",
        "+----+----+----+\n",
        "Output:\n",
        "+----+----+----+----------+\n",
        "| x  | y  | z  | triangle |\n",
        "+----+----+----+----------+\n",
        "| 13 | 15 | 30 | No       |\n",
        "| 10 | 20 | 15 | Yes      |\n",
        "+----+----+----+----------+"
      ],
      "metadata": {
        "id": "3kADJYcPbq69"
      }
    },
    {
      "cell_type": "code",
      "source": [
        "import pandas as pd\n",
        "\n",
        "# Данные о дружбе\n",
        "friendship_data = {\n",
        "    'user1_id': [1, 1, 1, 2, 2, 2, 6],\n",
        "    'user2_id': [2, 3, 4, 3, 4, 5, 1]\n",
        "}\n",
        "\n",
        "# Преобразуем данные о дружбе в DataFrame\n",
        "friendship_df = pd.DataFrame(friendship_data)\n",
        "\n",
        "# Данные о лайках\n",
        "likes_data = {\n",
        "    'user_id': [1, 2, 3, 4, 5, 6, 2, 3, 6],\n",
        "    'page_id': [88, 23, 24, 56, 11, 33, 77, 77, 88]\n",
        "}\n",
        "\n",
        "# Преобразуем данные о лайках в DataFrame\n",
        "likes_df = pd.DataFrame(likes_data)\n",
        "\n",
        "# Выводим данные для наглядности\n",
        "print(\"Данные о дружбе:\")\n",
        "print(friendship_df)\n",
        "print(\"\\nДанные о лайках:\")\n",
        "print(likes_df)\n"
      ],
      "metadata": {
        "colab": {
          "base_uri": "https://localhost:8080/"
        },
        "id": "jttdjxA2kDkr",
        "outputId": "8cb96434-c276-4489-c921-75334dc954dd"
      },
      "execution_count": null,
      "outputs": [
        {
          "output_type": "stream",
          "name": "stdout",
          "text": [
            "Данные о дружбе:\n",
            "   user1_id  user2_id\n",
            "0         1         2\n",
            "1         1         3\n",
            "2         1         4\n",
            "3         2         3\n",
            "4         2         4\n",
            "5         2         5\n",
            "6         6         1\n",
            "\n",
            "Данные о лайках:\n",
            "   user_id  page_id\n",
            "0        1       88\n",
            "1        2       23\n",
            "2        3       24\n",
            "3        4       56\n",
            "4        5       11\n",
            "5        6       33\n",
            "6        2       77\n",
            "7        3       77\n",
            "8        6       88\n"
          ]
        }
      ]
    },
    {
      "cell_type": "code",
      "source": [
        "# Ищем друзей пользователя с user_id = 1\n",
        "friends_of_user_1 = friendship_df[\n",
        "    (friendship_df['user1_id'] == 1) | (friendship_df['user2_id'] == 1)\n",
        "]\n",
        "\n",
        "# Преобразуем результаты в один список user_id друзей\n",
        "# Если user1_id = 1, то друг находится в user2_id, и наоборот\n",
        "friends_of_user_1['friend_id'] = friends_of_user_1.apply(\n",
        "    lambda row: row['user2_id'] if row['user1_id'] == 1 else row['user1_id'], axis=1\n",
        ")\n",
        "\n",
        "# Извлекаем только уникальные идентификаторы друзей\n",
        "friends_list = friends_of_user_1['friend_id'].unique()\n",
        "\n",
        "# Выводим список друзей\n",
        "print(\"\\nСписок друзей пользователя 1:\")\n",
        "print(friends_list)"
      ],
      "metadata": {
        "id": "a22CQWdKaPWs"
      },
      "execution_count": null,
      "outputs": []
    },
    {
      "cell_type": "code",
      "source": [
        "# Ищем все страницы, которые лайкнули друзья из friends_list\n",
        "friends_likes = likes_df[likes_df['user_id'].isin(friends_list)]\n",
        "\n",
        "# Выводим страницы, которые лайкнули друзья\n",
        "print(\"\\nСтраницы, которые лайкнули друзья пользователя 1:\")\n",
        "print(friends_likes)\n"
      ],
      "metadata": {
        "id": "tUeQVpdLhD5K"
      },
      "execution_count": null,
      "outputs": []
    },
    {
      "cell_type": "code",
      "source": [
        "# Страницы, которые уже лайкнул пользователь 1\n",
        "user_1_likes = likes_df[likes_df['user_id'] == 1]['page_id'].unique()\n",
        "\n",
        "# Исключаем страницы, которые уже лайкнул пользователь 1\n",
        "recommended_pages = friends_likes[~friends_likes['page_id'].isin(user_1_likes)]\n",
        "\n",
        "# Оставляем только уникальные страницы\n",
        "recommended_pages = recommended_pages['page_id'].drop_duplicates()\n",
        "\n",
        "# Выводим рекомендуемые страницы\n",
        "print(\"\\nРекомендуемые страницы для пользователя 1:\")\n",
        "print(recommended_pages)\n"
      ],
      "metadata": {
        "id": "jQuBQ_mAhGSu"
      },
      "execution_count": null,
      "outputs": []
    }
  ]
}