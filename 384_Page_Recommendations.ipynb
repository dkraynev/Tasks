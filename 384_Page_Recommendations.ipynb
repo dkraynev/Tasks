{
  "nbformat": 4,
  "nbformat_minor": 0,
  "metadata": {
    "colab": {
      "provenance": [],
      "authorship_tag": "ABX9TyN8QUH0rAm2YhMN6qFVj9s+",
      "include_colab_link": true
    },
    "kernelspec": {
      "name": "python3",
      "display_name": "Python 3"
    },
    "language_info": {
      "name": "python"
    }
  },
  "cells": [
    {
      "cell_type": "markdown",
      "metadata": {
        "id": "view-in-github",
        "colab_type": "text"
      },
      "source": [
        "<a href=\"https://colab.research.google.com/github/dkraynev/Tasks/blob/main/384_Page_Recommendations.ipynb\" target=\"_parent\"><img src=\"https://colab.research.google.com/assets/colab-badge.svg\" alt=\"Open In Colab\"/></a>"
      ]
    },
    {
      "cell_type": "markdown",
      "source": [
        "Table: Friendship\n",
        "\n",
        "+---------------+---------+\n",
        "| Column Name   | Type    |\n",
        "+---------------+---------+\n",
        "| user1_id      | int     |\n",
        "| user2_id      | int     |\n",
        "+---------------+---------+\n",
        "(user1_id, user2_id) is the primary key (combination of columns with unique values) for this table.\n",
        "Each row of this table indicates that there is a friendship relation between user1_id and user2_id.\n",
        "\n",
        "\n",
        "Table: Likes\n",
        "\n",
        "+-------------+---------+\n",
        "| Column Name | Type    |\n",
        "+-------------+---------+\n",
        "| user_id     | int     |\n",
        "| page_id     | int     |\n",
        "+-------------+---------+\n",
        "(user_id, page_id) is the primary key (combination of columns with unique values) for this table.\n",
        "Each row of this table indicates that user_id likes page_id.\n",
        "\n",
        "\n",
        "Write a solution to recommend pages to the user with user_id = 1 using the pages that your friends liked. It should not recommend pages you already liked.\n",
        "\n",
        "Return result table in any order without duplicates.\n",
        "\n",
        "The result format is in the following example.\n",
        "\n",
        "\n",
        "\n",
        "Example 1:\n",
        "\n",
        "Input:\n",
        "Friendship table:\n",
        "+----------+----------+\n",
        "| user1_id | user2_id |\n",
        "+----------+----------+\n",
        "| 1        | 2        |\n",
        "| 1        | 3        |\n",
        "| 1        | 4        |\n",
        "| 2        | 3        |\n",
        "| 2        | 4        |\n",
        "| 2        | 5        |\n",
        "| 6        | 1        |\n",
        "+----------+----------+\n",
        "Likes table:\n",
        "+---------+---------+\n",
        "| user_id | page_id |\n",
        "+---------+---------+\n",
        "| 1       | 88      |\n",
        "| 2       | 23      |\n",
        "| 3       | 24      |\n",
        "| 4       | 56      |\n",
        "| 5       | 11      |\n",
        "| 6       | 33      |\n",
        "| 2       | 77      |\n",
        "| 3       | 77      |\n",
        "| 6       | 88      |\n",
        "+---------+---------+\n",
        "Output:\n",
        "+------------------+\n",
        "| recommended_page |\n",
        "+------------------+\n",
        "| 23               |\n",
        "| 24               |\n",
        "| 56               |\n",
        "| 33               |\n",
        "| 77               |\n",
        "+------------------+\n",
        "Explanation:\n",
        "User one is friend with users 2, 3, 4 and 6.\n",
        "Suggested pages are 23 from user 2, 24 from user 3, 56 from user 3 and 33 from user 6.\n",
        "Page 77 is suggested from both user 2 and user 3.\n",
        "Page 88 is not suggested because user 1 already likes it."
      ],
      "metadata": {
        "id": "3kADJYcPbq69"
      }
    },
    {
      "cell_type": "code",
      "source": [
        "import pandas as pd\n",
        "\n",
        "# Данные о дружбе\n",
        "friendship_data = {\n",
        "    'user1_id': [1, 1, 1, 2, 2, 2, 6],\n",
        "    'user2_id': [2, 3, 4, 3, 4, 5, 1]\n",
        "}\n",
        "\n",
        "# Преобразуем данные о дружбе в DataFrame\n",
        "friendship_df = pd.DataFrame(friendship_data)\n",
        "\n",
        "# Данные о лайках\n",
        "likes_data = {\n",
        "    'user_id': [1, 2, 3, 4, 5, 6, 2, 3, 6],\n",
        "    'page_id': [88, 23, 24, 56, 11, 33, 77, 77, 88]\n",
        "}\n",
        "\n",
        "# Преобразуем данные о лайках в DataFrame\n",
        "likes_df = pd.DataFrame(likes_data)\n",
        "\n",
        "# Выводим данные для наглядности\n",
        "print(\"Данные о дружбе:\")\n",
        "print(friendship_df)\n",
        "print(\"\\nДанные о лайках:\")\n",
        "print(likes_df)\n"
      ],
      "metadata": {
        "colab": {
          "base_uri": "https://localhost:8080/"
        },
        "id": "jttdjxA2kDkr",
        "outputId": "8cb96434-c276-4489-c921-75334dc954dd"
      },
      "execution_count": null,
      "outputs": [
        {
          "output_type": "stream",
          "name": "stdout",
          "text": [
            "Данные о дружбе:\n",
            "   user1_id  user2_id\n",
            "0         1         2\n",
            "1         1         3\n",
            "2         1         4\n",
            "3         2         3\n",
            "4         2         4\n",
            "5         2         5\n",
            "6         6         1\n",
            "\n",
            "Данные о лайках:\n",
            "   user_id  page_id\n",
            "0        1       88\n",
            "1        2       23\n",
            "2        3       24\n",
            "3        4       56\n",
            "4        5       11\n",
            "5        6       33\n",
            "6        2       77\n",
            "7        3       77\n",
            "8        6       88\n"
          ]
        }
      ]
    },
    {
      "cell_type": "code",
      "source": [
        "# Ищем друзей пользователя с user_id = 1\n",
        "friends_of_user_1 = friendship_df[\n",
        "    (friendship_df['user1_id'] == 1) | (friendship_df['user2_id'] == 1)\n",
        "]\n",
        "\n",
        "# Преобразуем результаты в один список user_id друзей\n",
        "# Если user1_id = 1, то друг находится в user2_id, и наоборот\n",
        "friends_of_user_1['friend_id'] = friends_of_user_1.apply(\n",
        "    lambda row: row['user2_id'] if row['user1_id'] == 1 else row['user1_id'], axis=1\n",
        ")\n",
        "\n",
        "# Извлекаем только уникальные идентификаторы друзей\n",
        "friends_list = friends_of_user_1['friend_id'].unique()\n",
        "\n",
        "# Выводим список друзей\n",
        "print(\"\\nСписок друзей пользователя 1:\")\n",
        "print(friends_list)"
      ],
      "metadata": {
        "id": "a22CQWdKaPWs"
      },
      "execution_count": null,
      "outputs": []
    },
    {
      "cell_type": "code",
      "source": [
        "# Ищем все страницы, которые лайкнули друзья из friends_list\n",
        "friends_likes = likes_df[likes_df['user_id'].isin(friends_list)]\n",
        "\n",
        "# Выводим страницы, которые лайкнули друзья\n",
        "print(\"\\nСтраницы, которые лайкнули друзья пользователя 1:\")\n",
        "print(friends_likes)\n"
      ],
      "metadata": {
        "id": "tUeQVpdLhD5K"
      },
      "execution_count": null,
      "outputs": []
    },
    {
      "cell_type": "code",
      "source": [
        "# Страницы, которые уже лайкнул пользователь 1\n",
        "user_1_likes = likes_df[likes_df['user_id'] == 1]['page_id'].unique()\n",
        "\n",
        "# Исключаем страницы, которые уже лайкнул пользователь 1\n",
        "recommended_pages = friends_likes[~friends_likes['page_id'].isin(user_1_likes)]\n",
        "\n",
        "# Оставляем только уникальные страницы\n",
        "recommended_pages = recommended_pages['page_id'].drop_duplicates()\n",
        "\n",
        "# Выводим рекомендуемые страницы\n",
        "print(\"\\nРекомендуемые страницы для пользователя 1:\")\n",
        "print(recommended_pages)\n"
      ],
      "metadata": {
        "id": "jQuBQ_mAhGSu"
      },
      "execution_count": null,
      "outputs": []
    }
  ]
}