{
  "nbformat": 4,
  "nbformat_minor": 0,
  "metadata": {
    "colab": {
      "provenance": [],
      "authorship_tag": "ABX9TyNjbkuFhKzciMEobtzgrm0w",
      "include_colab_link": true
    },
    "kernelspec": {
      "name": "python3",
      "display_name": "Python 3"
    },
    "language_info": {
      "name": "python"
    }
  },
  "cells": [
    {
      "cell_type": "markdown",
      "metadata": {
        "id": "view-in-github",
        "colab_type": "text"
      },
      "source": [
        "<a href=\"https://colab.research.google.com/github/dkraynev/Tasks/blob/main/326_Primary_Department_for_Each_Employee.ipynb\" target=\"_parent\"><img src=\"https://colab.research.google.com/assets/colab-badge.svg\" alt=\"Open In Colab\"/></a>"
      ]
    },
    {
      "cell_type": "markdown",
      "source": [
        "Table: Employee\n",
        "\n",
        "+---------------+---------+\n",
        "| Column Name   |  Type   |\n",
        "+---------------+---------+\n",
        "| employee_id   | int     |\n",
        "| department_id | int     |\n",
        "| primary_flag  | varchar |\n",
        "+---------------+---------+\n",
        "(employee_id, department_id) is the primary key (combination of columns with unique values) for this table.\n",
        "employee_id is the id of the employee.\n",
        "department_id is the id of the department to which the employee belongs.\n",
        "primary_flag is an ENUM (category) of type ('Y', 'N'). If the flag is 'Y', the department is the primary department for the employee. If the flag is 'N', the department is not the primary.\n",
        "\n",
        "\n",
        "Employees can belong to multiple departments. When the employee joins other departments, they need to decide which department is their primary department. Note that when an employee belongs to only one department, their primary column is 'N'.\n",
        "\n",
        "Write a solution to report all the employees with their primary department. For employees who belong to one department, report their only department.\n",
        "\n",
        "Return the result table in any order.\n",
        "\n",
        "The result format is in the following example.\n",
        "\n",
        "\n",
        "\n",
        "Example 1:\n",
        "\n",
        "Input:\n",
        "Employee table:\n",
        "+-------------+---------------+--------------+\n",
        "| employee_id | department_id | primary_flag |\n",
        "+-------------+---------------+--------------+\n",
        "| 1           | 1             | N            |\n",
        "| 2           | 1             | Y            |\n",
        "| 2           | 2             | N            |\n",
        "| 3           | 3             | N            |\n",
        "| 4           | 2             | N            |\n",
        "| 4           | 3             | Y            |\n",
        "| 4           | 4             | N            |\n",
        "+-------------+---------------+--------------+\n",
        "Output:\n",
        "+-------------+---------------+\n",
        "| employee_id | department_id |\n",
        "+-------------+---------------+\n",
        "| 1           | 1             |\n",
        "| 2           | 1             |\n",
        "| 3           | 3             |\n",
        "| 4           | 3             |\n",
        "+-------------+---------------+\n",
        "Explanation:\n",
        "- The Primary department for employee 1 is 1.\n",
        "- The Primary department for employee 2 is 1.\n",
        "- The Primary department for employee 3 is 3.\n",
        "- The Primary department for employee 4 is 3."
      ],
      "metadata": {
        "id": "3kADJYcPbq69"
      }
    },
    {
      "cell_type": "code",
      "source": [
        "import pandas as pd\n",
        "\n",
        "def find_primary_department(employee: pd.DataFrame) -> pd.DataFrame:\n",
        "    # Шаг 1: Подсчет количества отделов для каждого сотрудника\n",
        "    department_count = employee.groupby('employee_id')['department_id'].count().reset_index()\n",
        "    department_count.columns = ['employee_id', 'number_of_department']\n",
        "\n",
        "    # Шаг 2: Соединение исходного DataFrame с department_count\n",
        "    df_merged = pd.merge(employee, department_count, on='employee_id')\n",
        "\n",
        "    # Шаг 3: Фильтрация данных по условиям\n",
        "    result = df_merged[\n",
        "        (df_merged['primary_flag'] == 'Y') |\n",
        "        ((df_merged['primary_flag'] == 'N') & (df_merged['number_of_department'] == 1))\n",
        "    ]\n",
        "\n",
        "    # Шаг 4: Возвращение отфильтрованных столбцов employee_id и department_id\n",
        "    return result[['employee_id', 'department_id']]"
      ],
      "metadata": {
        "id": "QjI1eMwjj-xK"
      },
      "execution_count": 1,
      "outputs": []
    },
    {
      "cell_type": "code",
      "source": [
        "import pandas as pd"
      ],
      "metadata": {
        "id": "IMcT8yXHH0iX"
      },
      "execution_count": 9,
      "outputs": []
    },
    {
      "cell_type": "code",
      "source": [
        "def find_primary_department(employee: pd.DataFrame) -> pd.DataFrame:\n",
        "    department_count = employee.groupby('employee_id')['department_id'].count().reset_index()\n",
        "    department_count.columns = ['employee_id', 'number_of_department']\n",
        "\n",
        "    df_merged = pd.merge(employee, department_count, on='employee_id')\n",
        "\n",
        "    result = df_merged[\n",
        "        (df_merged['primary_flag'] == 'Y') |\n",
        "        (df_merged['number_of_department'] ==  1)\n",
        "    ]\n",
        "\n",
        "    return result[['employee_id', 'department_id']]"
      ],
      "metadata": {
        "id": "zCKsVZ_LH5IT"
      },
      "execution_count": 13,
      "outputs": []
    },
    {
      "cell_type": "code",
      "source": [
        "# Пример данных для тестирования функции\n",
        "data = {\n",
        "    'employee_id': [1, 1, 2, 3, 3, 4],\n",
        "    'department_id': [10, 20, 30, 40, 50, 60],\n",
        "    'primary_flag': ['Y', 'N', 'N', 'Y', 'N', 'N']\n",
        "}\n",
        "\n",
        "# Создание DataFrame\n",
        "df = pd.DataFrame(data)\n",
        "\n",
        "# Вызов функции\n",
        "filtered_df = find_primary_department(df)\n",
        "\n",
        "# Отображение результата\n",
        "print(filtered_df)"
      ],
      "metadata": {
        "colab": {
          "base_uri": "https://localhost:8080/"
        },
        "id": "jttdjxA2kDkr",
        "outputId": "3809e66f-b096-4e4c-8f24-2cbcf31f2b67"
      },
      "execution_count": 14,
      "outputs": [
        {
          "output_type": "stream",
          "name": "stdout",
          "text": [
            "   employee_id  department_id\n",
            "0            1             10\n",
            "2            2             30\n",
            "3            3             40\n",
            "5            4             60\n"
          ]
        }
      ]
    }
  ]
}
