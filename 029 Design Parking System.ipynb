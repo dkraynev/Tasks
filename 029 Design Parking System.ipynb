{
  "nbformat": 4,
  "nbformat_minor": 0,
  "metadata": {
    "colab": {
      "provenance": [],
      "authorship_tag": "ABX9TyMABjJJDSJxUgrKTcTZIf4A",
      "include_colab_link": true
    },
    "kernelspec": {
      "name": "python3",
      "display_name": "Python 3"
    },
    "language_info": {
      "name": "python"
    }
  },
  "cells": [
    {
      "cell_type": "markdown",
      "metadata": {
        "id": "view-in-github",
        "colab_type": "text"
      },
      "source": [
        "<a href=\"https://colab.research.google.com/github/dkraynev/Tasks/blob/main/029_Design_Parking_System.ipynb\" target=\"_parent\"><img src=\"https://colab.research.google.com/assets/colab-badge.svg\" alt=\"Open In Colab\"/></a>"
      ]
    },
    {
      "cell_type": "markdown",
      "source": [
        "Design a parking system for a parking lot. The parking lot has three kinds of parking spaces: big, medium, and small, with a fixed number of slots for each size.\n",
        "\n",
        "Implement the ParkingSystem class:\n",
        "\n",
        "ParkingSystem(int big, int medium, int small) Initializes object of the ParkingSystem class. The number of slots for each parking space are given as part of the constructor.\n",
        "bool addCar(int carType) Checks whether there is a parking space of carType for the car that wants to get into the parking lot. carType can be of three kinds: big, medium, or small, which are represented by 1, 2, and 3 respectively. A car can only park in a parking space of its carType. If there is no space available, return false, else park the car in that size space and return true.\n",
        "\n",
        "\n",
        "Example 1:\n",
        "\n",
        "Input\n",
        "[\"ParkingSystem\", \"addCar\", \"addCar\", \"addCar\", \"addCar\"]\n",
        "[[1, 1, 0], [1], [2], [3], [1]]\n",
        "Output\n",
        "[null, true, true, false, false]\n",
        "\n",
        "Explanation\n",
        "ParkingSystem parkingSystem = new ParkingSystem(1, 1, 0);\n",
        "parkingSystem.addCar(1); // return true because there is 1 available slot for a big car\n",
        "parkingSystem.addCar(2); // return true because there is 1 available slot for a medium car\n",
        "parkingSystem.addCar(3); // return false because there is no available slot for a small car\n",
        "parkingSystem.addCar(1); // return false because there is no available slot for a big car. It is already occupied.\n",
        "\n",
        "\n",
        "Constraints:\n",
        "\n",
        "0 <= big, medium, small <= 1000\n",
        "carType is 1, 2, or 3\n",
        "At most 1000 calls will be made to addCarYou are given the heads of two sorted linked lists list1 and list2.\n",
        "\n",
        "Merge the two lists into one sorted list. The list should be made by splicing together the nodes of the first two lists.\n",
        "\n",
        "Return the head of the merged linked list."
      ],
      "metadata": {
        "id": "MGytt66zGAzz"
      }
    },
    {
      "cell_type": "code",
      "source": [
        "class ParkingSystem:\n",
        "\n",
        "    def __init__(self, big: int, medium: int, small: int):\n",
        "        self.big = big\n",
        "        self.medium = medium\n",
        "        self.small = small\n",
        "    def addCar(self, carType: int) -> bool:\n",
        "        if carType == 1:\n",
        "            if self.big == 0:\n",
        "                return False\n",
        "            else:\n",
        "                self.big -= 1\n",
        "                return True\n",
        "\n",
        "        if carType == 2:\n",
        "            if self.medium == 0:\n",
        "                return False\n",
        "            else:\n",
        "                self.medium -= 1\n",
        "                return True\n",
        "\n",
        "        if carType == 3:\n",
        "            if self.small == 0:\n",
        "                return False\n",
        "            else:\n",
        "                self.small -= 1\n",
        "                return True"
      ],
      "metadata": {
        "id": "FHUwlsbmcGYX"
      },
      "execution_count": null,
      "outputs": []
    },
    {
      "cell_type": "code",
      "execution_count": null,
      "metadata": {
        "id": "n--b_qH8e7FV"
      },
      "outputs": [],
      "source": [
        "class ParkingSystem:\n",
        "\n",
        "    def __init__(self, big: int, medium: int, small: int):\n",
        "        self.empty = [0, big, medium, small]\n",
        "    def addCar(self, carType: int) -> bool:\n",
        "        if self.empty[carType] == 0:\n",
        "            return False\n",
        "        else:\n",
        "            self.empty[carType] -= 1\n",
        "            return True"
      ]
    },
    {
      "cell_type": "code",
      "source": [
        "class ParkingSystem:\n",
        "    def __init__(self, big: int, medium: int, small: int):\n",
        "        self.empty = {1:big, 2:medium, 3:small}\n",
        "    def addCar(self, carType: int) -> bool:\n",
        "        if self.empty[carType] == 0:\n",
        "            return False\n",
        "\n",
        "        self.empty[carType] -= 1\n",
        "        return True"
      ],
      "metadata": {
        "id": "GcjzoQ62d-sF"
      },
      "execution_count": null,
      "outputs": []
    },
    {
      "cell_type": "code",
      "source": [
        "# Your ParkingSystem object will be instantiated and called as such:\n",
        "# obj = ParkingSystem(big, medium, small)\n",
        "# param_1 = obj.addCar(carType)obj = ParkingSystem(1, 1, 0)\n",
        "\n",
        "obj = ParkingSystem(1, 1, 0)\n",
        "# Example 1:\n",
        "add_cars = [1, 2, 3, 1]\n",
        "for car in add_cars:\n",
        "    print(obj.addCar(car))"
      ],
      "metadata": {
        "colab": {
          "base_uri": "https://localhost:8080/"
        },
        "id": "9ljSgA8K_jtI",
        "outputId": "84499aca-5006-4588-f1f5-5461cae42d6e"
      },
      "execution_count": null,
      "outputs": [
        {
          "output_type": "stream",
          "name": "stdout",
          "text": [
            "True\n",
            "True\n",
            "False\n",
            "False\n"
          ]
        }
      ]
    }
  ]
}
