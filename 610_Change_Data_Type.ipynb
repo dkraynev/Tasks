{
  "nbformat": 4,
  "nbformat_minor": 0,
  "metadata": {
    "colab": {
      "provenance": [],
      "authorship_tag": "ABX9TyNQ9ghqDSudoH7zUpG4Fp00",
      "include_colab_link": true
    },
    "kernelspec": {
      "name": "python3",
      "display_name": "Python 3"
    },
    "language_info": {
      "name": "python"
    }
  },
  "cells": [
    {
      "cell_type": "markdown",
      "metadata": {
        "id": "view-in-github",
        "colab_type": "text"
      },
      "source": [
        "<a href=\"https://colab.research.google.com/github/dkraynev/Tasks/blob/main/610_Change_Data_Type.ipynb\" target=\"_parent\"><img src=\"https://colab.research.google.com/assets/colab-badge.svg\" alt=\"Open In Colab\"/></a>"
      ]
    },
    {
      "cell_type": "code",
      "source": [
        "import pandas as pd"
      ],
      "metadata": {
        "id": "n_6pAc_U-ZMf"
      },
      "execution_count": null,
      "outputs": []
    },
    {
      "cell_type": "code",
      "source": [
        "def changeDatatype(students):\n",
        "    students['grade'] = students['grade'].astype('int')\n",
        "    return students"
      ],
      "metadata": {
        "id": "E8luH4ks-cHD"
      },
      "execution_count": null,
      "outputs": []
    },
    {
      "cell_type": "code",
      "source": [
        "# Пример DataFrame\n",
        "data = {\n",
        "    'student_id': [1, 2],\n",
        "    'name': ['Ava', 'Kate'],\n",
        "    'age': [6, 15],\n",
        "    'grade': [73.0, 87.0]\n",
        "}\n",
        "\n",
        "students = pd.DataFrame(data)\n",
        "print(students)\n",
        "print()\n",
        "\n",
        "# Вызываем функцию для изменения типа данных столбца 'grade'\n",
        "result = changeDatatype(students)\n",
        "print(result)\n"
      ],
      "metadata": {
        "colab": {
          "base_uri": "https://localhost:8080/"
        },
        "id": "LOTrnS2S-e7S",
        "outputId": "921e354a-f7ec-4a02-f92c-12f55da76d3e"
      },
      "execution_count": null,
      "outputs": [
        {
          "output_type": "stream",
          "name": "stdout",
          "text": [
            "   student_id  name  age  grade\n",
            "0           1   Ava    6   73.0\n",
            "1           2  Kate   15   87.0\n",
            "\n",
            "   student_id  name  age  grade\n",
            "0           1   Ava    6     73\n",
            "1           2  Kate   15     87\n"
          ]
        }
      ]
    }
  ]
}