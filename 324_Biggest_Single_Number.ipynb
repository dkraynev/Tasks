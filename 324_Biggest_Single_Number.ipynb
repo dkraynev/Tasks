{
  "nbformat": 4,
  "nbformat_minor": 0,
  "metadata": {
    "colab": {
      "provenance": [],
      "authorship_tag": "ABX9TyNU3UILOc9Ac9/Uz5sLzqDz",
      "include_colab_link": true
    },
    "kernelspec": {
      "name": "python3",
      "display_name": "Python 3"
    },
    "language_info": {
      "name": "python"
    }
  },
  "cells": [
    {
      "cell_type": "markdown",
      "metadata": {
        "id": "view-in-github",
        "colab_type": "text"
      },
      "source": [
        "<a href=\"https://colab.research.google.com/github/dkraynev/Tasks/blob/main/324_Biggest_Single_Number.ipynb\" target=\"_parent\"><img src=\"https://colab.research.google.com/assets/colab-badge.svg\" alt=\"Open In Colab\"/></a>"
      ]
    },
    {
      "cell_type": "markdown",
      "source": [
        "Table: MyNumbers\n",
        "\n",
        "+-------------+------+\n",
        "| Column Name | Type |\n",
        "+-------------+------+\n",
        "| num         | int  |\n",
        "+-------------+------+\n",
        "This table may contain duplicates (In other words, there is no primary key for this table in SQL).\n",
        "Each row of this table contains an integer.\n",
        "\n",
        "\n",
        "A single number is a number that appeared only once in the MyNumbers table.\n",
        "\n",
        "Find the largest single number. If there is no single number, report null.\n",
        "\n",
        "The result format is in the following example.\n",
        "\n",
        "\n",
        "\n",
        "Example 1:\n",
        "\n",
        "Input:\n",
        "MyNumbers table:\n",
        "+-----+\n",
        "| num |\n",
        "+-----+\n",
        "| 8   |\n",
        "| 8   |\n",
        "| 3   |\n",
        "| 3   |\n",
        "| 1   |\n",
        "| 4   |\n",
        "| 5   |\n",
        "| 6   |\n",
        "+-----+\n",
        "Output:\n",
        "+-----+\n",
        "| num |\n",
        "+-----+\n",
        "| 6   |\n",
        "+-----+\n",
        "Explanation: The single numbers are 1, 4, 5, and 6.\n",
        "Since 6 is the largest single number, we return it.\n",
        "Example 2:\n",
        "\n",
        "Input:\n",
        "MyNumbers table:\n",
        "+-----+\n",
        "| num |\n",
        "+-----+\n",
        "| 8   |\n",
        "| 8   |\n",
        "| 7   |\n",
        "| 7   |\n",
        "| 3   |\n",
        "| 3   |\n",
        "| 3   |\n",
        "+-----+\n",
        "Output:\n",
        "+------+\n",
        "| num  |\n",
        "+------+\n",
        "| null |\n",
        "+------+\n",
        "Explanation: There are no single numbers in the input table so we return null."
      ],
      "metadata": {
        "id": "3kADJYcPbq69"
      }
    },
    {
      "cell_type": "code",
      "source": [
        "import pandas as pd\n",
        "\n",
        "def biggest_single_number(my_numbers: pd.DataFrame) -> pd.DataFrame:\n",
        "    # Считаем количество вхождений каждого числа в столбце 'num'\n",
        "    counts = my_numbers['num'].value_counts()\n",
        "\n",
        "    # Оставляем только те числа, которые встречаются ровно один раз\n",
        "    single_numbers = counts[counts == 1].index\n",
        "\n",
        "    # Если такие числа есть, находим максимальное\n",
        "    if not single_numbers.empty:\n",
        "        result = pd.DataFrame({'num': [max(single_numbers)]})\n",
        "    else:\n",
        "        # Если нет чисел, которые встречаются ровно один раз, возвращаем DataFrame с значением None\n",
        "        result = pd.DataFrame({'num': [None]})\n",
        "\n",
        "    return result\n"
      ],
      "metadata": {
        "id": "QjI1eMwjj-xK"
      },
      "execution_count": 1,
      "outputs": []
    },
    {
      "cell_type": "code",
      "source": [
        "# Пример данных\n",
        "data = {'num': [8, 8, 3, 3, 1, 4]}\n",
        "my_numbers = pd.DataFrame(data)\n",
        "\n",
        "# Применяем функцию\n",
        "result = biggest_single_number(my_numbers)\n",
        "print(result)\n"
      ],
      "metadata": {
        "colab": {
          "base_uri": "https://localhost:8080/"
        },
        "id": "jttdjxA2kDkr",
        "outputId": "7cac9018-db39-45d8-d2fd-001a5130498a"
      },
      "execution_count": 2,
      "outputs": [
        {
          "output_type": "stream",
          "name": "stdout",
          "text": [
            "   num\n",
            "0    4\n"
          ]
        }
      ]
    },
    {
      "cell_type": "code",
      "source": [
        "import pandas as pd\n",
        "\n",
        "def biggest_single_number(my_numbers: pd.DataFrame) -> pd.DataFrame:\n",
        "    # Считаем количество вхождений каждого числа в столбце 'num'\n",
        "    counts = my_numbers['num'].value_counts()\n",
        "    print('After counts:')\n",
        "    print(my_numbers)\n",
        "\n",
        "\n",
        "    # Оставляем только те числа, которые встречаются ровно один раз\n",
        "    single_numbers = counts[counts == 1].index\n",
        "    print('After singe_numbers:')\n",
        "    print(my_numbers)\n",
        "\n",
        "    # Если такие числа есть, находим максимальное\n",
        "    if not single_numbers.empty:\n",
        "        result = pd.DataFrame({'num': [max(single_numbers)]})\n",
        "    else:\n",
        "        # Если нет чисел, которые встречаются ровно один раз, возвращаем DataFrame с значением None\n",
        "        result = pd.DataFrame({'num': [None]})\n",
        "\n",
        "    return result\n"
      ],
      "metadata": {
        "id": "S_C_t4RqlMdM"
      },
      "execution_count": null,
      "outputs": []
    }
  ]
}