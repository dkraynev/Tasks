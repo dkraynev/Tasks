{
  "nbformat": 4,
  "nbformat_minor": 0,
  "metadata": {
    "colab": {
      "provenance": [],
      "authorship_tag": "ABX9TyNdksey5o5Gt2ypb9ex15kB",
      "include_colab_link": true
    },
    "kernelspec": {
      "name": "python3",
      "display_name": "Python 3"
    },
    "language_info": {
      "name": "python"
    }
  },
  "cells": [
    {
      "cell_type": "markdown",
      "metadata": {
        "id": "view-in-github",
        "colab_type": "text"
      },
      "source": [
        "<a href=\"https://colab.research.google.com/github/dkraynev/Tasks/blob/main/004_Valid_Anagram.ipynb\" target=\"_parent\"><img src=\"https://colab.research.google.com/assets/colab-badge.svg\" alt=\"Open In Colab\"/></a>"
      ]
    },
    {
      "cell_type": "markdown",
      "source": [
        "Given two strings s and t, return true if t is an\n",
        "anagram of s, and false otherwise."
      ],
      "metadata": {
        "id": "_TA4uQ3stuco"
      }
    },
    {
      "cell_type": "code",
      "execution_count": null,
      "metadata": {
        "id": "cyB7TZDRtWlx"
      },
      "outputs": [],
      "source": [
        "class Solution:\n",
        "    def isAnagram(self, s: str, t: str) -> bool:\n",
        "        \"\"\"\n",
        "        :type s: str\n",
        "        :type t: str\n",
        "        :rtype: bool\n",
        "        \"\"\"\n",
        "        result = False\n",
        "        if len(s) == len(t):\n",
        "            for i in range(len(s)):\n",
        "                if s[i] in t:\n",
        "                    t = t.replace(s[i], \"\", 1)\n",
        "                    result = True\n",
        "                else:\n",
        "                    result = False\n",
        "                    break\n",
        "        return result"
      ]
    },
    {
      "cell_type": "code",
      "source": [
        "s = \"anagram\"\n",
        "t = \"nagaram\"\n",
        "prov = Solution()\n",
        "print(prov.isAnagram(s, t))\n",
        "\n",
        "\n",
        "#Example 2:\n",
        "s = \"rat\"\n",
        "t = \"car\"\n",
        "#Output: False\n",
        "\n",
        "print(prov.isAnagram(s, t))"
      ],
      "metadata": {
        "colab": {
          "base_uri": "https://localhost:8080/"
        },
        "id": "krquW11TvKDh",
        "outputId": "47b53f65-24ef-4f47-ed26-c45e67dab7d8"
      },
      "execution_count": null,
      "outputs": [
        {
          "output_type": "stream",
          "name": "stdout",
          "text": [
            "True\n",
            "False\n"
          ]
        }
      ]
    }
  ]
}
