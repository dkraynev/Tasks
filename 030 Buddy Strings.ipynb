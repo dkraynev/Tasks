{
  "nbformat": 4,
  "nbformat_minor": 0,
  "metadata": {
    "colab": {
      "provenance": [],
      "authorship_tag": "ABX9TyPWIEoKNRcGMbkqfFq/yse8",
      "include_colab_link": true
    },
    "kernelspec": {
      "name": "python3",
      "display_name": "Python 3"
    },
    "language_info": {
      "name": "python"
    }
  },
  "cells": [
    {
      "cell_type": "markdown",
      "metadata": {
        "id": "view-in-github",
        "colab_type": "text"
      },
      "source": [
        "<a href=\"https://colab.research.google.com/github/dkraynev/LeetCode/blob/main/30_Buddy_Strings.ipynb\" target=\"_parent\"><img src=\"https://colab.research.google.com/assets/colab-badge.svg\" alt=\"Open In Colab\"/></a>"
      ]
    },
    {
      "cell_type": "markdown",
      "source": [
        "Given two strings s and goal, return true if you can swap two letters in s so the result is equal to goal, otherwise, return false.\n",
        "\n",
        "Swapping letters is defined as taking two indices i and j (0-indexed) such that i != j and swapping the characters at s[i] and s[j].\n",
        "\n",
        "For example, swapping at indices 0 and 2 in \"abcd\" results in \"cbad\"."
      ],
      "metadata": {
        "id": "MGytt66zGAzz"
      }
    },
    {
      "cell_type": "code",
      "source": [
        "class Solution:\n",
        "    def buddyStrings(self, s: str, goal: str) -> bool:\n",
        "        # First check if s and goal have the same length\n",
        "        if len(s) != len(goal):\n",
        "            return False\n",
        "\n",
        "        # If s is equal to goal, check if there's a duplicate character for a valid swap\n",
        "        if s == goal:\n",
        "            seen = set()\n",
        "            for char in s:\n",
        "                if char in seen:\n",
        "                    return True  # There's a duplicate character that we can swap\n",
        "                seen.add(char)\n",
        "            return False  # No duplicate characters, can't swap\n",
        "\n",
        "        # Find the indices where s and goal differ\n",
        "        diff = []\n",
        "        for i in range(len(s)):\n",
        "            if s[i] != goal[i]:\n",
        "                diff.append(i)\n",
        "\n",
        "        # There must be exactly two differences, and swapping them should make the strings equal\n",
        "        return len(diff) == 2 and s[diff[0]] == goal[diff[1]] and s[diff[1]] == goal[diff[0]]"
      ],
      "metadata": {
        "id": "3ALploukSCv5"
      },
      "execution_count": null,
      "outputs": []
    },
    {
      "cell_type": "code",
      "source": [
        "class Solution:\n",
        "    def buddyStrings(self, s: str, goal: str) -> bool:\n",
        "        n = len(s)\n",
        "        for i in range(n):\n",
        "            symbol = s[i]\n",
        "            index = goal.find(symbol)\n",
        "            while index <> -1:\n",
        "                if s[index] == goal[i]:\n",
        "                    s1 = s[:index] + symbol + s[index+1:]\n",
        "                    goal1 = goal[:i] + symbol +\n",
        "                    if s = goal1:\n",
        "                        return True\n",
        "\n",
        "            if symbol in goal:\n",
        "                while\n"
      ],
      "metadata": {
        "id": "FHUwlsbmcGYX"
      },
      "execution_count": null,
      "outputs": []
    },
    {
      "cell_type": "code",
      "execution_count": null,
      "metadata": {
        "id": "n--b_qH8e7FV"
      },
      "outputs": [],
      "source": [
        "class ParkingSystem:\n",
        "\n",
        "    def __init__(self, big: int, medium: int, small: int):\n",
        "        self.empty = [0, big, medium, small]\n",
        "    def addCar(self, carType: int) -> bool:\n",
        "        if self.empty[carType] == 0:\n",
        "            return False\n",
        "        else:\n",
        "            self.empty[carType] -= 1\n",
        "            return True"
      ]
    },
    {
      "cell_type": "code",
      "source": [
        "class ParkingSystem:\n",
        "    def __init__(self, big: int, medium: int, small: int):\n",
        "        self.empty = {1:big, 2:medium, 3:small}\n",
        "    def addCar(self, carType: int) -> bool:\n",
        "        if self.empty[carType] == 0:\n",
        "            return False\n",
        "\n",
        "        self.empty[carType] -= 1\n",
        "        return True"
      ],
      "metadata": {
        "id": "GcjzoQ62d-sF"
      },
      "execution_count": null,
      "outputs": []
    },
    {
      "cell_type": "code",
      "source": [
        "# Your ParkingSystem object will be instantiated and called as such:\n",
        "# obj = ParkingSystem(big, medium, small)\n",
        "# param_1 = obj.addCar(carType)obj = ParkingSystem(1, 1, 0)\n",
        "\n",
        "obj = ParkingSystem(1, 1, 0)\n",
        "# Example 1:\n",
        "add_cars = [1, 2, 3, 1]\n",
        "for car in add_cars:\n",
        "    print(obj.addCar(car))"
      ],
      "metadata": {
        "colab": {
          "base_uri": "https://localhost:8080/"
        },
        "id": "9ljSgA8K_jtI",
        "outputId": "84499aca-5006-4588-f1f5-5461cae42d6e"
      },
      "execution_count": null,
      "outputs": [
        {
          "output_type": "stream",
          "name": "stdout",
          "text": [
            "True\n",
            "True\n",
            "False\n",
            "False\n"
          ]
        }
      ]
    }
  ]
}
