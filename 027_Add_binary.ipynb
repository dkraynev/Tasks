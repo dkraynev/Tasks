{
  "nbformat": 4,
  "nbformat_minor": 0,
  "metadata": {
    "colab": {
      "provenance": [],
      "authorship_tag": "ABX9TyNXL6TLyJTootldP3b25W9c",
      "include_colab_link": true
    },
    "kernelspec": {
      "name": "python3",
      "display_name": "Python 3"
    },
    "language_info": {
      "name": "python"
    }
  },
  "cells": [
    {
      "cell_type": "markdown",
      "metadata": {
        "id": "view-in-github",
        "colab_type": "text"
      },
      "source": [
        "<a href=\"https://colab.research.google.com/github/dkraynev/Tasks/blob/main/027_Add_binary.ipynb\" target=\"_parent\"><img src=\"https://colab.research.google.com/assets/colab-badge.svg\" alt=\"Open In Colab\"/></a>"
      ]
    },
    {
      "cell_type": "markdown",
      "source": [
        "You are given an array coordinates, coordinates[i] = [x, y], where [x, y] represents the coordinate of a point. Check if these points make a straight line in the XY plane."
      ],
      "metadata": {
        "id": "MGytt66zGAzz"
      }
    },
    {
      "cell_type": "code",
      "execution_count": null,
      "metadata": {
        "id": "n--b_qH8e7FV"
      },
      "outputs": [],
      "source": [
        "class Solution:\n",
        "    def addBinary(self, a, b):\n",
        "        return bin(int(a, 2) + int(b, 2))[2:]"
      ]
    },
    {
      "cell_type": "code",
      "source": [
        "prov = Solution()\n",
        "\n",
        "# Example 1:\n",
        "a = \"1010\"\n",
        "b = \"1011\"\n",
        "# Output: \"10101\"\n",
        "print(prov.addBinary(a, b))\n",
        "\n",
        "# Example 2:\n",
        "#coordinates = [[1,1],[2,2],[3,4],[4,5],[5,6],[7,7]]\n",
        "# Output: \"10101\"\n",
        "#print(prov.checkStraightLine(coordinates))\n"
      ],
      "metadata": {
        "colab": {
          "base_uri": "https://localhost:8080/"
        },
        "id": "9ljSgA8K_jtI",
        "outputId": "f1278be0-1cf6-4d61-824a-1eda6698fe12"
      },
      "execution_count": null,
      "outputs": [
        {
          "output_type": "stream",
          "name": "stdout",
          "text": [
            "10101\n"
          ]
        }
      ]
    }
  ]
}