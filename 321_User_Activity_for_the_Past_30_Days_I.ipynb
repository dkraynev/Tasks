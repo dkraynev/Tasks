{
  "nbformat": 4,
  "nbformat_minor": 0,
  "metadata": {
    "colab": {
      "provenance": [],
      "authorship_tag": "ABX9TyNxLBHoJkeejnhMP0pP7OLm",
      "include_colab_link": true
    },
    "kernelspec": {
      "name": "python3",
      "display_name": "Python 3"
    },
    "language_info": {
      "name": "python"
    }
  },
  "cells": [
    {
      "cell_type": "markdown",
      "metadata": {
        "id": "view-in-github",
        "colab_type": "text"
      },
      "source": [
        "<a href=\"https://colab.research.google.com/github/dkraynev/Tasks/blob/main/321_User_Activity_for_the_Past_30_Days_I.ipynb\" target=\"_parent\"><img src=\"https://colab.research.google.com/assets/colab-badge.svg\" alt=\"Open In Colab\"/></a>"
      ]
    },
    {
      "cell_type": "markdown",
      "source": [
        "Table: Activity\n",
        "\n",
        "+---------------+---------+\n",
        "| Column Name   | Type    |\n",
        "+---------------+---------+\n",
        "| user_id       | int     |\n",
        "| session_id    | int     |\n",
        "| activity_date | date    |\n",
        "| activity_type | enum    |\n",
        "+---------------+---------+\n",
        "This table may have duplicate rows.\n",
        "The activity_type column is an ENUM (category) of type ('open_session', 'end_session', 'scroll_down', 'send_message').\n",
        "The table shows the user activities for a social media website.\n",
        "Note that each session belongs to exactly one user.\n",
        "\n",
        "\n",
        "Write a solution to find the daily active user count for a period of 30 days ending 2019-07-27 inclusively. A user was active on someday if they made at least one activity on that day.\n",
        "\n",
        "Return the result table in any order.\n",
        "\n",
        "The result format is in the following example.\n",
        "\n",
        "\n",
        "\n",
        "Example 1:\n",
        "\n",
        "Input:\n",
        "Activity table:\n",
        "+---------+------------+---------------+---------------+\n",
        "| user_id | session_id | activity_date | activity_type |\n",
        "+---------+------------+---------------+---------------+\n",
        "| 1       | 1          | 2019-07-20    | open_session  |\n",
        "| 1       | 1          | 2019-07-20    | scroll_down   |\n",
        "| 1       | 1          | 2019-07-20    | end_session   |\n",
        "| 2       | 4          | 2019-07-20    | open_session  |\n",
        "| 2       | 4          | 2019-07-21    | send_message  |\n",
        "| 2       | 4          | 2019-07-21    | end_session   |\n",
        "| 3       | 2          | 2019-07-21    | open_session  |\n",
        "| 3       | 2          | 2019-07-21    | send_message  |\n",
        "| 3       | 2          | 2019-07-21    | end_session   |\n",
        "| 4       | 3          | 2019-06-25    | open_session  |\n",
        "| 4       | 3          | 2019-06-25    | end_session   |\n",
        "+---------+------------+---------------+---------------+\n",
        "Output:\n",
        "+------------+--------------+\n",
        "| day        | active_users |\n",
        "+------------+--------------+\n",
        "| 2019-07-20 | 2            |\n",
        "| 2019-07-21 | 2            |\n",
        "+------------+--------------+\n",
        "Explanation: Note that we do not care about days with zero active users."
      ],
      "metadata": {
        "id": "3kADJYcPbq69"
      }
    },
    {
      "cell_type": "code",
      "source": [
        "import pandas as pd\n",
        "\n",
        "def user_activity(activity: pd.DataFrame) -> pd.DataFrame:\n",
        "    # Фильтруем данные, оставляя только последние 30 дней до и включая 2019-07-27\n",
        "    filtered_activity = activity[\n",
        "        (activity['activity_date'] >= '2019-06-28') & (activity['activity_date'] <= '2019-07-27')\n",
        "    ]\n",
        "\n",
        "    # Убираем дубликаты по колонкам user_id и activity_date, чтобы считать только уникальных пользователей на каждый день\n",
        "    unique_users_per_day = filtered_activity[['user_id', 'activity_date']].drop_duplicates()\n",
        "\n",
        "    # Группируем по дате активности и считаем уникальных пользователей на каждый день\n",
        "    daily_active_users = unique_users_per_day.groupby('activity_date').agg(active_users=('user_id', 'nunique')).reset_index()\n",
        "\n",
        "    # Переименовываем колонку 'activity_date' в 'day' для соответствия формату вывода\n",
        "    daily_active_users.rename(columns={'activity_date': 'day'}, inplace=True)\n",
        "\n",
        "    return daily_active_users"
      ],
      "metadata": {
        "id": "ZROairm1bvdc"
      },
      "execution_count": 1,
      "outputs": []
    },
    {
      "cell_type": "code",
      "source": [
        "# Создаем тестовый DataFrame с данными\n",
        "data = {\n",
        "    'user_id': [1, 1, 1, 2, 2, 2, 3, 3, 3, 4, 4],\n",
        "    'session_id': [1, 1, 1, 4, 4, 4, 2, 2, 2, 3, 3],\n",
        "    'activity_date': [\n",
        "        '2019-07-20', '2019-07-20', '2019-07-20',\n",
        "        '2019-07-20', '2019-07-21', '2019-07-21',\n",
        "        '2019-07-21', '2019-07-21', '2019-07-21',\n",
        "        '2019-06-25', '2019-06-25'\n",
        "    ],\n",
        "    'activity_type': [\n",
        "        'open_session', 'scroll_down', 'end_session',\n",
        "        'open_session', 'send_message', 'end_session',\n",
        "        'open_session', 'send_message', 'end_session',\n",
        "        'open_session', 'end_session'\n",
        "    ]\n",
        "}\n",
        "\n",
        "# Преобразуем данные в DataFrame\n",
        "test_activity_df = pd.DataFrame(data)\n",
        "\n",
        "# Преобразуем столбец activity_date в тип datetime\n",
        "test_activity_df['activity_date'] = pd.to_datetime(test_activity_df['activity_date'])\n",
        "\n",
        "# Вызываем функцию для тестирования\n",
        "result = user_activity(test_activity_df)\n",
        "\n",
        "# Выводим результат для проверки\n",
        "print(result)\n"
      ],
      "metadata": {
        "id": "kccDEp6R-WCF",
        "colab": {
          "base_uri": "https://localhost:8080/"
        },
        "outputId": "299b24a2-547d-4827-b88c-261c0b40c7f0"
      },
      "execution_count": 2,
      "outputs": [
        {
          "output_type": "stream",
          "name": "stdout",
          "text": [
            "         day  active_users\n",
            "0 2019-07-20             2\n",
            "1 2019-07-21             2\n"
          ]
        }
      ]
    }
  ]
}