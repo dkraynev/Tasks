{
  "nbformat": 4,
  "nbformat_minor": 0,
  "metadata": {
    "colab": {
      "provenance": [],
      "authorship_tag": "ABX9TyOA+fQo8QvE0DYM21r/5JL5",
      "include_colab_link": true
    },
    "kernelspec": {
      "name": "python3",
      "display_name": "Python 3"
    },
    "language_info": {
      "name": "python"
    }
  },
  "cells": [
    {
      "cell_type": "markdown",
      "metadata": {
        "id": "view-in-github",
        "colab_type": "text"
      },
      "source": [
        "<a href=\"https://colab.research.google.com/github/dkraynev/Tasks/blob/main/602_Get_the_Size_of_a_DataFrame.ipynb\" target=\"_parent\"><img src=\"https://colab.research.google.com/assets/colab-badge.svg\" alt=\"Open In Colab\"/></a>"
      ]
    },
    {
      "cell_type": "code",
      "source": [
        "import pandas as pd"
      ],
      "metadata": {
        "id": "-WE5t7kh_ybd"
      },
      "execution_count": null,
      "outputs": []
    },
    {
      "cell_type": "code",
      "source": [
        "def getDataframeSize(players):\n",
        "\n",
        "    rows, columns = players.shape\n",
        "\n",
        "    return [rows, columns]"
      ],
      "metadata": {
        "id": "XPcj-67N_1YX"
      },
      "execution_count": null,
      "outputs": []
    },
    {
      "cell_type": "code",
      "source": [
        "# Пример DataFrame\n",
        "data = {\n",
        "    'player_id': [846, 749, 155, 583, 388, 883, 355, 247, 761, 642],\n",
        "    'name': ['Mason', 'Riley', 'Bob', 'Isabella', 'Zachary', 'Ava', 'Violet', 'Thomas', 'Jack', 'Charlie'],\n",
        "    'age': [21, 30, 28, 32, 24, 23, 18, 27, 33, 36],\n",
        "    'position': ['Forward', 'Winger', 'Striker', 'Goalkeeper', 'Midfielder', 'Defender', 'Striker', 'Striker', 'Midfielder', 'Center-back'],\n",
        "    'team': ['RealMadrid', 'Barcelona', 'ManchesterUnited', 'Liverpool', 'BayernMunich', 'Chelsea', 'Juventus', 'ParisSaint-Germain', 'ManchesterCity', 'Arsenal']\n",
        "}\n",
        "\n",
        "players = pd.DataFrame(data)\n",
        "\n",
        "# Вызываем функцию для подсчета строк и столбцов\n",
        "result = getDataframeSize(players)\n",
        "print(result)\n"
      ],
      "metadata": {
        "colab": {
          "base_uri": "https://localhost:8080/"
        },
        "id": "mMA98_wdAV5T",
        "outputId": "0b257f9b-3399-40af-b277-b5c8e1915bcb"
      },
      "execution_count": null,
      "outputs": [
        {
          "output_type": "stream",
          "name": "stdout",
          "text": [
            "[10, 5]\n"
          ]
        }
      ]
    }
  ]
}