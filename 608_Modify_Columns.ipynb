{
  "nbformat": 4,
  "nbformat_minor": 0,
  "metadata": {
    "colab": {
      "provenance": [],
      "authorship_tag": "ABX9TyMsNmx2b5jwV6dxPQcLNstX",
      "include_colab_link": true
    },
    "kernelspec": {
      "name": "python3",
      "display_name": "Python 3"
    },
    "language_info": {
      "name": "python"
    }
  },
  "cells": [
    {
      "cell_type": "markdown",
      "metadata": {
        "id": "view-in-github",
        "colab_type": "text"
      },
      "source": [
        "<a href=\"https://colab.research.google.com/github/dkraynev/Tasks/blob/main/608_Modify_Columns.ipynb\" target=\"_parent\"><img src=\"https://colab.research.google.com/assets/colab-badge.svg\" alt=\"Open In Colab\"/></a>"
      ]
    },
    {
      "cell_type": "code",
      "source": [
        "import pandas as pd"
      ],
      "metadata": {
        "id": "DZiNG6Fns2Fw"
      },
      "execution_count": null,
      "outputs": []
    },
    {
      "cell_type": "code",
      "source": [
        "def modifySalaryColumn(employees):\n",
        "    employees['salary'] = employees['salary'] * 2\n",
        "    return employees"
      ],
      "metadata": {
        "id": "f0vOMH6qs5vY"
      },
      "execution_count": null,
      "outputs": []
    },
    {
      "cell_type": "code",
      "source": [
        "# Пример DataFrame\n",
        "data = {\n",
        "    'name': ['Jack', 'Piper', 'Mia', 'Ulysses'],\n",
        "    'salary': [19666, 74754, 62509, 54866]\n",
        "}\n",
        "\n",
        "employees = pd.DataFrame(data)\n",
        "print(employees)\n",
        "print()\n",
        "\n",
        "# Вызываем функцию для изменения зарплат\n",
        "result = modifySalaryColumn(employees)\n",
        "print(result)\n"
      ],
      "metadata": {
        "colab": {
          "base_uri": "https://localhost:8080/"
        },
        "id": "9b6YbNcYs8nn",
        "outputId": "6ac7dc6e-0307-4e50-e27a-ca63c4430e35"
      },
      "execution_count": null,
      "outputs": [
        {
          "output_type": "stream",
          "name": "stdout",
          "text": [
            "      name  salary\n",
            "0     Jack   19666\n",
            "1    Piper   74754\n",
            "2      Mia   62509\n",
            "3  Ulysses   54866\n",
            "\n",
            "      name  salary\n",
            "0     Jack   39332\n",
            "1    Piper  149508\n",
            "2      Mia  125018\n",
            "3  Ulysses  109732\n"
          ]
        }
      ]
    }
  ]
}