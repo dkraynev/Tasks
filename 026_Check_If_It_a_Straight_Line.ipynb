{
  "nbformat": 4,
  "nbformat_minor": 0,
  "metadata": {
    "colab": {
      "provenance": [],
      "authorship_tag": "ABX9TyOFEqH/fjaUsViy3gBhOU1Y",
      "include_colab_link": true
    },
    "kernelspec": {
      "name": "python3",
      "display_name": "Python 3"
    },
    "language_info": {
      "name": "python"
    }
  },
  "cells": [
    {
      "cell_type": "markdown",
      "metadata": {
        "id": "view-in-github",
        "colab_type": "text"
      },
      "source": [
        "<a href=\"https://colab.research.google.com/github/dkraynev/Tasks/blob/main/026_Check_If_It_a_Straight_Line.ipynb\" target=\"_parent\"><img src=\"https://colab.research.google.com/assets/colab-badge.svg\" alt=\"Open In Colab\"/></a>"
      ]
    },
    {
      "cell_type": "markdown",
      "source": [
        "You are given an array coordinates, coordinates[i] = [x, y], where [x, y] represents the coordinate of a point. Check if these points make a straight line in the XY plane."
      ],
      "metadata": {
        "id": "MGytt66zGAzz"
      }
    },
    {
      "cell_type": "code",
      "execution_count": null,
      "metadata": {
        "id": "n--b_qH8e7FV"
      },
      "outputs": [],
      "source": [
        "class Solution:\n",
        "    def checkStraightLine(self, c):\n",
        "        x1, y1 = c[0][0], c[0][1]\n",
        "        x2, y2 = c[1][0], c[1][1]\n",
        "        vert = x1 == x2\n",
        "        if not vert:\n",
        "            k = (y2 - y1) / (x2 - x1)\n",
        "        for i in range(2, len(c)):\n",
        "            x3, y3 = c[i][0], c[i][1]\n",
        "            if vert:\n",
        "                if x3 != x1:\n",
        "                    return False\n",
        "            else:\n",
        "                if not ((y3 - y1) == k * (x3 - x1)):\n",
        "                    return False\n",
        "\n",
        "        return True"
      ]
    },
    {
      "cell_type": "code",
      "source": [
        "prov = Solution()\n",
        "\n",
        "# Example 1:\n",
        "coordinates = [[1,2],[2,3],[3,4],[4,5],[5,6],[6,7]]\n",
        "# Output: 0\n",
        "print(prov.checkStraightLine(coordinates))\n",
        "\n",
        "# Example 2:\n",
        "coordinates = [[1,1],[2,2],[3,4],[4,5],[5,6],[7,7]]\n",
        "# Output: 0\n",
        "print(prov.checkStraightLine(coordinates))\n"
      ],
      "metadata": {
        "colab": {
          "base_uri": "https://localhost:8080/"
        },
        "id": "9ljSgA8K_jtI",
        "outputId": "a3abf868-5ab9-4e90-eccc-dee9fadee3c7"
      },
      "execution_count": null,
      "outputs": [
        {
          "output_type": "stream",
          "name": "stdout",
          "text": [
            "True\n",
            "False\n"
          ]
        }
      ]
    }
  ]
}