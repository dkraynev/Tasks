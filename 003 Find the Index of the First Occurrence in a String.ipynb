{
  "nbformat": 4,
  "nbformat_minor": 0,
  "metadata": {
    "colab": {
      "provenance": [],
      "authorship_tag": "ABX9TyOHLpQiqhmp/cuKg7lldNWb",
      "include_colab_link": true
    },
    "kernelspec": {
      "name": "python3",
      "display_name": "Python 3"
    },
    "language_info": {
      "name": "python"
    }
  },
  "cells": [
    {
      "cell_type": "markdown",
      "metadata": {
        "id": "view-in-github",
        "colab_type": "text"
      },
      "source": [
        "<a href=\"https://colab.research.google.com/github/dkraynev/Tasks/blob/main/003_Find_the_Index_of_the_First_Occurrence_in_a_String.ipynb\" target=\"_parent\"><img src=\"https://colab.research.google.com/assets/colab-badge.svg\" alt=\"Open In Colab\"/></a>"
      ]
    },
    {
      "cell_type": "markdown",
      "source": [
        "Given two strings needle and haystack, return the index of the first occurrence of needle in haystack, or -1 if needle is not part of haystack."
      ],
      "metadata": {
        "id": "_TA4uQ3stuco"
      }
    },
    {
      "cell_type": "code",
      "execution_count": null,
      "metadata": {
        "id": "cyB7TZDRtWlx"
      },
      "outputs": [],
      "source": [
        "class Solution:\n",
        "    def strStr(self, haystack: str, needle: str) -> int:\n",
        "        \"\"\"\n",
        "        :type haystack: str\n",
        "        :type needle: str\n",
        "        :rtype: int\n",
        "        \"\"\"\n",
        "        ind = 0\n",
        "        if needle == \"\":\n",
        "            index = 0\n",
        "        elif needle not in haystack:\n",
        "            index = -1\n",
        "        else:\n",
        "            index = haystack.index(needle)\n",
        "        return index"
      ]
    },
    {
      "cell_type": "code",
      "source": [
        "haystack = \"sadbutsad\"\n",
        "needle = \"sad\"\n",
        "# Output: 0\n",
        "# Explanation: \"sad\" occurs at index 0 and 6.\n",
        "# The first occurrence is at index 0, so we return 0.\n",
        "\n",
        "prov = Solution()\n",
        "print(prov.strStr(haystack, needle))\n",
        "print(prov.strStr(haystack, needle) == 0)\n",
        "\n",
        "\n",
        "#Example 2:\n",
        "haystack = \"leetcode\"\n",
        "needle = \"leeto\"\n",
        "#Output: -1\n",
        "#Explanation: \"leeto\" did not occur in \"leetcode\", so we return -1.\n",
        "print(prov.strStr(haystack, needle))\n",
        "print(prov.strStr(haystack, needle) == -1)"
      ],
      "metadata": {
        "colab": {
          "base_uri": "https://localhost:8080/"
        },
        "id": "krquW11TvKDh",
        "outputId": "11521001-137f-4d84-cbcb-f7f69d2a8735"
      },
      "execution_count": null,
      "outputs": [
        {
          "output_type": "stream",
          "name": "stdout",
          "text": [
            "0\n",
            "True\n",
            "-1\n",
            "True\n"
          ]
        }
      ]
    }
  ]
}
