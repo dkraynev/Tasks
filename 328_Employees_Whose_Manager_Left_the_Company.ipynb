{
  "nbformat": 4,
  "nbformat_minor": 0,
  "metadata": {
    "colab": {
      "provenance": [],
      "authorship_tag": "ABX9TyNG9TjqJYOdioKlAw1UGLvq",
      "include_colab_link": true
    },
    "kernelspec": {
      "name": "python3",
      "display_name": "Python 3"
    },
    "language_info": {
      "name": "python"
    }
  },
  "cells": [
    {
      "cell_type": "markdown",
      "metadata": {
        "id": "view-in-github",
        "colab_type": "text"
      },
      "source": [
        "<a href=\"https://colab.research.google.com/github/dkraynev/Tasks/blob/main/328_Employees_Whose_Manager_Left_the_Company.ipynb\" target=\"_parent\"><img src=\"https://colab.research.google.com/assets/colab-badge.svg\" alt=\"Open In Colab\"/></a>"
      ]
    },
    {
      "cell_type": "markdown",
      "source": [
        "Table: Employees\n",
        "\n",
        "+-------------+----------+\n",
        "| Column Name | Type     |\n",
        "+-------------+----------+\n",
        "| employee_id | int      |\n",
        "| name        | varchar  |\n",
        "| manager_id  | int      |\n",
        "| salary      | int      |\n",
        "+-------------+----------+\n",
        "In SQL, employee_id is the primary key for this table.\n",
        "This table contains information about the employees, their salary, and the ID of their manager. Some employees do not have a manager (manager_id is null).\n",
        "\n",
        "\n",
        "Find the IDs of the employees whose salary is strictly less than $30000 and whose manager left the company. When a manager leaves the company, their information is deleted from the Employees table, but the reports still have their manager_id set to the manager that left.\n",
        "\n",
        "Return the result table ordered by employee_id.\n",
        "\n",
        "The result format is in the following example.\n",
        "\n",
        "\n",
        "\n",
        "Example 1:\n",
        "\n",
        "Input:  \n",
        "Employees table:\n",
        "+-------------+-----------+------------+--------+\n",
        "| employee_id | name      | manager_id | salary |\n",
        "+-------------+-----------+------------+--------+\n",
        "| 3           | Mila      | 9          | 60301  |\n",
        "| 12          | Antonella | null       | 31000  |\n",
        "| 13          | Emery     | null       | 67084  |\n",
        "| 1           | Kalel     | 11         | 21241  |\n",
        "| 9           | Mikaela   | null       | 50937  |\n",
        "| 11          | Joziah    | 6          | 28485  |\n",
        "+-------------+-----------+------------+--------+\n",
        "Output:\n",
        "+-------------+\n",
        "| employee_id |\n",
        "+-------------+\n",
        "| 11          |\n",
        "+-------------+\n",
        "\n",
        "Explanation:\n",
        "The employees with a salary less than $30000 are 1 (Kalel) and 11 (Joziah).\n",
        "Kalel's manager is employee 11, who is still in the company (Joziah).\n",
        "Joziah's manager is employee 6, who left the company because there is no row for employee 6 as it was deleted."
      ],
      "metadata": {
        "id": "3kADJYcPbq69"
      }
    },
    {
      "cell_type": "code",
      "source": [
        "import pandas as pd\n",
        "\n",
        "def find_employees(employees: pd.DataFrame) -> pd.DataFrame:\n",
        "    # Фильтрация сотрудников: manager_id не должен быть среди employee_id и зарплата меньше 30000\n",
        "    result = employees[\n",
        "        (employees['manager_id'].notna()) &  # Исключаем пустые значения manager_id\n",
        "        (~employees['manager_id'].isin(employees['employee_id'])) &  # Исключаем тех, у кого manager_id есть среди employee_id\n",
        "        (employees['salary'] < 30000)  # Зарплата меньше 30000\n",
        "    ].sort_values('employee_id')  # Сортировка по employee_id\n",
        "\n",
        "    return result[['employee_id']]"
      ],
      "metadata": {
        "id": "bwGuDkn4GXSt"
      },
      "execution_count": 13,
      "outputs": []
    },
    {
      "cell_type": "code",
      "source": [
        "import pandas as pd"
      ],
      "metadata": {
        "id": "xRDfx8mingxm"
      },
      "execution_count": 8,
      "outputs": []
    },
    {
      "cell_type": "code",
      "source": [
        "def find_employees(employees: pd.DataFrame) -> pd.DataFrame:\n",
        "    result = employees[\n",
        "        (employees['manager_id'].notna()) &\n",
        "        (~employees['manager_id'].isin(employees['employee_id'])) &\n",
        "        (employees['salary'] < 30000)\n",
        "    ].sort_values('employee_id')\n",
        "\n",
        "    return result[['employee_id']]"
      ],
      "metadata": {
        "id": "V5DDXX2InnwC"
      },
      "execution_count": 15,
      "outputs": []
    },
    {
      "cell_type": "code",
      "source": [
        "# Пример данных\n",
        "data = {\n",
        "    'employee_id': [1, 2, 3, 4, 5],\n",
        "    'manager_id': [2, 3, 4, None, 2],\n",
        "    'salary': [25000, 40000, 20000, 18000, 35000]\n",
        "}\n",
        "\n",
        "# Создание DataFrame\n",
        "df = pd.DataFrame(data)\n",
        "\n",
        "# Вызов функции\n",
        "result_df = find_employees(df)\n",
        "\n",
        "# Вывод результата\n",
        "print(result_df)"
      ],
      "metadata": {
        "colab": {
          "base_uri": "https://localhost:8080/"
        },
        "id": "XELF82v2G357",
        "outputId": "1a7bfefa-36e4-440c-f2ce-d99724ccfddc"
      },
      "execution_count": 14,
      "outputs": [
        {
          "output_type": "stream",
          "name": "stdout",
          "text": [
            "Empty DataFrame\n",
            "Columns: [employee_id]\n",
            "Index: []\n"
          ]
        }
      ]
    },
    {
      "cell_type": "code",
      "source": [
        "import pandas as pd\n",
        "\n",
        "def find_employees(employees: pd.DataFrame) -> pd.DataFrame:\n",
        "    # Шаг 1: Убираем строки, где manager_id пустой (NaN)\n",
        "    # .notna() проверяет, что значения в колонке не равны NaN (отсутствующим значениям).\n",
        "    # Мы хотим исключить тех сотрудников, у которых нет менеджера (manager_id пустой).\n",
        "    not_null_managers = employees[employees['manager_id'].notna()]\n",
        "\n",
        "    # Шаг 2: Проверяем, что manager_id не входит в список employee_id\n",
        "    # .isin() проверяет, есть ли значения из одного столбца в списке значений другого столбца.\n",
        "    # Здесь мы проверяем, не является ли manager_id (менеджер) сотрудником (employee_id).\n",
        "    # Символ ~ в Pandas используется для отрицания, т.е. выбираем те строки, где manager_id НЕ находится среди employee_id.\n",
        "    no_matching_managers = not_null_managers[~not_null_managers['manager_id'].isin(employees['employee_id'])]\n",
        "\n",
        "    # Шаг 3: Оставляем сотрудников, чья зарплата меньше 30000\n",
        "    # Логическое условие (employees['salary'] < 30000) фильтрует строки, где значение зарплаты меньше 30000.\n",
        "    # Это простое условие, которое проверяет каждую строку и оставляет только те, где зарплата меньше указанной суммы.\n",
        "    low_salary_employees = no_matching_managers[no_matching_managers['salary'] < 30000]\n",
        "\n",
        "    # Шаг 4: Сортируем сотрудников по возрастанию employee_id\n",
        "    # .sort_values('employee_id') сортирует строки DataFrame по значению столбца 'employee_id'.\n",
        "    # По умолчанию сортировка происходит в порядке возрастания (от меньшего к большему).\n",
        "    sorted_employees = low_salary_employees.sort_values('employee_id')\n",
        "\n",
        "    # Шаг 5: Возвращаем только столбец employee_id\n",
        "    # Возвращаем результат, содержащий только один столбец — employee_id.\n",
        "    # [['employee_id']] выбирает только этот столбец для вывода результата.\n",
        "    return sorted_employees[['employee_id']]"
      ],
      "metadata": {
        "id": "YnBAk-BNff3Q"
      },
      "execution_count": 5,
      "outputs": []
    },
    {
      "cell_type": "code",
      "source": [
        "# Пример данных в формате словаря\n",
        "data = {\n",
        "    'employee_id': [3, 12, 13, 1, 9, 11],\n",
        "    'name': ['Mila', 'Antonella', 'Emery', 'Kalel', 'Mikaela', 'Joziah'],\n",
        "    'manager_id': [9, None, None, 11, None, 6],\n",
        "    'salary': [60301, 31000, 67084, 21241, 50937, 28485]\n",
        "}\n",
        "\n",
        "# Создание DataFrame\n",
        "df = pd.DataFrame(data)\n",
        "\n",
        "# Вызов функции для поиска сотрудников, соответствующих условиям\n",
        "result_df = find_employees(df)\n",
        "\n",
        "# Вывод результата\n",
        "print(result_df)"
      ],
      "metadata": {
        "colab": {
          "base_uri": "https://localhost:8080/"
        },
        "id": "BQEeyKdPmuee",
        "outputId": "bfb2fd54-8bd4-4ed9-ca80-0207766281b5"
      },
      "execution_count": 16,
      "outputs": [
        {
          "output_type": "stream",
          "name": "stdout",
          "text": [
            "   employee_id\n",
            "5           11\n"
          ]
        }
      ]
    }
  ]
}